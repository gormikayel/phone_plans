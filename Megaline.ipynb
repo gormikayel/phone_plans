{
 "cells": [
  {
   "cell_type": "markdown",
   "metadata": {},
   "source": [
    "# Which one is a better plan?\n",
    "\n",
    "The company  Megaline offers its clients two prepaid plans, Surf and Ultimate. The commercial department wants to know which of the plans brings in more revenue in order to adjust the advertising budget.\n",
    "\n",
    "Carry out a preliminary analysis of the plans based on a relatively small client selection. The data is on 500 Megaline clients: who the clients are, where they're from, which plan they use, and the number of calls they made and text messages they sent in 2018. Your job is to analyze the clients' behavior and determine which prepaid plan brings in more revenue."
   ]
  },
  {
   "cell_type": "markdown",
   "metadata": {},
   "source": [
    "## Initialization"
   ]
  },
  {
   "cell_type": "code",
   "execution_count": 1,
   "metadata": {},
   "outputs": [],
   "source": [
    "# Loading all the libraries\n",
    "import pandas as pd\n",
    "import numpy as np\n",
    "import matplotlib.pyplot as plt\n",
    "import seaborn as sns\n",
    "from datetime import datetime\n",
    "import matplotlib.style as style \n",
    "from scipy import stats as st\n",
    "%matplotlib inline\n"
   ]
  },
  {
   "cell_type": "markdown",
   "metadata": {},
   "source": [
    "## Load data"
   ]
  },
  {
   "cell_type": "code",
   "execution_count": 2,
   "metadata": {},
   "outputs": [],
   "source": [
    "# Load the data files into different DataFrames\n",
    "\n",
    "# defining the location of the datasets\n",
    "path = \"https://code.s3.yandex.net/\"\n",
    "\n",
    "# reading the datasets\n",
    "calls = pd.read_csv(path +'/datasets/megaline_calls.csv')\n",
    "internet = pd.read_csv(path +'/datasets/megaline_internet.csv')\n",
    "messages = pd.read_csv(path +'/datasets/megaline_messages.csv')\n",
    "plans = pd.read_csv(path +'/datasets/megaline_plans.csv') # These are just the plans that are offered\n",
    "users = pd.read_csv(path +'/datasets/megaline_users.csv')"
   ]
  },
  {
   "cell_type": "markdown",
   "metadata": {},
   "source": [
    "## Prepare the data"
   ]
  },
  {
   "cell_type": "markdown",
   "metadata": {},
   "source": [
    "Explore each dataframe to get an initial understanding of the data."
   ]
  },
  {
   "cell_type": "code",
   "execution_count": 3,
   "metadata": {},
   "outputs": [],
   "source": [
    "dataframes = {\n",
    "                     \"calls\":calls, \n",
    "                     \"internet\":internet, \n",
    "                     \"messages\":messages, \n",
    "                     \"plans\":plans, \n",
    "                     \"users\":users\n",
    "                    }"
   ]
  },
  {
   "cell_type": "code",
   "execution_count": 4,
   "metadata": {},
   "outputs": [
    {
     "name": "stdout",
     "output_type": "stream",
     "text": [
      "calls (137735, 4)\n",
      "internet (104825, 4)\n",
      "messages (76051, 3)\n",
      "plans (2, 8)\n",
      "users (500, 8)\n"
     ]
    }
   ],
   "source": [
    "# Checking the shapes\n",
    "for name, df in dataframes.items():\n",
    "    print(f\"{name} {df.shape}\")"
   ]
  },
  {
   "cell_type": "code",
   "execution_count": 5,
   "metadata": {},
   "outputs": [
    {
     "name": "stdout",
     "output_type": "stream",
     "text": [
      "calls\n",
      " \n",
      "<class 'pandas.core.frame.DataFrame'>\n",
      "RangeIndex: 137735 entries, 0 to 137734\n",
      "Data columns (total 4 columns):\n",
      " #   Column     Non-Null Count   Dtype  \n",
      "---  ------     --------------   -----  \n",
      " 0   id         137735 non-null  object \n",
      " 1   user_id    137735 non-null  int64  \n",
      " 2   call_date  137735 non-null  object \n",
      " 3   duration   137735 non-null  float64\n",
      "dtypes: float64(1), int64(1), object(2)\n",
      "memory usage: 4.2+ MB\n",
      " \n",
      "internet\n",
      " \n",
      "<class 'pandas.core.frame.DataFrame'>\n",
      "RangeIndex: 104825 entries, 0 to 104824\n",
      "Data columns (total 4 columns):\n",
      " #   Column        Non-Null Count   Dtype  \n",
      "---  ------        --------------   -----  \n",
      " 0   id            104825 non-null  object \n",
      " 1   user_id       104825 non-null  int64  \n",
      " 2   session_date  104825 non-null  object \n",
      " 3   mb_used       104825 non-null  float64\n",
      "dtypes: float64(1), int64(1), object(2)\n",
      "memory usage: 3.2+ MB\n",
      " \n",
      "messages\n",
      " \n",
      "<class 'pandas.core.frame.DataFrame'>\n",
      "RangeIndex: 76051 entries, 0 to 76050\n",
      "Data columns (total 3 columns):\n",
      " #   Column        Non-Null Count  Dtype \n",
      "---  ------        --------------  ----- \n",
      " 0   id            76051 non-null  object\n",
      " 1   user_id       76051 non-null  int64 \n",
      " 2   message_date  76051 non-null  object\n",
      "dtypes: int64(1), object(2)\n",
      "memory usage: 1.7+ MB\n",
      " \n",
      "plans\n",
      " \n",
      "<class 'pandas.core.frame.DataFrame'>\n",
      "RangeIndex: 2 entries, 0 to 1\n",
      "Data columns (total 8 columns):\n",
      " #   Column                 Non-Null Count  Dtype  \n",
      "---  ------                 --------------  -----  \n",
      " 0   messages_included      2 non-null      int64  \n",
      " 1   mb_per_month_included  2 non-null      int64  \n",
      " 2   minutes_included       2 non-null      int64  \n",
      " 3   usd_monthly_pay        2 non-null      int64  \n",
      " 4   usd_per_gb             2 non-null      int64  \n",
      " 5   usd_per_message        2 non-null      float64\n",
      " 6   usd_per_minute         2 non-null      float64\n",
      " 7   plan_name              2 non-null      object \n",
      "dtypes: float64(2), int64(5), object(1)\n",
      "memory usage: 256.0+ bytes\n",
      " \n",
      "users\n",
      " \n",
      "<class 'pandas.core.frame.DataFrame'>\n",
      "RangeIndex: 500 entries, 0 to 499\n",
      "Data columns (total 8 columns):\n",
      " #   Column      Non-Null Count  Dtype \n",
      "---  ------      --------------  ----- \n",
      " 0   user_id     500 non-null    int64 \n",
      " 1   first_name  500 non-null    object\n",
      " 2   last_name   500 non-null    object\n",
      " 3   age         500 non-null    int64 \n",
      " 4   city        500 non-null    object\n",
      " 5   reg_date    500 non-null    object\n",
      " 6   plan        500 non-null    object\n",
      " 7   churn_date  34 non-null     object\n",
      "dtypes: int64(2), object(6)\n",
      "memory usage: 31.4+ KB\n",
      " \n"
     ]
    }
   ],
   "source": [
    "# Checking info\n",
    "for name, df in dataframes.items():\n",
    "    print(f\"{name}\")\n",
    "    print(\" \")\n",
    "    df.info()\n",
    "    print(\" \")"
   ]
  },
  {
   "cell_type": "code",
   "execution_count": 6,
   "metadata": {},
   "outputs": [
    {
     "name": "stdout",
     "output_type": "stream",
     "text": [
      "calls\n"
     ]
    },
    {
     "data": {
      "text/html": [
       "<div>\n",
       "<style scoped>\n",
       "    .dataframe tbody tr th:only-of-type {\n",
       "        vertical-align: middle;\n",
       "    }\n",
       "\n",
       "    .dataframe tbody tr th {\n",
       "        vertical-align: top;\n",
       "    }\n",
       "\n",
       "    .dataframe thead th {\n",
       "        text-align: right;\n",
       "    }\n",
       "</style>\n",
       "<table border=\"1\" class=\"dataframe\">\n",
       "  <thead>\n",
       "    <tr style=\"text-align: right;\">\n",
       "      <th></th>\n",
       "      <th>id</th>\n",
       "      <th>user_id</th>\n",
       "      <th>call_date</th>\n",
       "      <th>duration</th>\n",
       "    </tr>\n",
       "  </thead>\n",
       "  <tbody>\n",
       "    <tr>\n",
       "      <th>129997</th>\n",
       "      <td>1467_233</td>\n",
       "      <td>1467</td>\n",
       "      <td>2018-07-23</td>\n",
       "      <td>0.00</td>\n",
       "    </tr>\n",
       "    <tr>\n",
       "      <th>68031</th>\n",
       "      <td>1246_50</td>\n",
       "      <td>1246</td>\n",
       "      <td>2018-02-10</td>\n",
       "      <td>10.98</td>\n",
       "    </tr>\n",
       "  </tbody>\n",
       "</table>\n",
       "</div>"
      ],
      "text/plain": [
       "              id  user_id   call_date  duration\n",
       "129997  1467_233     1467  2018-07-23      0.00\n",
       "68031    1246_50     1246  2018-02-10     10.98"
      ]
     },
     "metadata": {},
     "output_type": "display_data"
    },
    {
     "name": "stdout",
     "output_type": "stream",
     "text": [
      " \n",
      "internet\n"
     ]
    },
    {
     "data": {
      "text/html": [
       "<div>\n",
       "<style scoped>\n",
       "    .dataframe tbody tr th:only-of-type {\n",
       "        vertical-align: middle;\n",
       "    }\n",
       "\n",
       "    .dataframe tbody tr th {\n",
       "        vertical-align: top;\n",
       "    }\n",
       "\n",
       "    .dataframe thead th {\n",
       "        text-align: right;\n",
       "    }\n",
       "</style>\n",
       "<table border=\"1\" class=\"dataframe\">\n",
       "  <thead>\n",
       "    <tr style=\"text-align: right;\">\n",
       "      <th></th>\n",
       "      <th>id</th>\n",
       "      <th>user_id</th>\n",
       "      <th>session_date</th>\n",
       "      <th>mb_used</th>\n",
       "    </tr>\n",
       "  </thead>\n",
       "  <tbody>\n",
       "    <tr>\n",
       "      <th>9991</th>\n",
       "      <td>1050_414</td>\n",
       "      <td>1050</td>\n",
       "      <td>2018-08-30</td>\n",
       "      <td>387.08</td>\n",
       "    </tr>\n",
       "    <tr>\n",
       "      <th>101197</th>\n",
       "      <td>1482_41</td>\n",
       "      <td>1482</td>\n",
       "      <td>2018-11-16</td>\n",
       "      <td>385.00</td>\n",
       "    </tr>\n",
       "  </tbody>\n",
       "</table>\n",
       "</div>"
      ],
      "text/plain": [
       "              id  user_id session_date  mb_used\n",
       "9991    1050_414     1050   2018-08-30   387.08\n",
       "101197   1482_41     1482   2018-11-16   385.00"
      ]
     },
     "metadata": {},
     "output_type": "display_data"
    },
    {
     "name": "stdout",
     "output_type": "stream",
     "text": [
      " \n",
      "messages\n"
     ]
    },
    {
     "data": {
      "text/html": [
       "<div>\n",
       "<style scoped>\n",
       "    .dataframe tbody tr th:only-of-type {\n",
       "        vertical-align: middle;\n",
       "    }\n",
       "\n",
       "    .dataframe tbody tr th {\n",
       "        vertical-align: top;\n",
       "    }\n",
       "\n",
       "    .dataframe thead th {\n",
       "        text-align: right;\n",
       "    }\n",
       "</style>\n",
       "<table border=\"1\" class=\"dataframe\">\n",
       "  <thead>\n",
       "    <tr style=\"text-align: right;\">\n",
       "      <th></th>\n",
       "      <th>id</th>\n",
       "      <th>user_id</th>\n",
       "      <th>message_date</th>\n",
       "    </tr>\n",
       "  </thead>\n",
       "  <tbody>\n",
       "    <tr>\n",
       "      <th>14281</th>\n",
       "      <td>1098_300</td>\n",
       "      <td>1098</td>\n",
       "      <td>2018-11-02</td>\n",
       "    </tr>\n",
       "    <tr>\n",
       "      <th>62236</th>\n",
       "      <td>1392_11</td>\n",
       "      <td>1392</td>\n",
       "      <td>2018-12-14</td>\n",
       "    </tr>\n",
       "  </tbody>\n",
       "</table>\n",
       "</div>"
      ],
      "text/plain": [
       "             id  user_id message_date\n",
       "14281  1098_300     1098   2018-11-02\n",
       "62236   1392_11     1392   2018-12-14"
      ]
     },
     "metadata": {},
     "output_type": "display_data"
    },
    {
     "name": "stdout",
     "output_type": "stream",
     "text": [
      " \n",
      "plans\n"
     ]
    },
    {
     "data": {
      "text/html": [
       "<div>\n",
       "<style scoped>\n",
       "    .dataframe tbody tr th:only-of-type {\n",
       "        vertical-align: middle;\n",
       "    }\n",
       "\n",
       "    .dataframe tbody tr th {\n",
       "        vertical-align: top;\n",
       "    }\n",
       "\n",
       "    .dataframe thead th {\n",
       "        text-align: right;\n",
       "    }\n",
       "</style>\n",
       "<table border=\"1\" class=\"dataframe\">\n",
       "  <thead>\n",
       "    <tr style=\"text-align: right;\">\n",
       "      <th></th>\n",
       "      <th>messages_included</th>\n",
       "      <th>mb_per_month_included</th>\n",
       "      <th>minutes_included</th>\n",
       "      <th>usd_monthly_pay</th>\n",
       "      <th>usd_per_gb</th>\n",
       "      <th>usd_per_message</th>\n",
       "      <th>usd_per_minute</th>\n",
       "      <th>plan_name</th>\n",
       "    </tr>\n",
       "  </thead>\n",
       "  <tbody>\n",
       "    <tr>\n",
       "      <th>1</th>\n",
       "      <td>1000</td>\n",
       "      <td>30720</td>\n",
       "      <td>3000</td>\n",
       "      <td>70</td>\n",
       "      <td>7</td>\n",
       "      <td>0.01</td>\n",
       "      <td>0.01</td>\n",
       "      <td>ultimate</td>\n",
       "    </tr>\n",
       "    <tr>\n",
       "      <th>0</th>\n",
       "      <td>50</td>\n",
       "      <td>15360</td>\n",
       "      <td>500</td>\n",
       "      <td>20</td>\n",
       "      <td>10</td>\n",
       "      <td>0.03</td>\n",
       "      <td>0.03</td>\n",
       "      <td>surf</td>\n",
       "    </tr>\n",
       "  </tbody>\n",
       "</table>\n",
       "</div>"
      ],
      "text/plain": [
       "   messages_included  mb_per_month_included  minutes_included  \\\n",
       "1               1000                  30720              3000   \n",
       "0                 50                  15360               500   \n",
       "\n",
       "   usd_monthly_pay  usd_per_gb  usd_per_message  usd_per_minute plan_name  \n",
       "1               70           7             0.01            0.01  ultimate  \n",
       "0               20          10             0.03            0.03      surf  "
      ]
     },
     "metadata": {},
     "output_type": "display_data"
    },
    {
     "name": "stdout",
     "output_type": "stream",
     "text": [
      " \n",
      "users\n"
     ]
    },
    {
     "data": {
      "text/html": [
       "<div>\n",
       "<style scoped>\n",
       "    .dataframe tbody tr th:only-of-type {\n",
       "        vertical-align: middle;\n",
       "    }\n",
       "\n",
       "    .dataframe tbody tr th {\n",
       "        vertical-align: top;\n",
       "    }\n",
       "\n",
       "    .dataframe thead th {\n",
       "        text-align: right;\n",
       "    }\n",
       "</style>\n",
       "<table border=\"1\" class=\"dataframe\">\n",
       "  <thead>\n",
       "    <tr style=\"text-align: right;\">\n",
       "      <th></th>\n",
       "      <th>user_id</th>\n",
       "      <th>first_name</th>\n",
       "      <th>last_name</th>\n",
       "      <th>age</th>\n",
       "      <th>city</th>\n",
       "      <th>reg_date</th>\n",
       "      <th>plan</th>\n",
       "      <th>churn_date</th>\n",
       "    </tr>\n",
       "  </thead>\n",
       "  <tbody>\n",
       "    <tr>\n",
       "      <th>440</th>\n",
       "      <td>1440</td>\n",
       "      <td>France</td>\n",
       "      <td>Barrett</td>\n",
       "      <td>49</td>\n",
       "      <td>Nashville-Davidson–Murfreesboro–Franklin, TN MSA</td>\n",
       "      <td>2018-04-16</td>\n",
       "      <td>surf</td>\n",
       "      <td>NaN</td>\n",
       "    </tr>\n",
       "    <tr>\n",
       "      <th>186</th>\n",
       "      <td>1186</td>\n",
       "      <td>Josiah</td>\n",
       "      <td>Douglas</td>\n",
       "      <td>55</td>\n",
       "      <td>Las Vegas-Henderson-Paradise, NV MSA</td>\n",
       "      <td>2018-12-22</td>\n",
       "      <td>ultimate</td>\n",
       "      <td>2018-12-31</td>\n",
       "    </tr>\n",
       "  </tbody>\n",
       "</table>\n",
       "</div>"
      ],
      "text/plain": [
       "     user_id first_name last_name  age  \\\n",
       "440     1440     France   Barrett   49   \n",
       "186     1186     Josiah   Douglas   55   \n",
       "\n",
       "                                                 city    reg_date      plan  \\\n",
       "440  Nashville-Davidson–Murfreesboro–Franklin, TN MSA  2018-04-16      surf   \n",
       "186              Las Vegas-Henderson-Paradise, NV MSA  2018-12-22  ultimate   \n",
       "\n",
       "     churn_date  \n",
       "440         NaN  \n",
       "186  2018-12-31  "
      ]
     },
     "metadata": {},
     "output_type": "display_data"
    },
    {
     "name": "stdout",
     "output_type": "stream",
     "text": [
      " \n"
     ]
    }
   ],
   "source": [
    "# Looking at each datasets \n",
    "for name, df in dataframes.items():\n",
    "    print(f\"{name}\")\n",
    "    display(df.sample(2))\n",
    "    print(' ')"
   ]
  },
  {
   "cell_type": "markdown",
   "metadata": {},
   "source": [
    "Comments:   \n",
    "* All dates should be converted to date time format  \n",
    "* NaN values - churn date  \n",
    "* User ids - useful for merging the datasets accordingly  "
   ]
  },
  {
   "cell_type": "markdown",
   "metadata": {},
   "source": [
    "## Plans"
   ]
  },
  {
   "cell_type": "code",
   "execution_count": 7,
   "metadata": {},
   "outputs": [
    {
     "name": "stdout",
     "output_type": "stream",
     "text": [
      "<class 'pandas.core.frame.DataFrame'>\n",
      "RangeIndex: 2 entries, 0 to 1\n",
      "Data columns (total 8 columns):\n",
      " #   Column                 Non-Null Count  Dtype  \n",
      "---  ------                 --------------  -----  \n",
      " 0   messages_included      2 non-null      int64  \n",
      " 1   mb_per_month_included  2 non-null      int64  \n",
      " 2   minutes_included       2 non-null      int64  \n",
      " 3   usd_monthly_pay        2 non-null      int64  \n",
      " 4   usd_per_gb             2 non-null      int64  \n",
      " 5   usd_per_message        2 non-null      float64\n",
      " 6   usd_per_minute         2 non-null      float64\n",
      " 7   plan_name              2 non-null      object \n",
      "dtypes: float64(2), int64(5), object(1)\n",
      "memory usage: 256.0+ bytes\n"
     ]
    }
   ],
   "source": [
    "# Print the general/summary information about the plans' DataFrame\n",
    "plans.info()"
   ]
  },
  {
   "cell_type": "code",
   "execution_count": 8,
   "metadata": {},
   "outputs": [
    {
     "data": {
      "text/html": [
       "<div>\n",
       "<style scoped>\n",
       "    .dataframe tbody tr th:only-of-type {\n",
       "        vertical-align: middle;\n",
       "    }\n",
       "\n",
       "    .dataframe tbody tr th {\n",
       "        vertical-align: top;\n",
       "    }\n",
       "\n",
       "    .dataframe thead th {\n",
       "        text-align: right;\n",
       "    }\n",
       "</style>\n",
       "<table border=\"1\" class=\"dataframe\">\n",
       "  <thead>\n",
       "    <tr style=\"text-align: right;\">\n",
       "      <th></th>\n",
       "      <th>messages_included</th>\n",
       "      <th>mb_per_month_included</th>\n",
       "      <th>minutes_included</th>\n",
       "      <th>usd_monthly_pay</th>\n",
       "      <th>usd_per_gb</th>\n",
       "      <th>usd_per_message</th>\n",
       "      <th>usd_per_minute</th>\n",
       "      <th>plan_name</th>\n",
       "    </tr>\n",
       "  </thead>\n",
       "  <tbody>\n",
       "    <tr>\n",
       "      <th>0</th>\n",
       "      <td>50</td>\n",
       "      <td>15360</td>\n",
       "      <td>500</td>\n",
       "      <td>20</td>\n",
       "      <td>10</td>\n",
       "      <td>0.03</td>\n",
       "      <td>0.03</td>\n",
       "      <td>surf</td>\n",
       "    </tr>\n",
       "    <tr>\n",
       "      <th>1</th>\n",
       "      <td>1000</td>\n",
       "      <td>30720</td>\n",
       "      <td>3000</td>\n",
       "      <td>70</td>\n",
       "      <td>7</td>\n",
       "      <td>0.01</td>\n",
       "      <td>0.01</td>\n",
       "      <td>ultimate</td>\n",
       "    </tr>\n",
       "  </tbody>\n",
       "</table>\n",
       "</div>"
      ],
      "text/plain": [
       "   messages_included  mb_per_month_included  minutes_included  \\\n",
       "0                 50                  15360               500   \n",
       "1               1000                  30720              3000   \n",
       "\n",
       "   usd_monthly_pay  usd_per_gb  usd_per_message  usd_per_minute plan_name  \n",
       "0               20          10             0.03            0.03      surf  \n",
       "1               70           7             0.01            0.01  ultimate  "
      ]
     },
     "execution_count": 8,
     "metadata": {},
     "output_type": "execute_result"
    }
   ],
   "source": [
    "# Print a sample of data for plans\n",
    "plans.sample(2)"
   ]
  },
  {
   "cell_type": "markdown",
   "metadata": {},
   "source": [
    "This is just the available plans. There is nothing that needs to be fixed here."
   ]
  },
  {
   "cell_type": "markdown",
   "metadata": {},
   "source": [
    " "
   ]
  },
  {
   "cell_type": "markdown",
   "metadata": {},
   "source": [
    "## Fix data -- All Date_time columns for all datasets"
   ]
  },
  {
   "cell_type": "markdown",
   "metadata": {},
   "source": [
    "Fix obvious issues with the data given the initial observations."
   ]
  },
  {
   "cell_type": "code",
   "execution_count": 9,
   "metadata": {},
   "outputs": [],
   "source": [
    "# Date-time\n",
    "calls['call_date'] = pd.to_datetime(calls['call_date'], format = '%Y-%m-%d')\n",
    "internet[\"session_date\"] = pd.to_datetime(internet[\"session_date\"], format='%Y-%m-%d')\n",
    "messages[\"message_date\"] = pd.to_datetime(messages[\"message_date\"], format='%Y-%m-%d')\n",
    "users[['reg_date','churn_date']] = users[['reg_date','churn_date']].apply(pd.to_datetime, format='%Y-%m-%d')"
   ]
  },
  {
   "cell_type": "markdown",
   "metadata": {},
   "source": [
    "I've fixed all the date_time format issues in the cell above.  \n",
    "I will address individual fixes in the following sections as necessary."
   ]
  },
  {
   "cell_type": "markdown",
   "metadata": {},
   "source": [
    "## Users"
   ]
  },
  {
   "cell_type": "code",
   "execution_count": 10,
   "metadata": {},
   "outputs": [
    {
     "name": "stdout",
     "output_type": "stream",
     "text": [
      "<class 'pandas.core.frame.DataFrame'>\n",
      "RangeIndex: 500 entries, 0 to 499\n",
      "Data columns (total 8 columns):\n",
      " #   Column      Non-Null Count  Dtype         \n",
      "---  ------      --------------  -----         \n",
      " 0   user_id     500 non-null    int64         \n",
      " 1   first_name  500 non-null    object        \n",
      " 2   last_name   500 non-null    object        \n",
      " 3   age         500 non-null    int64         \n",
      " 4   city        500 non-null    object        \n",
      " 5   reg_date    500 non-null    datetime64[ns]\n",
      " 6   plan        500 non-null    object        \n",
      " 7   churn_date  34 non-null     datetime64[ns]\n",
      "dtypes: datetime64[ns](2), int64(2), object(4)\n",
      "memory usage: 31.4+ KB\n"
     ]
    }
   ],
   "source": [
    "# Print the general/summary information about the users' DataFrame\n",
    "users.info()\n"
   ]
  },
  {
   "cell_type": "code",
   "execution_count": 11,
   "metadata": {},
   "outputs": [
    {
     "data": {
      "text/html": [
       "<div>\n",
       "<style scoped>\n",
       "    .dataframe tbody tr th:only-of-type {\n",
       "        vertical-align: middle;\n",
       "    }\n",
       "\n",
       "    .dataframe tbody tr th {\n",
       "        vertical-align: top;\n",
       "    }\n",
       "\n",
       "    .dataframe thead th {\n",
       "        text-align: right;\n",
       "    }\n",
       "</style>\n",
       "<table border=\"1\" class=\"dataframe\">\n",
       "  <thead>\n",
       "    <tr style=\"text-align: right;\">\n",
       "      <th></th>\n",
       "      <th>user_id</th>\n",
       "      <th>first_name</th>\n",
       "      <th>last_name</th>\n",
       "      <th>age</th>\n",
       "      <th>city</th>\n",
       "      <th>reg_date</th>\n",
       "      <th>plan</th>\n",
       "      <th>churn_date</th>\n",
       "    </tr>\n",
       "  </thead>\n",
       "  <tbody>\n",
       "    <tr>\n",
       "      <th>449</th>\n",
       "      <td>1449</td>\n",
       "      <td>Boyd</td>\n",
       "      <td>Kelley</td>\n",
       "      <td>39</td>\n",
       "      <td>Seattle-Tacoma-Bellevue, WA MSA</td>\n",
       "      <td>2018-10-04</td>\n",
       "      <td>surf</td>\n",
       "      <td>NaT</td>\n",
       "    </tr>\n",
       "    <tr>\n",
       "      <th>465</th>\n",
       "      <td>1465</td>\n",
       "      <td>Arianna</td>\n",
       "      <td>Morrison</td>\n",
       "      <td>73</td>\n",
       "      <td>Pittsburgh, PA MSA</td>\n",
       "      <td>2018-06-22</td>\n",
       "      <td>ultimate</td>\n",
       "      <td>NaT</td>\n",
       "    </tr>\n",
       "    <tr>\n",
       "      <th>479</th>\n",
       "      <td>1479</td>\n",
       "      <td>Keesha</td>\n",
       "      <td>Burnett</td>\n",
       "      <td>44</td>\n",
       "      <td>Riverside-San Bernardino-Ontario, CA MSA</td>\n",
       "      <td>2018-11-12</td>\n",
       "      <td>surf</td>\n",
       "      <td>NaT</td>\n",
       "    </tr>\n",
       "    <tr>\n",
       "      <th>186</th>\n",
       "      <td>1186</td>\n",
       "      <td>Josiah</td>\n",
       "      <td>Douglas</td>\n",
       "      <td>55</td>\n",
       "      <td>Las Vegas-Henderson-Paradise, NV MSA</td>\n",
       "      <td>2018-12-22</td>\n",
       "      <td>ultimate</td>\n",
       "      <td>2018-12-31</td>\n",
       "    </tr>\n",
       "    <tr>\n",
       "      <th>63</th>\n",
       "      <td>1063</td>\n",
       "      <td>Larhonda</td>\n",
       "      <td>Hartman</td>\n",
       "      <td>60</td>\n",
       "      <td>New York-Newark-Jersey City, NY-NJ-PA MSA</td>\n",
       "      <td>2018-11-05</td>\n",
       "      <td>ultimate</td>\n",
       "      <td>NaT</td>\n",
       "    </tr>\n",
       "  </tbody>\n",
       "</table>\n",
       "</div>"
      ],
      "text/plain": [
       "     user_id first_name last_name  age  \\\n",
       "449     1449       Boyd    Kelley   39   \n",
       "465     1465    Arianna  Morrison   73   \n",
       "479     1479     Keesha   Burnett   44   \n",
       "186     1186     Josiah   Douglas   55   \n",
       "63      1063   Larhonda   Hartman   60   \n",
       "\n",
       "                                          city   reg_date      plan churn_date  \n",
       "449            Seattle-Tacoma-Bellevue, WA MSA 2018-10-04      surf        NaT  \n",
       "465                         Pittsburgh, PA MSA 2018-06-22  ultimate        NaT  \n",
       "479   Riverside-San Bernardino-Ontario, CA MSA 2018-11-12      surf        NaT  \n",
       "186       Las Vegas-Henderson-Paradise, NV MSA 2018-12-22  ultimate 2018-12-31  \n",
       "63   New York-Newark-Jersey City, NY-NJ-PA MSA 2018-11-05  ultimate        NaT  "
      ]
     },
     "execution_count": 11,
     "metadata": {},
     "output_type": "execute_result"
    }
   ],
   "source": [
    "# Print a sample of data for users\n",
    "users.sample(5)\n"
   ]
  },
  {
   "cell_type": "markdown",
   "metadata": {},
   "source": [
    "* The apparent issue : NaT values in churn_date  \n",
    "* The churn_date is the date the user stopped using the service. If the value is missing, the calling plan was being used when this database was extracted. For the further analysis we will need to replace 'NaN' with the string 'in use'."
   ]
  },
  {
   "cell_type": "code",
   "execution_count": 12,
   "metadata": {},
   "outputs": [
    {
     "data": {
      "text/html": [
       "<div>\n",
       "<style scoped>\n",
       "    .dataframe tbody tr th:only-of-type {\n",
       "        vertical-align: middle;\n",
       "    }\n",
       "\n",
       "    .dataframe tbody tr th {\n",
       "        vertical-align: top;\n",
       "    }\n",
       "\n",
       "    .dataframe thead th {\n",
       "        text-align: right;\n",
       "    }\n",
       "</style>\n",
       "<table border=\"1\" class=\"dataframe\">\n",
       "  <thead>\n",
       "    <tr style=\"text-align: right;\">\n",
       "      <th></th>\n",
       "      <th>column_name</th>\n",
       "      <th>percent_missing</th>\n",
       "    </tr>\n",
       "  </thead>\n",
       "  <tbody>\n",
       "    <tr>\n",
       "      <th>user_id</th>\n",
       "      <td>user_id</td>\n",
       "      <td>0.0</td>\n",
       "    </tr>\n",
       "    <tr>\n",
       "      <th>first_name</th>\n",
       "      <td>first_name</td>\n",
       "      <td>0.0</td>\n",
       "    </tr>\n",
       "    <tr>\n",
       "      <th>last_name</th>\n",
       "      <td>last_name</td>\n",
       "      <td>0.0</td>\n",
       "    </tr>\n",
       "    <tr>\n",
       "      <th>age</th>\n",
       "      <td>age</td>\n",
       "      <td>0.0</td>\n",
       "    </tr>\n",
       "    <tr>\n",
       "      <th>city</th>\n",
       "      <td>city</td>\n",
       "      <td>0.0</td>\n",
       "    </tr>\n",
       "    <tr>\n",
       "      <th>reg_date</th>\n",
       "      <td>reg_date</td>\n",
       "      <td>0.0</td>\n",
       "    </tr>\n",
       "    <tr>\n",
       "      <th>plan</th>\n",
       "      <td>plan</td>\n",
       "      <td>0.0</td>\n",
       "    </tr>\n",
       "    <tr>\n",
       "      <th>churn_date</th>\n",
       "      <td>churn_date</td>\n",
       "      <td>93.2</td>\n",
       "    </tr>\n",
       "  </tbody>\n",
       "</table>\n",
       "</div>"
      ],
      "text/plain": [
       "           column_name  percent_missing\n",
       "user_id        user_id              0.0\n",
       "first_name  first_name              0.0\n",
       "last_name    last_name              0.0\n",
       "age                age              0.0\n",
       "city              city              0.0\n",
       "reg_date      reg_date              0.0\n",
       "plan              plan              0.0\n",
       "churn_date  churn_date             93.2"
      ]
     },
     "execution_count": 12,
     "metadata": {},
     "output_type": "execute_result"
    }
   ],
   "source": [
    "percent_missing = users.isnull().sum() * 100 / len(users)\n",
    "missing_value_df = pd.DataFrame({'column_name': users.columns,\n",
    "                                 'percent_missing': percent_missing})\n",
    "missing_value_df"
   ]
  },
  {
   "cell_type": "markdown",
   "metadata": {},
   "source": [
    "We will replace missing values in the `churn_date` column with 'in use'. "
   ]
  },
  {
   "cell_type": "markdown",
   "metadata": {},
   "source": [
    " "
   ]
  },
  {
   "cell_type": "markdown",
   "metadata": {},
   "source": [
    "### Fix Data"
   ]
  },
  {
   "cell_type": "markdown",
   "metadata": {},
   "source": [
    "Replace the NaT values"
   ]
  },
  {
   "cell_type": "code",
   "execution_count": 13,
   "metadata": {},
   "outputs": [],
   "source": [
    "users['churn_date'] = users['churn_date'].fillna('in use')"
   ]
  },
  {
   "cell_type": "code",
   "execution_count": 14,
   "metadata": {},
   "outputs": [
    {
     "data": {
      "text/plain": [
       "0"
      ]
     },
     "execution_count": 14,
     "metadata": {},
     "output_type": "execute_result"
    }
   ],
   "source": [
    "users.duplicated().sum()"
   ]
  },
  {
   "cell_type": "markdown",
   "metadata": {},
   "source": [
    "Note: it's more useful to keep all the rows of the given dataset than to drop all with missing values only retaining 7% of the data."
   ]
  },
  {
   "cell_type": "markdown",
   "metadata": {},
   "source": [
    "## Calls"
   ]
  },
  {
   "cell_type": "code",
   "execution_count": 15,
   "metadata": {},
   "outputs": [
    {
     "name": "stdout",
     "output_type": "stream",
     "text": [
      "<class 'pandas.core.frame.DataFrame'>\n",
      "RangeIndex: 137735 entries, 0 to 137734\n",
      "Data columns (total 4 columns):\n",
      " #   Column     Non-Null Count   Dtype         \n",
      "---  ------     --------------   -----         \n",
      " 0   id         137735 non-null  object        \n",
      " 1   user_id    137735 non-null  int64         \n",
      " 2   call_date  137735 non-null  datetime64[ns]\n",
      " 3   duration   137735 non-null  float64       \n",
      "dtypes: datetime64[ns](1), float64(1), int64(1), object(1)\n",
      "memory usage: 4.2+ MB\n"
     ]
    }
   ],
   "source": [
    "# Print the general/summary information about the calls' DataFrame\n",
    "calls.info()\n"
   ]
  },
  {
   "cell_type": "code",
   "execution_count": 16,
   "metadata": {},
   "outputs": [
    {
     "data": {
      "text/html": [
       "<div>\n",
       "<style scoped>\n",
       "    .dataframe tbody tr th:only-of-type {\n",
       "        vertical-align: middle;\n",
       "    }\n",
       "\n",
       "    .dataframe tbody tr th {\n",
       "        vertical-align: top;\n",
       "    }\n",
       "\n",
       "    .dataframe thead th {\n",
       "        text-align: right;\n",
       "    }\n",
       "</style>\n",
       "<table border=\"1\" class=\"dataframe\">\n",
       "  <thead>\n",
       "    <tr style=\"text-align: right;\">\n",
       "      <th></th>\n",
       "      <th>id</th>\n",
       "      <th>user_id</th>\n",
       "      <th>call_date</th>\n",
       "      <th>duration</th>\n",
       "    </tr>\n",
       "  </thead>\n",
       "  <tbody>\n",
       "    <tr>\n",
       "      <th>5987</th>\n",
       "      <td>1029_151</td>\n",
       "      <td>1029</td>\n",
       "      <td>2018-10-21</td>\n",
       "      <td>3.22</td>\n",
       "    </tr>\n",
       "    <tr>\n",
       "      <th>27552</th>\n",
       "      <td>1105_103</td>\n",
       "      <td>1105</td>\n",
       "      <td>2018-12-31</td>\n",
       "      <td>0.00</td>\n",
       "    </tr>\n",
       "    <tr>\n",
       "      <th>92985</th>\n",
       "      <td>1334_353</td>\n",
       "      <td>1334</td>\n",
       "      <td>2018-04-03</td>\n",
       "      <td>18.87</td>\n",
       "    </tr>\n",
       "    <tr>\n",
       "      <th>133822</th>\n",
       "      <td>1485_29</td>\n",
       "      <td>1485</td>\n",
       "      <td>2018-12-30</td>\n",
       "      <td>0.00</td>\n",
       "    </tr>\n",
       "    <tr>\n",
       "      <th>25452</th>\n",
       "      <td>1098_126</td>\n",
       "      <td>1098</td>\n",
       "      <td>2018-09-03</td>\n",
       "      <td>0.00</td>\n",
       "    </tr>\n",
       "  </tbody>\n",
       "</table>\n",
       "</div>"
      ],
      "text/plain": [
       "              id  user_id  call_date  duration\n",
       "5987    1029_151     1029 2018-10-21      3.22\n",
       "27552   1105_103     1105 2018-12-31      0.00\n",
       "92985   1334_353     1334 2018-04-03     18.87\n",
       "133822   1485_29     1485 2018-12-30      0.00\n",
       "25452   1098_126     1098 2018-09-03      0.00"
      ]
     },
     "execution_count": 16,
     "metadata": {},
     "output_type": "execute_result"
    }
   ],
   "source": [
    "# Print a sample of data for calls\n",
    "calls.sample(5)"
   ]
  },
  {
   "cell_type": "markdown",
   "metadata": {},
   "source": [
    "These look fine. Except the 0 durations"
   ]
  },
  {
   "cell_type": "markdown",
   "metadata": {},
   "source": [
    " "
   ]
  },
  {
   "cell_type": "markdown",
   "metadata": {},
   "source": [
    "### Fix data"
   ]
  },
  {
   "cell_type": "markdown",
   "metadata": {},
   "source": [
    "Missing values"
   ]
  },
  {
   "cell_type": "code",
   "execution_count": 17,
   "metadata": {},
   "outputs": [
    {
     "data": {
      "text/plain": [
       "id           0\n",
       "user_id      0\n",
       "call_date    0\n",
       "duration     0\n",
       "dtype: int64"
      ]
     },
     "execution_count": 17,
     "metadata": {},
     "output_type": "execute_result"
    }
   ],
   "source": [
    "calls.isnull().sum()"
   ]
  },
  {
   "cell_type": "code",
   "execution_count": 18,
   "metadata": {},
   "outputs": [
    {
     "data": {
      "text/plain": [
       "0"
      ]
     },
     "execution_count": 18,
     "metadata": {},
     "output_type": "execute_result"
    }
   ],
   "source": [
    "calls.duplicated().sum()"
   ]
  },
  {
   "cell_type": "code",
   "execution_count": 19,
   "metadata": {},
   "outputs": [
    {
     "name": "stdout",
     "output_type": "stream",
     "text": [
      "Printing out the total number of missed calls:\n",
      "duration    26834\n",
      "dtype: int64\n"
     ]
    }
   ],
   "source": [
    "print('Printing out the total number of missed calls:')\n",
    "print(calls.loc[calls['duration'] == 0, ['duration']].count())"
   ]
  },
  {
   "cell_type": "code",
   "execution_count": 20,
   "metadata": {},
   "outputs": [
    {
     "name": "stdout",
     "output_type": "stream",
     "text": [
      "0.00     26834\n",
      "8.37       102\n",
      "4.02       102\n",
      "3.91       101\n",
      "7.61       100\n",
      "         ...  \n",
      "25.53        1\n",
      "29.34        1\n",
      "26.05        1\n",
      "36.24        1\n",
      "27.16        1\n",
      "Name: duration, Length: 2802, dtype: int64\n"
     ]
    }
   ],
   "source": [
    "print(calls['duration'].value_counts(dropna=False))"
   ]
  },
  {
   "cell_type": "code",
   "execution_count": 21,
   "metadata": {},
   "outputs": [
    {
     "name": "stdout",
     "output_type": "stream",
     "text": [
      "0.00     0.194823\n",
      "8.37     0.000741\n",
      "4.02     0.000741\n",
      "3.91     0.000733\n",
      "7.61     0.000726\n",
      "           ...   \n",
      "25.53    0.000007\n",
      "29.34    0.000007\n",
      "26.05    0.000007\n",
      "36.24    0.000007\n",
      "27.16    0.000007\n",
      "Name: duration, Length: 2802, dtype: float64\n",
      "The percentage of 0 min calls is 19.48%\n"
     ]
    }
   ],
   "source": [
    "print(calls['duration'].value_counts(dropna=False, normalize = True))\n",
    "print('The percentage of 0 min calls is 19.48%')\n"
   ]
  },
  {
   "cell_type": "markdown",
   "metadata": {},
   "source": [
    "### Enrich data"
   ]
  },
  {
   "cell_type": "markdown",
   "metadata": {},
   "source": [
    "Round up the duration as per companies policy"
   ]
  },
  {
   "cell_type": "code",
   "execution_count": 22,
   "metadata": {},
   "outputs": [
    {
     "name": "stdout",
     "output_type": "stream",
     "text": [
      "The new duration_rounded column is:\n",
      "0.0     26834\n",
      "6.0      7848\n",
      "5.0      7778\n",
      "7.0      7769\n",
      "8.0      7718\n",
      "4.0      7434\n",
      "9.0      7357\n",
      "3.0      6942\n",
      "10.0     6918\n",
      "2.0      6446\n",
      "11.0     6407\n",
      "1.0      5795\n",
      "12.0     5750\n",
      "13.0     5070\n",
      "14.0     4402\n",
      "15.0     3889\n",
      "16.0     3011\n",
      "17.0     2461\n",
      "18.0     1992\n",
      "19.0     1604\n",
      "20.0     1243\n",
      "21.0      910\n",
      "22.0      671\n",
      "23.0      461\n",
      "24.0      324\n",
      "25.0      235\n",
      "26.0      157\n",
      "27.0      118\n",
      "28.0       62\n",
      "29.0       58\n",
      "30.0       27\n",
      "31.0       18\n",
      "32.0       13\n",
      "33.0        6\n",
      "36.0        3\n",
      "34.0        2\n",
      "38.0        1\n",
      "37.0        1\n",
      "Name: duration, dtype: int64\n"
     ]
    }
   ],
   "source": [
    "calls['duration'] = np.ceil(calls['duration']) \n",
    "print('The new duration_rounded column is:')\n",
    "print(calls['duration'].value_counts(dropna=False))\n"
   ]
  },
  {
   "cell_type": "code",
   "execution_count": 23,
   "metadata": {},
   "outputs": [
    {
     "data": {
      "text/html": [
       "<div>\n",
       "<style scoped>\n",
       "    .dataframe tbody tr th:only-of-type {\n",
       "        vertical-align: middle;\n",
       "    }\n",
       "\n",
       "    .dataframe tbody tr th {\n",
       "        vertical-align: top;\n",
       "    }\n",
       "\n",
       "    .dataframe thead th {\n",
       "        text-align: right;\n",
       "    }\n",
       "</style>\n",
       "<table border=\"1\" class=\"dataframe\">\n",
       "  <thead>\n",
       "    <tr style=\"text-align: right;\">\n",
       "      <th></th>\n",
       "      <th>id</th>\n",
       "      <th>user_id</th>\n",
       "      <th>call_date</th>\n",
       "      <th>duration</th>\n",
       "    </tr>\n",
       "  </thead>\n",
       "  <tbody>\n",
       "    <tr>\n",
       "      <th>136051</th>\n",
       "      <td>1493_213</td>\n",
       "      <td>1493</td>\n",
       "      <td>2018-09-07</td>\n",
       "      <td>10.0</td>\n",
       "    </tr>\n",
       "    <tr>\n",
       "      <th>64418</th>\n",
       "      <td>1232_775</td>\n",
       "      <td>1232</td>\n",
       "      <td>2018-11-25</td>\n",
       "      <td>0.0</td>\n",
       "    </tr>\n",
       "    <tr>\n",
       "      <th>40341</th>\n",
       "      <td>1149_29</td>\n",
       "      <td>1149</td>\n",
       "      <td>2018-10-08</td>\n",
       "      <td>14.0</td>\n",
       "    </tr>\n",
       "    <tr>\n",
       "      <th>34006</th>\n",
       "      <td>1126_967</td>\n",
       "      <td>1126</td>\n",
       "      <td>2018-11-11</td>\n",
       "      <td>1.0</td>\n",
       "    </tr>\n",
       "    <tr>\n",
       "      <th>125107</th>\n",
       "      <td>1440_623</td>\n",
       "      <td>1440</td>\n",
       "      <td>2018-11-22</td>\n",
       "      <td>17.0</td>\n",
       "    </tr>\n",
       "    <tr>\n",
       "      <th>4254</th>\n",
       "      <td>1017_229</td>\n",
       "      <td>1017</td>\n",
       "      <td>2018-12-27</td>\n",
       "      <td>11.0</td>\n",
       "    </tr>\n",
       "    <tr>\n",
       "      <th>92376</th>\n",
       "      <td>1332_32</td>\n",
       "      <td>1332</td>\n",
       "      <td>2018-11-16</td>\n",
       "      <td>12.0</td>\n",
       "    </tr>\n",
       "    <tr>\n",
       "      <th>47911</th>\n",
       "      <td>1173_220</td>\n",
       "      <td>1173</td>\n",
       "      <td>2018-10-22</td>\n",
       "      <td>1.0</td>\n",
       "    </tr>\n",
       "    <tr>\n",
       "      <th>46028</th>\n",
       "      <td>1167_111</td>\n",
       "      <td>1167</td>\n",
       "      <td>2018-07-21</td>\n",
       "      <td>11.0</td>\n",
       "    </tr>\n",
       "    <tr>\n",
       "      <th>1509</th>\n",
       "      <td>1008_150</td>\n",
       "      <td>1008</td>\n",
       "      <td>2018-11-03</td>\n",
       "      <td>5.0</td>\n",
       "    </tr>\n",
       "  </tbody>\n",
       "</table>\n",
       "</div>"
      ],
      "text/plain": [
       "              id  user_id  call_date  duration\n",
       "136051  1493_213     1493 2018-09-07      10.0\n",
       "64418   1232_775     1232 2018-11-25       0.0\n",
       "40341    1149_29     1149 2018-10-08      14.0\n",
       "34006   1126_967     1126 2018-11-11       1.0\n",
       "125107  1440_623     1440 2018-11-22      17.0\n",
       "4254    1017_229     1017 2018-12-27      11.0\n",
       "92376    1332_32     1332 2018-11-16      12.0\n",
       "47911   1173_220     1173 2018-10-22       1.0\n",
       "46028   1167_111     1167 2018-07-21      11.0\n",
       "1509    1008_150     1008 2018-11-03       5.0"
      ]
     },
     "execution_count": 23,
     "metadata": {},
     "output_type": "execute_result"
    }
   ],
   "source": [
    "calls.sample(10)"
   ]
  },
  {
   "cell_type": "markdown",
   "metadata": {},
   "source": [
    "## Messages"
   ]
  },
  {
   "cell_type": "code",
   "execution_count": 24,
   "metadata": {},
   "outputs": [
    {
     "name": "stdout",
     "output_type": "stream",
     "text": [
      "<class 'pandas.core.frame.DataFrame'>\n",
      "RangeIndex: 76051 entries, 0 to 76050\n",
      "Data columns (total 3 columns):\n",
      " #   Column        Non-Null Count  Dtype         \n",
      "---  ------        --------------  -----         \n",
      " 0   id            76051 non-null  object        \n",
      " 1   user_id       76051 non-null  int64         \n",
      " 2   message_date  76051 non-null  datetime64[ns]\n",
      "dtypes: datetime64[ns](1), int64(1), object(1)\n",
      "memory usage: 1.7+ MB\n"
     ]
    }
   ],
   "source": [
    "# Print the general/summary information about the messages' DataFrame\n",
    "messages.info()\n"
   ]
  },
  {
   "cell_type": "code",
   "execution_count": 25,
   "metadata": {},
   "outputs": [
    {
     "data": {
      "text/html": [
       "<div>\n",
       "<style scoped>\n",
       "    .dataframe tbody tr th:only-of-type {\n",
       "        vertical-align: middle;\n",
       "    }\n",
       "\n",
       "    .dataframe tbody tr th {\n",
       "        vertical-align: top;\n",
       "    }\n",
       "\n",
       "    .dataframe thead th {\n",
       "        text-align: right;\n",
       "    }\n",
       "</style>\n",
       "<table border=\"1\" class=\"dataframe\">\n",
       "  <thead>\n",
       "    <tr style=\"text-align: right;\">\n",
       "      <th></th>\n",
       "      <th>id</th>\n",
       "      <th>user_id</th>\n",
       "      <th>message_date</th>\n",
       "    </tr>\n",
       "  </thead>\n",
       "  <tbody>\n",
       "    <tr>\n",
       "      <th>427</th>\n",
       "      <td>1004_97</td>\n",
       "      <td>1004</td>\n",
       "      <td>2018-08-28</td>\n",
       "    </tr>\n",
       "    <tr>\n",
       "      <th>54600</th>\n",
       "      <td>1346_103</td>\n",
       "      <td>1346</td>\n",
       "      <td>2018-11-17</td>\n",
       "    </tr>\n",
       "    <tr>\n",
       "      <th>53696</th>\n",
       "      <td>1340_222</td>\n",
       "      <td>1340</td>\n",
       "      <td>2018-10-30</td>\n",
       "    </tr>\n",
       "    <tr>\n",
       "      <th>42200</th>\n",
       "      <td>1273_150</td>\n",
       "      <td>1273</td>\n",
       "      <td>2018-12-06</td>\n",
       "    </tr>\n",
       "    <tr>\n",
       "      <th>7167</th>\n",
       "      <td>1059_37</td>\n",
       "      <td>1059</td>\n",
       "      <td>2018-08-09</td>\n",
       "    </tr>\n",
       "  </tbody>\n",
       "</table>\n",
       "</div>"
      ],
      "text/plain": [
       "             id  user_id message_date\n",
       "427     1004_97     1004   2018-08-28\n",
       "54600  1346_103     1346   2018-11-17\n",
       "53696  1340_222     1340   2018-10-30\n",
       "42200  1273_150     1273   2018-12-06\n",
       "7167    1059_37     1059   2018-08-09"
      ]
     },
     "execution_count": 25,
     "metadata": {},
     "output_type": "execute_result"
    }
   ],
   "source": [
    "# Print a sample of data for messages\n",
    "messages.sample(5)\n"
   ]
  },
  {
   "cell_type": "markdown",
   "metadata": {},
   "source": [
    "Everything looks good."
   ]
  },
  {
   "cell_type": "markdown",
   "metadata": {},
   "source": [
    " "
   ]
  },
  {
   "cell_type": "markdown",
   "metadata": {},
   "source": [
    "### Fix data"
   ]
  },
  {
   "cell_type": "markdown",
   "metadata": {},
   "source": [
    "Nulls or duplicates - none"
   ]
  },
  {
   "cell_type": "code",
   "execution_count": 26,
   "metadata": {},
   "outputs": [
    {
     "data": {
      "text/plain": [
       "id              0\n",
       "user_id         0\n",
       "message_date    0\n",
       "dtype: int64"
      ]
     },
     "execution_count": 26,
     "metadata": {},
     "output_type": "execute_result"
    }
   ],
   "source": [
    "messages.isnull().sum()"
   ]
  },
  {
   "cell_type": "code",
   "execution_count": 27,
   "metadata": {},
   "outputs": [
    {
     "data": {
      "text/plain": [
       "0"
      ]
     },
     "execution_count": 27,
     "metadata": {},
     "output_type": "execute_result"
    }
   ],
   "source": [
    "messages.duplicated().sum()"
   ]
  },
  {
   "cell_type": "markdown",
   "metadata": {},
   "source": [
    "## Internet"
   ]
  },
  {
   "cell_type": "code",
   "execution_count": 28,
   "metadata": {},
   "outputs": [
    {
     "name": "stdout",
     "output_type": "stream",
     "text": [
      "<class 'pandas.core.frame.DataFrame'>\n",
      "RangeIndex: 104825 entries, 0 to 104824\n",
      "Data columns (total 4 columns):\n",
      " #   Column        Non-Null Count   Dtype         \n",
      "---  ------        --------------   -----         \n",
      " 0   id            104825 non-null  object        \n",
      " 1   user_id       104825 non-null  int64         \n",
      " 2   session_date  104825 non-null  datetime64[ns]\n",
      " 3   mb_used       104825 non-null  float64       \n",
      "dtypes: datetime64[ns](1), float64(1), int64(1), object(1)\n",
      "memory usage: 3.2+ MB\n"
     ]
    }
   ],
   "source": [
    "# Print the general/summary information about the internet DataFrame\n",
    "internet.info()\n"
   ]
  },
  {
   "cell_type": "code",
   "execution_count": 29,
   "metadata": {},
   "outputs": [
    {
     "data": {
      "text/html": [
       "<div>\n",
       "<style scoped>\n",
       "    .dataframe tbody tr th:only-of-type {\n",
       "        vertical-align: middle;\n",
       "    }\n",
       "\n",
       "    .dataframe tbody tr th {\n",
       "        vertical-align: top;\n",
       "    }\n",
       "\n",
       "    .dataframe thead th {\n",
       "        text-align: right;\n",
       "    }\n",
       "</style>\n",
       "<table border=\"1\" class=\"dataframe\">\n",
       "  <thead>\n",
       "    <tr style=\"text-align: right;\">\n",
       "      <th></th>\n",
       "      <th>id</th>\n",
       "      <th>user_id</th>\n",
       "      <th>session_date</th>\n",
       "      <th>mb_used</th>\n",
       "    </tr>\n",
       "  </thead>\n",
       "  <tbody>\n",
       "    <tr>\n",
       "      <th>69025</th>\n",
       "      <td>1321_567</td>\n",
       "      <td>1321</td>\n",
       "      <td>2018-06-28</td>\n",
       "      <td>0.00</td>\n",
       "    </tr>\n",
       "    <tr>\n",
       "      <th>27818</th>\n",
       "      <td>1127_656</td>\n",
       "      <td>1127</td>\n",
       "      <td>2018-06-25</td>\n",
       "      <td>228.39</td>\n",
       "    </tr>\n",
       "    <tr>\n",
       "      <th>13738</th>\n",
       "      <td>1064_186</td>\n",
       "      <td>1064</td>\n",
       "      <td>2018-08-21</td>\n",
       "      <td>0.00</td>\n",
       "    </tr>\n",
       "    <tr>\n",
       "      <th>84193</th>\n",
       "      <td>1392_161</td>\n",
       "      <td>1392</td>\n",
       "      <td>2018-10-24</td>\n",
       "      <td>229.56</td>\n",
       "    </tr>\n",
       "    <tr>\n",
       "      <th>2531</th>\n",
       "      <td>1011_271</td>\n",
       "      <td>1011</td>\n",
       "      <td>2018-10-30</td>\n",
       "      <td>0.00</td>\n",
       "    </tr>\n",
       "  </tbody>\n",
       "</table>\n",
       "</div>"
      ],
      "text/plain": [
       "             id  user_id session_date  mb_used\n",
       "69025  1321_567     1321   2018-06-28     0.00\n",
       "27818  1127_656     1127   2018-06-25   228.39\n",
       "13738  1064_186     1064   2018-08-21     0.00\n",
       "84193  1392_161     1392   2018-10-24   229.56\n",
       "2531   1011_271     1011   2018-10-30     0.00"
      ]
     },
     "execution_count": 29,
     "metadata": {},
     "output_type": "execute_result"
    }
   ],
   "source": [
    "# Print a sample of data for the internet traffic\n",
    "internet.sample(5)\n"
   ]
  },
  {
   "cell_type": "markdown",
   "metadata": {},
   "source": [
    "Looks fine with no apparent quality issues."
   ]
  },
  {
   "cell_type": "markdown",
   "metadata": {},
   "source": [
    " "
   ]
  },
  {
   "cell_type": "markdown",
   "metadata": {},
   "source": [
    "### Fix data"
   ]
  },
  {
   "cell_type": "markdown",
   "metadata": {},
   "source": [
    "No nulls or duplicates"
   ]
  },
  {
   "cell_type": "code",
   "execution_count": 30,
   "metadata": {},
   "outputs": [
    {
     "data": {
      "text/plain": [
       "id              0\n",
       "user_id         0\n",
       "session_date    0\n",
       "mb_used         0\n",
       "dtype: int64"
      ]
     },
     "execution_count": 30,
     "metadata": {},
     "output_type": "execute_result"
    }
   ],
   "source": [
    "internet.isnull().sum()"
   ]
  },
  {
   "cell_type": "code",
   "execution_count": 31,
   "metadata": {},
   "outputs": [
    {
     "data": {
      "text/plain": [
       "0"
      ]
     },
     "execution_count": 31,
     "metadata": {},
     "output_type": "execute_result"
    }
   ],
   "source": [
    "internet.duplicated().sum()"
   ]
  },
  {
   "cell_type": "markdown",
   "metadata": {},
   "source": [
    "## Study plan conditions"
   ]
  },
  {
   "cell_type": "markdown",
   "metadata": {},
   "source": [
    "How do the plans works?"
   ]
  },
  {
   "cell_type": "code",
   "execution_count": 32,
   "metadata": {},
   "outputs": [
    {
     "data": {
      "text/html": [
       "<div>\n",
       "<style scoped>\n",
       "    .dataframe tbody tr th:only-of-type {\n",
       "        vertical-align: middle;\n",
       "    }\n",
       "\n",
       "    .dataframe tbody tr th {\n",
       "        vertical-align: top;\n",
       "    }\n",
       "\n",
       "    .dataframe thead th {\n",
       "        text-align: right;\n",
       "    }\n",
       "</style>\n",
       "<table border=\"1\" class=\"dataframe\">\n",
       "  <thead>\n",
       "    <tr style=\"text-align: right;\">\n",
       "      <th></th>\n",
       "      <th>messages_included</th>\n",
       "      <th>mb_per_month_included</th>\n",
       "      <th>minutes_included</th>\n",
       "      <th>usd_monthly_pay</th>\n",
       "      <th>usd_per_gb</th>\n",
       "      <th>usd_per_message</th>\n",
       "      <th>usd_per_minute</th>\n",
       "      <th>plan_name</th>\n",
       "    </tr>\n",
       "  </thead>\n",
       "  <tbody>\n",
       "    <tr>\n",
       "      <th>0</th>\n",
       "      <td>50</td>\n",
       "      <td>15360</td>\n",
       "      <td>500</td>\n",
       "      <td>20</td>\n",
       "      <td>10</td>\n",
       "      <td>0.03</td>\n",
       "      <td>0.03</td>\n",
       "      <td>surf</td>\n",
       "    </tr>\n",
       "    <tr>\n",
       "      <th>1</th>\n",
       "      <td>1000</td>\n",
       "      <td>30720</td>\n",
       "      <td>3000</td>\n",
       "      <td>70</td>\n",
       "      <td>7</td>\n",
       "      <td>0.01</td>\n",
       "      <td>0.01</td>\n",
       "      <td>ultimate</td>\n",
       "    </tr>\n",
       "  </tbody>\n",
       "</table>\n",
       "</div>"
      ],
      "text/plain": [
       "   messages_included  mb_per_month_included  minutes_included  \\\n",
       "0                 50                  15360               500   \n",
       "1               1000                  30720              3000   \n",
       "\n",
       "   usd_monthly_pay  usd_per_gb  usd_per_message  usd_per_minute plan_name  \n",
       "0               20          10             0.03            0.03      surf  \n",
       "1               70           7             0.01            0.01  ultimate  "
      ]
     },
     "execution_count": 32,
     "metadata": {},
     "output_type": "execute_result"
    }
   ],
   "source": [
    "# Print out the plan conditions and make sure they are clear for you\n",
    "plans"
   ]
  },
  {
   "cell_type": "markdown",
   "metadata": {},
   "source": [
    "Compare and contrast of the plans:  \n",
    "Ultimate x20 messages.   \n",
    "Ultimate x2 mb_per_month.   \n",
    "Ultimate x6 minutes.   \n",
    "Ultimate x3.5 monthly_pay.\n",
    "Ultimate 7/10 usd/gb  \n",
    "Ultimate 1/3 of usd/message  \n",
    "Ultimate 1/3 of usd/minute   \n",
    "\n"
   ]
  },
  {
   "cell_type": "markdown",
   "metadata": {},
   "source": [
    "Let's verify couple details about dates before we do calculations"
   ]
  },
  {
   "cell_type": "code",
   "execution_count": 33,
   "metadata": {},
   "outputs": [
    {
     "data": {
      "text/plain": [
       "0"
      ]
     },
     "execution_count": 33,
     "metadata": {},
     "output_type": "execute_result"
    }
   ],
   "source": [
    "# Ensure reg_date <= churn date\n",
    "date_check = users.query('churn_date != \"in use\"')\n",
    "sum(date_check['reg_date'] > date_check['churn_date'])"
   ]
  },
  {
   "cell_type": "markdown",
   "metadata": {},
   "source": [
    "Check user activity resides between reg_date and churn_date"
   ]
  },
  {
   "cell_type": "markdown",
   "metadata": {},
   "source": [
    "## Aggregate data per user\n",
    "\n",
    "Now, as the data is clean, aggregate data per user per period in order to have just one record per user per period. It should ease the further analysis."
   ]
  },
  {
   "cell_type": "code",
   "execution_count": 34,
   "metadata": {},
   "outputs": [],
   "source": [
    "# Calculate the number of calls made by each user per month and monthly minutes. Save the result.\n",
    "# Extract month from call_date and then pivot table grouping by user_id and call_month.\n",
    "calls['month'] = calls['call_date'].dt.month"
   ]
  },
  {
   "cell_type": "code",
   "execution_count": 35,
   "metadata": {},
   "outputs": [
    {
     "data": {
      "text/html": [
       "<div>\n",
       "<style scoped>\n",
       "    .dataframe tbody tr th:only-of-type {\n",
       "        vertical-align: middle;\n",
       "    }\n",
       "\n",
       "    .dataframe tbody tr th {\n",
       "        vertical-align: top;\n",
       "    }\n",
       "\n",
       "    .dataframe thead th {\n",
       "        text-align: right;\n",
       "    }\n",
       "</style>\n",
       "<table border=\"1\" class=\"dataframe\">\n",
       "  <thead>\n",
       "    <tr style=\"text-align: right;\">\n",
       "      <th></th>\n",
       "      <th>user_id</th>\n",
       "      <th>month</th>\n",
       "      <th>number_of_calls</th>\n",
       "      <th>total_duration</th>\n",
       "    </tr>\n",
       "  </thead>\n",
       "  <tbody>\n",
       "    <tr>\n",
       "      <th>0</th>\n",
       "      <td>1000</td>\n",
       "      <td>12</td>\n",
       "      <td>16</td>\n",
       "      <td>124.0</td>\n",
       "    </tr>\n",
       "    <tr>\n",
       "      <th>1</th>\n",
       "      <td>1001</td>\n",
       "      <td>8</td>\n",
       "      <td>27</td>\n",
       "      <td>182.0</td>\n",
       "    </tr>\n",
       "    <tr>\n",
       "      <th>2</th>\n",
       "      <td>1001</td>\n",
       "      <td>9</td>\n",
       "      <td>49</td>\n",
       "      <td>315.0</td>\n",
       "    </tr>\n",
       "    <tr>\n",
       "      <th>3</th>\n",
       "      <td>1001</td>\n",
       "      <td>10</td>\n",
       "      <td>65</td>\n",
       "      <td>393.0</td>\n",
       "    </tr>\n",
       "    <tr>\n",
       "      <th>4</th>\n",
       "      <td>1001</td>\n",
       "      <td>11</td>\n",
       "      <td>64</td>\n",
       "      <td>426.0</td>\n",
       "    </tr>\n",
       "  </tbody>\n",
       "</table>\n",
       "</div>"
      ],
      "text/plain": [
       "   user_id  month  number_of_calls  total_duration\n",
       "0     1000     12               16           124.0\n",
       "1     1001      8               27           182.0\n",
       "2     1001      9               49           315.0\n",
       "3     1001     10               65           393.0\n",
       "4     1001     11               64           426.0"
      ]
     },
     "execution_count": 35,
     "metadata": {},
     "output_type": "execute_result"
    }
   ],
   "source": [
    "# Pivot table that shows monthly minutes and number of calls\n",
    "monthly_calls_minutes = calls.pivot_table(index=['user_id','month'], values='duration', aggfunc=['count','sum'])\n",
    "monthly_calls_minutes = monthly_calls_minutes.reset_index()\n",
    "monthly_calls_minutes.columns = ['user_id', 'month', 'number_of_calls', 'total_duration' ]\n",
    "monthly_calls_minutes.head()"
   ]
  },
  {
   "cell_type": "markdown",
   "metadata": {},
   "source": [
    "To calculate the number of text messages per month for each user,  we will extract month from the message_date column and then make a pivot table grouping by user_id and message_month."
   ]
  },
  {
   "cell_type": "code",
   "execution_count": 36,
   "metadata": {},
   "outputs": [
    {
     "data": {
      "text/html": [
       "<div>\n",
       "<style scoped>\n",
       "    .dataframe tbody tr th:only-of-type {\n",
       "        vertical-align: middle;\n",
       "    }\n",
       "\n",
       "    .dataframe tbody tr th {\n",
       "        vertical-align: top;\n",
       "    }\n",
       "\n",
       "    .dataframe thead th {\n",
       "        text-align: right;\n",
       "    }\n",
       "</style>\n",
       "<table border=\"1\" class=\"dataframe\">\n",
       "  <thead>\n",
       "    <tr style=\"text-align: right;\">\n",
       "      <th></th>\n",
       "      <th>user_id</th>\n",
       "      <th>month</th>\n",
       "      <th>num_messages</th>\n",
       "    </tr>\n",
       "  </thead>\n",
       "  <tbody>\n",
       "    <tr>\n",
       "      <th>0</th>\n",
       "      <td>1000</td>\n",
       "      <td>12</td>\n",
       "      <td>11</td>\n",
       "    </tr>\n",
       "    <tr>\n",
       "      <th>1</th>\n",
       "      <td>1001</td>\n",
       "      <td>8</td>\n",
       "      <td>30</td>\n",
       "    </tr>\n",
       "    <tr>\n",
       "      <th>2</th>\n",
       "      <td>1001</td>\n",
       "      <td>9</td>\n",
       "      <td>44</td>\n",
       "    </tr>\n",
       "    <tr>\n",
       "      <th>3</th>\n",
       "      <td>1001</td>\n",
       "      <td>10</td>\n",
       "      <td>53</td>\n",
       "    </tr>\n",
       "    <tr>\n",
       "      <th>4</th>\n",
       "      <td>1001</td>\n",
       "      <td>11</td>\n",
       "      <td>36</td>\n",
       "    </tr>\n",
       "  </tbody>\n",
       "</table>\n",
       "</div>"
      ],
      "text/plain": [
       "   user_id  month  num_messages\n",
       "0     1000     12            11\n",
       "1     1001      8            30\n",
       "2     1001      9            44\n",
       "3     1001     10            53\n",
       "4     1001     11            36"
      ]
     },
     "execution_count": 36,
     "metadata": {},
     "output_type": "execute_result"
    }
   ],
   "source": [
    "# Calculate the number of messages sent by each user per month. Save the result.\n",
    "messages['month'] = messages['message_date'].dt.month\n",
    "monthly_messages = messages.pivot_table(index = ['user_id', 'month'], values = 'id', aggfunc = 'count')\n",
    "monthly_messages = monthly_messages.reset_index()\n",
    "monthly_messages.columns = ['user_id', 'month', 'num_messages']\n",
    "monthly_messages.head()"
   ]
  },
  {
   "cell_type": "code",
   "execution_count": 37,
   "metadata": {},
   "outputs": [
    {
     "data": {
      "text/html": [
       "<div>\n",
       "<style scoped>\n",
       "    .dataframe tbody tr th:only-of-type {\n",
       "        vertical-align: middle;\n",
       "    }\n",
       "\n",
       "    .dataframe tbody tr th {\n",
       "        vertical-align: top;\n",
       "    }\n",
       "\n",
       "    .dataframe thead th {\n",
       "        text-align: right;\n",
       "    }\n",
       "</style>\n",
       "<table border=\"1\" class=\"dataframe\">\n",
       "  <thead>\n",
       "    <tr style=\"text-align: right;\">\n",
       "      <th></th>\n",
       "      <th>user_id</th>\n",
       "      <th>month</th>\n",
       "      <th>mb_volume_month</th>\n",
       "      <th>gb_volume_month</th>\n",
       "    </tr>\n",
       "  </thead>\n",
       "  <tbody>\n",
       "    <tr>\n",
       "      <th>0</th>\n",
       "      <td>1000</td>\n",
       "      <td>12</td>\n",
       "      <td>1901.47</td>\n",
       "      <td>2</td>\n",
       "    </tr>\n",
       "    <tr>\n",
       "      <th>1</th>\n",
       "      <td>1001</td>\n",
       "      <td>8</td>\n",
       "      <td>6919.15</td>\n",
       "      <td>7</td>\n",
       "    </tr>\n",
       "    <tr>\n",
       "      <th>2</th>\n",
       "      <td>1001</td>\n",
       "      <td>9</td>\n",
       "      <td>13314.82</td>\n",
       "      <td>14</td>\n",
       "    </tr>\n",
       "    <tr>\n",
       "      <th>3</th>\n",
       "      <td>1001</td>\n",
       "      <td>10</td>\n",
       "      <td>22330.49</td>\n",
       "      <td>22</td>\n",
       "    </tr>\n",
       "    <tr>\n",
       "      <th>4</th>\n",
       "      <td>1001</td>\n",
       "      <td>11</td>\n",
       "      <td>18504.30</td>\n",
       "      <td>19</td>\n",
       "    </tr>\n",
       "  </tbody>\n",
       "</table>\n",
       "</div>"
      ],
      "text/plain": [
       "   user_id  month  mb_volume_month  gb_volume_month\n",
       "0     1000     12          1901.47                2\n",
       "1     1001      8          6919.15                7\n",
       "2     1001      9         13314.82               14\n",
       "3     1001     10         22330.49               22\n",
       "4     1001     11         18504.30               19"
      ]
     },
     "execution_count": 37,
     "metadata": {},
     "output_type": "execute_result"
    }
   ],
   "source": [
    "# Calculate the volume of internet traffic used by each user per month. Save the result.\n",
    "internet['month'] = internet['session_date'].dt.month\n",
    "monthly_internet = internet.pivot_table(index=['user_id','month'], values='mb_used', aggfunc='sum')\n",
    "monthly_internet = monthly_internet.reset_index()\n",
    "monthly_internet.columns = ['user_id', 'month', \"mb_volume_month\"]\n",
    "# Round up the gb as per company policy - new column\n",
    "monthly_internet['gb_volume_month'] = np.ceil((monthly_internet['mb_volume_month'].values) / 1024).astype(int)\n",
    "# Check the results\n",
    "monthly_internet.head()\n"
   ]
  },
  {
   "cell_type": "markdown",
   "metadata": {},
   "source": [
    "Put the aggregate data together into one DataFrame so that one record in it would represent what an unique user consumed in a given month."
   ]
  },
  {
   "cell_type": "code",
   "execution_count": 38,
   "metadata": {},
   "outputs": [],
   "source": [
    "# Merge the data for calls, minutes, messages, internet based on user_id and month\n",
    "df_monthly = (monthly_calls_minutes\n",
    "              .merge(monthly_messages, how='outer', on=['user_id','month'])\n",
    "              .merge(monthly_internet, how='outer', on=['user_id','month'])\n",
    "             )"
   ]
  },
  {
   "cell_type": "code",
   "execution_count": 39,
   "metadata": {},
   "outputs": [
    {
     "data": {
      "text/html": [
       "<div>\n",
       "<style scoped>\n",
       "    .dataframe tbody tr th:only-of-type {\n",
       "        vertical-align: middle;\n",
       "    }\n",
       "\n",
       "    .dataframe tbody tr th {\n",
       "        vertical-align: top;\n",
       "    }\n",
       "\n",
       "    .dataframe thead th {\n",
       "        text-align: right;\n",
       "    }\n",
       "</style>\n",
       "<table border=\"1\" class=\"dataframe\">\n",
       "  <thead>\n",
       "    <tr style=\"text-align: right;\">\n",
       "      <th></th>\n",
       "      <th>user_id</th>\n",
       "      <th>month</th>\n",
       "      <th>number_of_calls</th>\n",
       "      <th>total_duration</th>\n",
       "      <th>num_messages</th>\n",
       "      <th>mb_volume_month</th>\n",
       "      <th>gb_volume_month</th>\n",
       "    </tr>\n",
       "  </thead>\n",
       "  <tbody>\n",
       "    <tr>\n",
       "      <th>0</th>\n",
       "      <td>1000</td>\n",
       "      <td>12</td>\n",
       "      <td>16.0</td>\n",
       "      <td>124.0</td>\n",
       "      <td>11.0</td>\n",
       "      <td>1901.47</td>\n",
       "      <td>2.0</td>\n",
       "    </tr>\n",
       "    <tr>\n",
       "      <th>1</th>\n",
       "      <td>1001</td>\n",
       "      <td>8</td>\n",
       "      <td>27.0</td>\n",
       "      <td>182.0</td>\n",
       "      <td>30.0</td>\n",
       "      <td>6919.15</td>\n",
       "      <td>7.0</td>\n",
       "    </tr>\n",
       "    <tr>\n",
       "      <th>2</th>\n",
       "      <td>1001</td>\n",
       "      <td>9</td>\n",
       "      <td>49.0</td>\n",
       "      <td>315.0</td>\n",
       "      <td>44.0</td>\n",
       "      <td>13314.82</td>\n",
       "      <td>14.0</td>\n",
       "    </tr>\n",
       "    <tr>\n",
       "      <th>3</th>\n",
       "      <td>1001</td>\n",
       "      <td>10</td>\n",
       "      <td>65.0</td>\n",
       "      <td>393.0</td>\n",
       "      <td>53.0</td>\n",
       "      <td>22330.49</td>\n",
       "      <td>22.0</td>\n",
       "    </tr>\n",
       "    <tr>\n",
       "      <th>4</th>\n",
       "      <td>1001</td>\n",
       "      <td>11</td>\n",
       "      <td>64.0</td>\n",
       "      <td>426.0</td>\n",
       "      <td>36.0</td>\n",
       "      <td>18504.30</td>\n",
       "      <td>19.0</td>\n",
       "    </tr>\n",
       "  </tbody>\n",
       "</table>\n",
       "</div>"
      ],
      "text/plain": [
       "   user_id  month  number_of_calls  total_duration  num_messages  \\\n",
       "0     1000     12             16.0           124.0          11.0   \n",
       "1     1001      8             27.0           182.0          30.0   \n",
       "2     1001      9             49.0           315.0          44.0   \n",
       "3     1001     10             65.0           393.0          53.0   \n",
       "4     1001     11             64.0           426.0          36.0   \n",
       "\n",
       "   mb_volume_month  gb_volume_month  \n",
       "0          1901.47              2.0  \n",
       "1          6919.15              7.0  \n",
       "2         13314.82             14.0  \n",
       "3         22330.49             22.0  \n",
       "4         18504.30             19.0  "
      ]
     },
     "execution_count": 39,
     "metadata": {},
     "output_type": "execute_result"
    }
   ],
   "source": [
    "# Checking the agg_df\n",
    "df_monthly.head()"
   ]
  },
  {
   "cell_type": "code",
   "execution_count": 40,
   "metadata": {},
   "outputs": [
    {
     "data": {
      "text/html": [
       "<div>\n",
       "<style scoped>\n",
       "    .dataframe tbody tr th:only-of-type {\n",
       "        vertical-align: middle;\n",
       "    }\n",
       "\n",
       "    .dataframe tbody tr th {\n",
       "        vertical-align: top;\n",
       "    }\n",
       "\n",
       "    .dataframe thead th {\n",
       "        text-align: right;\n",
       "    }\n",
       "</style>\n",
       "<table border=\"1\" class=\"dataframe\">\n",
       "  <thead>\n",
       "    <tr style=\"text-align: right;\">\n",
       "      <th></th>\n",
       "      <th>user_id</th>\n",
       "      <th>month</th>\n",
       "      <th>number_of_calls</th>\n",
       "      <th>total_duration</th>\n",
       "      <th>num_messages</th>\n",
       "      <th>mb_volume_month</th>\n",
       "      <th>gb_volume_month</th>\n",
       "      <th>plan</th>\n",
       "      <th>city</th>\n",
       "      <th>messages_included</th>\n",
       "      <th>mb_per_month_included</th>\n",
       "      <th>minutes_included</th>\n",
       "      <th>usd_monthly_pay</th>\n",
       "      <th>usd_per_gb</th>\n",
       "      <th>usd_per_message</th>\n",
       "      <th>usd_per_minute</th>\n",
       "      <th>plan_name</th>\n",
       "    </tr>\n",
       "  </thead>\n",
       "  <tbody>\n",
       "    <tr>\n",
       "      <th>0</th>\n",
       "      <td>1000</td>\n",
       "      <td>12</td>\n",
       "      <td>16.0</td>\n",
       "      <td>124.0</td>\n",
       "      <td>11.0</td>\n",
       "      <td>1901.47</td>\n",
       "      <td>2.0</td>\n",
       "      <td>ultimate</td>\n",
       "      <td>Atlanta-Sandy Springs-Roswell, GA MSA</td>\n",
       "      <td>1000</td>\n",
       "      <td>30720</td>\n",
       "      <td>3000</td>\n",
       "      <td>70</td>\n",
       "      <td>7</td>\n",
       "      <td>0.01</td>\n",
       "      <td>0.01</td>\n",
       "      <td>ultimate</td>\n",
       "    </tr>\n",
       "    <tr>\n",
       "      <th>1</th>\n",
       "      <td>1001</td>\n",
       "      <td>8</td>\n",
       "      <td>27.0</td>\n",
       "      <td>182.0</td>\n",
       "      <td>30.0</td>\n",
       "      <td>6919.15</td>\n",
       "      <td>7.0</td>\n",
       "      <td>surf</td>\n",
       "      <td>Seattle-Tacoma-Bellevue, WA MSA</td>\n",
       "      <td>50</td>\n",
       "      <td>15360</td>\n",
       "      <td>500</td>\n",
       "      <td>20</td>\n",
       "      <td>10</td>\n",
       "      <td>0.03</td>\n",
       "      <td>0.03</td>\n",
       "      <td>surf</td>\n",
       "    </tr>\n",
       "    <tr>\n",
       "      <th>2</th>\n",
       "      <td>1001</td>\n",
       "      <td>9</td>\n",
       "      <td>49.0</td>\n",
       "      <td>315.0</td>\n",
       "      <td>44.0</td>\n",
       "      <td>13314.82</td>\n",
       "      <td>14.0</td>\n",
       "      <td>surf</td>\n",
       "      <td>Seattle-Tacoma-Bellevue, WA MSA</td>\n",
       "      <td>50</td>\n",
       "      <td>15360</td>\n",
       "      <td>500</td>\n",
       "      <td>20</td>\n",
       "      <td>10</td>\n",
       "      <td>0.03</td>\n",
       "      <td>0.03</td>\n",
       "      <td>surf</td>\n",
       "    </tr>\n",
       "    <tr>\n",
       "      <th>3</th>\n",
       "      <td>1001</td>\n",
       "      <td>10</td>\n",
       "      <td>65.0</td>\n",
       "      <td>393.0</td>\n",
       "      <td>53.0</td>\n",
       "      <td>22330.49</td>\n",
       "      <td>22.0</td>\n",
       "      <td>surf</td>\n",
       "      <td>Seattle-Tacoma-Bellevue, WA MSA</td>\n",
       "      <td>50</td>\n",
       "      <td>15360</td>\n",
       "      <td>500</td>\n",
       "      <td>20</td>\n",
       "      <td>10</td>\n",
       "      <td>0.03</td>\n",
       "      <td>0.03</td>\n",
       "      <td>surf</td>\n",
       "    </tr>\n",
       "    <tr>\n",
       "      <th>4</th>\n",
       "      <td>1001</td>\n",
       "      <td>11</td>\n",
       "      <td>64.0</td>\n",
       "      <td>426.0</td>\n",
       "      <td>36.0</td>\n",
       "      <td>18504.30</td>\n",
       "      <td>19.0</td>\n",
       "      <td>surf</td>\n",
       "      <td>Seattle-Tacoma-Bellevue, WA MSA</td>\n",
       "      <td>50</td>\n",
       "      <td>15360</td>\n",
       "      <td>500</td>\n",
       "      <td>20</td>\n",
       "      <td>10</td>\n",
       "      <td>0.03</td>\n",
       "      <td>0.03</td>\n",
       "      <td>surf</td>\n",
       "    </tr>\n",
       "  </tbody>\n",
       "</table>\n",
       "</div>"
      ],
      "text/plain": [
       "   user_id  month  number_of_calls  total_duration  num_messages  \\\n",
       "0     1000     12             16.0           124.0          11.0   \n",
       "1     1001      8             27.0           182.0          30.0   \n",
       "2     1001      9             49.0           315.0          44.0   \n",
       "3     1001     10             65.0           393.0          53.0   \n",
       "4     1001     11             64.0           426.0          36.0   \n",
       "\n",
       "   mb_volume_month  gb_volume_month      plan  \\\n",
       "0          1901.47              2.0  ultimate   \n",
       "1          6919.15              7.0      surf   \n",
       "2         13314.82             14.0      surf   \n",
       "3         22330.49             22.0      surf   \n",
       "4         18504.30             19.0      surf   \n",
       "\n",
       "                                    city  messages_included  \\\n",
       "0  Atlanta-Sandy Springs-Roswell, GA MSA               1000   \n",
       "1        Seattle-Tacoma-Bellevue, WA MSA                 50   \n",
       "2        Seattle-Tacoma-Bellevue, WA MSA                 50   \n",
       "3        Seattle-Tacoma-Bellevue, WA MSA                 50   \n",
       "4        Seattle-Tacoma-Bellevue, WA MSA                 50   \n",
       "\n",
       "   mb_per_month_included  minutes_included  usd_monthly_pay  usd_per_gb  \\\n",
       "0                  30720              3000               70           7   \n",
       "1                  15360               500               20          10   \n",
       "2                  15360               500               20          10   \n",
       "3                  15360               500               20          10   \n",
       "4                  15360               500               20          10   \n",
       "\n",
       "   usd_per_message  usd_per_minute plan_name  \n",
       "0             0.01            0.01  ultimate  \n",
       "1             0.03            0.03      surf  \n",
       "2             0.03            0.03      surf  \n",
       "3             0.03            0.03      surf  \n",
       "4             0.03            0.03      surf  "
      ]
     },
     "execution_count": 40,
     "metadata": {},
     "output_type": "execute_result"
    }
   ],
   "source": [
    "# Add the plan information\n",
    "user_plan = users[['user_id','plan','city']]\n",
    "user_plan = user_plan.merge(plans, left_on='plan', right_on='plan_name')\n",
    "# Merge\n",
    "df_monthly = df_monthly.merge(user_plan, on = 'user_id')\n",
    "\n",
    "df_monthly.head()\n",
    "\n",
    "# Feedback on more elegant way of doing this portion? "
   ]
  },
  {
   "cell_type": "markdown",
   "metadata": {},
   "source": [
    "Calculate the monthly PROFIT from each user (subtract the free package limit from the total number of calls, text messages, and data; multiply the result by the calling plan value; add the monthly charge depending on the calling plan). N.B. This might not be as trivial as just a couple of lines given the plan conditions! So, it's okay to spend some time on it."
   ]
  },
  {
   "cell_type": "code",
   "execution_count": 41,
   "metadata": {},
   "outputs": [
    {
     "data": {
      "text/plain": [
       "user_id                    0\n",
       "month                      0\n",
       "number_of_calls           35\n",
       "total_duration            35\n",
       "num_messages             487\n",
       "mb_volume_month           16\n",
       "gb_volume_month           16\n",
       "plan                       0\n",
       "city                       0\n",
       "messages_included          0\n",
       "mb_per_month_included      0\n",
       "minutes_included           0\n",
       "usd_monthly_pay            0\n",
       "usd_per_gb                 0\n",
       "usd_per_message            0\n",
       "usd_per_minute             0\n",
       "plan_name                  0\n",
       "dtype: int64"
      ]
     },
     "execution_count": 41,
     "metadata": {},
     "output_type": "execute_result"
    }
   ],
   "source": [
    "# Checking for null values\n",
    "df_monthly.isnull().sum()"
   ]
  },
  {
   "cell_type": "code",
   "execution_count": 42,
   "metadata": {},
   "outputs": [],
   "source": [
    "# Replace these with zeros as these are the users who don't use their services muchfor col in ['total_min_month','num_messages_month','mb_volume_month','gb_volume_month']:\n",
    "for col in ['number_of_calls','total_duration','mb_volume_month','gb_volume_month', 'num_messages']:\n",
    "    df_monthly[col] = df_monthly[col].fillna(0)"
   ]
  },
  {
   "cell_type": "code",
   "execution_count": 43,
   "metadata": {},
   "outputs": [
    {
     "data": {
      "text/plain": [
       "0"
      ]
     },
     "execution_count": 43,
     "metadata": {},
     "output_type": "execute_result"
    }
   ],
   "source": [
    "df_monthly.isnull().sum().sum()"
   ]
  },
  {
   "cell_type": "code",
   "execution_count": 44,
   "metadata": {},
   "outputs": [
    {
     "data": {
      "text/html": [
       "<div>\n",
       "<style scoped>\n",
       "    .dataframe tbody tr th:only-of-type {\n",
       "        vertical-align: middle;\n",
       "    }\n",
       "\n",
       "    .dataframe tbody tr th {\n",
       "        vertical-align: top;\n",
       "    }\n",
       "\n",
       "    .dataframe thead th {\n",
       "        text-align: right;\n",
       "    }\n",
       "</style>\n",
       "<table border=\"1\" class=\"dataframe\">\n",
       "  <thead>\n",
       "    <tr style=\"text-align: right;\">\n",
       "      <th></th>\n",
       "      <th>user_id</th>\n",
       "      <th>month</th>\n",
       "      <th>number_of_calls</th>\n",
       "      <th>total_duration</th>\n",
       "      <th>num_messages</th>\n",
       "      <th>mb_volume_month</th>\n",
       "      <th>gb_volume_month</th>\n",
       "      <th>plan</th>\n",
       "      <th>city</th>\n",
       "      <th>messages_included</th>\n",
       "      <th>mb_per_month_included</th>\n",
       "      <th>minutes_included</th>\n",
       "      <th>usd_monthly_pay</th>\n",
       "      <th>usd_per_gb</th>\n",
       "      <th>usd_per_message</th>\n",
       "      <th>usd_per_minute</th>\n",
       "      <th>plan_name</th>\n",
       "    </tr>\n",
       "  </thead>\n",
       "  <tbody>\n",
       "    <tr>\n",
       "      <th>0</th>\n",
       "      <td>1000</td>\n",
       "      <td>12</td>\n",
       "      <td>16.0</td>\n",
       "      <td>124.0</td>\n",
       "      <td>11.0</td>\n",
       "      <td>1901.47</td>\n",
       "      <td>2.0</td>\n",
       "      <td>ultimate</td>\n",
       "      <td>Atlanta-Sandy Springs-Roswell, GA MSA</td>\n",
       "      <td>1000</td>\n",
       "      <td>30720</td>\n",
       "      <td>3000</td>\n",
       "      <td>70</td>\n",
       "      <td>7</td>\n",
       "      <td>0.01</td>\n",
       "      <td>0.01</td>\n",
       "      <td>ultimate</td>\n",
       "    </tr>\n",
       "    <tr>\n",
       "      <th>1</th>\n",
       "      <td>1001</td>\n",
       "      <td>8</td>\n",
       "      <td>27.0</td>\n",
       "      <td>182.0</td>\n",
       "      <td>30.0</td>\n",
       "      <td>6919.15</td>\n",
       "      <td>7.0</td>\n",
       "      <td>surf</td>\n",
       "      <td>Seattle-Tacoma-Bellevue, WA MSA</td>\n",
       "      <td>50</td>\n",
       "      <td>15360</td>\n",
       "      <td>500</td>\n",
       "      <td>20</td>\n",
       "      <td>10</td>\n",
       "      <td>0.03</td>\n",
       "      <td>0.03</td>\n",
       "      <td>surf</td>\n",
       "    </tr>\n",
       "    <tr>\n",
       "      <th>2</th>\n",
       "      <td>1001</td>\n",
       "      <td>9</td>\n",
       "      <td>49.0</td>\n",
       "      <td>315.0</td>\n",
       "      <td>44.0</td>\n",
       "      <td>13314.82</td>\n",
       "      <td>14.0</td>\n",
       "      <td>surf</td>\n",
       "      <td>Seattle-Tacoma-Bellevue, WA MSA</td>\n",
       "      <td>50</td>\n",
       "      <td>15360</td>\n",
       "      <td>500</td>\n",
       "      <td>20</td>\n",
       "      <td>10</td>\n",
       "      <td>0.03</td>\n",
       "      <td>0.03</td>\n",
       "      <td>surf</td>\n",
       "    </tr>\n",
       "    <tr>\n",
       "      <th>3</th>\n",
       "      <td>1001</td>\n",
       "      <td>10</td>\n",
       "      <td>65.0</td>\n",
       "      <td>393.0</td>\n",
       "      <td>53.0</td>\n",
       "      <td>22330.49</td>\n",
       "      <td>22.0</td>\n",
       "      <td>surf</td>\n",
       "      <td>Seattle-Tacoma-Bellevue, WA MSA</td>\n",
       "      <td>50</td>\n",
       "      <td>15360</td>\n",
       "      <td>500</td>\n",
       "      <td>20</td>\n",
       "      <td>10</td>\n",
       "      <td>0.03</td>\n",
       "      <td>0.03</td>\n",
       "      <td>surf</td>\n",
       "    </tr>\n",
       "    <tr>\n",
       "      <th>4</th>\n",
       "      <td>1001</td>\n",
       "      <td>11</td>\n",
       "      <td>64.0</td>\n",
       "      <td>426.0</td>\n",
       "      <td>36.0</td>\n",
       "      <td>18504.30</td>\n",
       "      <td>19.0</td>\n",
       "      <td>surf</td>\n",
       "      <td>Seattle-Tacoma-Bellevue, WA MSA</td>\n",
       "      <td>50</td>\n",
       "      <td>15360</td>\n",
       "      <td>500</td>\n",
       "      <td>20</td>\n",
       "      <td>10</td>\n",
       "      <td>0.03</td>\n",
       "      <td>0.03</td>\n",
       "      <td>surf</td>\n",
       "    </tr>\n",
       "  </tbody>\n",
       "</table>\n",
       "</div>"
      ],
      "text/plain": [
       "   user_id  month  number_of_calls  total_duration  num_messages  \\\n",
       "0     1000     12             16.0           124.0          11.0   \n",
       "1     1001      8             27.0           182.0          30.0   \n",
       "2     1001      9             49.0           315.0          44.0   \n",
       "3     1001     10             65.0           393.0          53.0   \n",
       "4     1001     11             64.0           426.0          36.0   \n",
       "\n",
       "   mb_volume_month  gb_volume_month      plan  \\\n",
       "0          1901.47              2.0  ultimate   \n",
       "1          6919.15              7.0      surf   \n",
       "2         13314.82             14.0      surf   \n",
       "3         22330.49             22.0      surf   \n",
       "4         18504.30             19.0      surf   \n",
       "\n",
       "                                    city  messages_included  \\\n",
       "0  Atlanta-Sandy Springs-Roswell, GA MSA               1000   \n",
       "1        Seattle-Tacoma-Bellevue, WA MSA                 50   \n",
       "2        Seattle-Tacoma-Bellevue, WA MSA                 50   \n",
       "3        Seattle-Tacoma-Bellevue, WA MSA                 50   \n",
       "4        Seattle-Tacoma-Bellevue, WA MSA                 50   \n",
       "\n",
       "   mb_per_month_included  minutes_included  usd_monthly_pay  usd_per_gb  \\\n",
       "0                  30720              3000               70           7   \n",
       "1                  15360               500               20          10   \n",
       "2                  15360               500               20          10   \n",
       "3                  15360               500               20          10   \n",
       "4                  15360               500               20          10   \n",
       "\n",
       "   usd_per_message  usd_per_minute plan_name  \n",
       "0             0.01            0.01  ultimate  \n",
       "1             0.03            0.03      surf  \n",
       "2             0.03            0.03      surf  \n",
       "3             0.03            0.03      surf  \n",
       "4             0.03            0.03      surf  "
      ]
     },
     "execution_count": 44,
     "metadata": {},
     "output_type": "execute_result"
    }
   ],
   "source": [
    "df_monthly.head()"
   ]
  },
  {
   "cell_type": "code",
   "execution_count": 45,
   "metadata": {},
   "outputs": [
    {
     "data": {
      "text/html": [
       "<div>\n",
       "<style scoped>\n",
       "    .dataframe tbody tr th:only-of-type {\n",
       "        vertical-align: middle;\n",
       "    }\n",
       "\n",
       "    .dataframe tbody tr th {\n",
       "        vertical-align: top;\n",
       "    }\n",
       "\n",
       "    .dataframe thead th {\n",
       "        text-align: right;\n",
       "    }\n",
       "</style>\n",
       "<table border=\"1\" class=\"dataframe\">\n",
       "  <thead>\n",
       "    <tr style=\"text-align: right;\">\n",
       "      <th></th>\n",
       "      <th>messages_included</th>\n",
       "      <th>mb_per_month_included</th>\n",
       "      <th>minutes_included</th>\n",
       "      <th>usd_monthly_pay</th>\n",
       "      <th>usd_per_gb</th>\n",
       "      <th>usd_per_message</th>\n",
       "      <th>usd_per_minute</th>\n",
       "      <th>plan_name</th>\n",
       "    </tr>\n",
       "  </thead>\n",
       "  <tbody>\n",
       "    <tr>\n",
       "      <th>0</th>\n",
       "      <td>50</td>\n",
       "      <td>15360</td>\n",
       "      <td>500</td>\n",
       "      <td>20</td>\n",
       "      <td>10</td>\n",
       "      <td>0.03</td>\n",
       "      <td>0.03</td>\n",
       "      <td>surf</td>\n",
       "    </tr>\n",
       "    <tr>\n",
       "      <th>1</th>\n",
       "      <td>1000</td>\n",
       "      <td>30720</td>\n",
       "      <td>3000</td>\n",
       "      <td>70</td>\n",
       "      <td>7</td>\n",
       "      <td>0.01</td>\n",
       "      <td>0.01</td>\n",
       "      <td>ultimate</td>\n",
       "    </tr>\n",
       "  </tbody>\n",
       "</table>\n",
       "</div>"
      ],
      "text/plain": [
       "   messages_included  mb_per_month_included  minutes_included  \\\n",
       "0                 50                  15360               500   \n",
       "1               1000                  30720              3000   \n",
       "\n",
       "   usd_monthly_pay  usd_per_gb  usd_per_message  usd_per_minute plan_name  \n",
       "0               20          10             0.03            0.03      surf  \n",
       "1               70           7             0.01            0.01  ultimate  "
      ]
     },
     "execution_count": 45,
     "metadata": {},
     "output_type": "execute_result"
    }
   ],
   "source": [
    "plans.head()"
   ]
  },
  {
   "cell_type": "code",
   "execution_count": 46,
   "metadata": {},
   "outputs": [],
   "source": [
    "def profit(row):\n",
    "    fee = 0\n",
    "    if row['plan'] == 'ultimate': \n",
    "        fee = 70\n",
    "        if row['total_duration'] > 3000:\n",
    "            fee += (row['total_duration'] - 3000) * 0.01\n",
    "        if row['num_messages'] > 1000:\n",
    "            fee += (row['num_messages'] - 1000) * 0.01\n",
    "        if row['mb_volume_month'] > 30720:\n",
    "            fee += (row['mb_volume_month'] - 30720) * 0.007    \n",
    "            \n",
    "    elif row['plan'] == 'surf':\n",
    "        fee = 20\n",
    "        if row['total_duration'] > 500:\n",
    "            fee += (row['total_duration'] - 500) * 0.03\n",
    "        if row['num_messages'] > 50:\n",
    "            fee += (row['num_messages'] - 50) * 0.03\n",
    "        if row['mb_volume_month'] > 15360:\n",
    "            fee += (row['mb_volume_month'] - 15360) * 0.01    \n",
    "    return round(fee, 2)"
   ]
  },
  {
   "cell_type": "code",
   "execution_count": 47,
   "metadata": {},
   "outputs": [],
   "source": [
    "df_monthly['monthly_revenue'] = df_monthly.apply(profit, axis=1)"
   ]
  },
  {
   "cell_type": "code",
   "execution_count": 48,
   "metadata": {},
   "outputs": [
    {
     "data": {
      "text/html": [
       "<div>\n",
       "<style scoped>\n",
       "    .dataframe tbody tr th:only-of-type {\n",
       "        vertical-align: middle;\n",
       "    }\n",
       "\n",
       "    .dataframe tbody tr th {\n",
       "        vertical-align: top;\n",
       "    }\n",
       "\n",
       "    .dataframe thead th {\n",
       "        text-align: right;\n",
       "    }\n",
       "</style>\n",
       "<table border=\"1\" class=\"dataframe\">\n",
       "  <thead>\n",
       "    <tr style=\"text-align: right;\">\n",
       "      <th></th>\n",
       "      <th>user_id</th>\n",
       "      <th>month</th>\n",
       "      <th>number_of_calls</th>\n",
       "      <th>total_duration</th>\n",
       "      <th>num_messages</th>\n",
       "      <th>mb_volume_month</th>\n",
       "      <th>gb_volume_month</th>\n",
       "      <th>plan</th>\n",
       "      <th>city</th>\n",
       "      <th>messages_included</th>\n",
       "      <th>mb_per_month_included</th>\n",
       "      <th>minutes_included</th>\n",
       "      <th>usd_monthly_pay</th>\n",
       "      <th>usd_per_gb</th>\n",
       "      <th>usd_per_message</th>\n",
       "      <th>usd_per_minute</th>\n",
       "      <th>plan_name</th>\n",
       "      <th>monthly_revenue</th>\n",
       "    </tr>\n",
       "  </thead>\n",
       "  <tbody>\n",
       "    <tr>\n",
       "      <th>0</th>\n",
       "      <td>1000</td>\n",
       "      <td>12</td>\n",
       "      <td>16.0</td>\n",
       "      <td>124.0</td>\n",
       "      <td>11.0</td>\n",
       "      <td>1901.47</td>\n",
       "      <td>2.0</td>\n",
       "      <td>ultimate</td>\n",
       "      <td>Atlanta-Sandy Springs-Roswell, GA MSA</td>\n",
       "      <td>1000</td>\n",
       "      <td>30720</td>\n",
       "      <td>3000</td>\n",
       "      <td>70</td>\n",
       "      <td>7</td>\n",
       "      <td>0.01</td>\n",
       "      <td>0.01</td>\n",
       "      <td>ultimate</td>\n",
       "      <td>70.00</td>\n",
       "    </tr>\n",
       "    <tr>\n",
       "      <th>1</th>\n",
       "      <td>1001</td>\n",
       "      <td>8</td>\n",
       "      <td>27.0</td>\n",
       "      <td>182.0</td>\n",
       "      <td>30.0</td>\n",
       "      <td>6919.15</td>\n",
       "      <td>7.0</td>\n",
       "      <td>surf</td>\n",
       "      <td>Seattle-Tacoma-Bellevue, WA MSA</td>\n",
       "      <td>50</td>\n",
       "      <td>15360</td>\n",
       "      <td>500</td>\n",
       "      <td>20</td>\n",
       "      <td>10</td>\n",
       "      <td>0.03</td>\n",
       "      <td>0.03</td>\n",
       "      <td>surf</td>\n",
       "      <td>20.00</td>\n",
       "    </tr>\n",
       "    <tr>\n",
       "      <th>2</th>\n",
       "      <td>1001</td>\n",
       "      <td>9</td>\n",
       "      <td>49.0</td>\n",
       "      <td>315.0</td>\n",
       "      <td>44.0</td>\n",
       "      <td>13314.82</td>\n",
       "      <td>14.0</td>\n",
       "      <td>surf</td>\n",
       "      <td>Seattle-Tacoma-Bellevue, WA MSA</td>\n",
       "      <td>50</td>\n",
       "      <td>15360</td>\n",
       "      <td>500</td>\n",
       "      <td>20</td>\n",
       "      <td>10</td>\n",
       "      <td>0.03</td>\n",
       "      <td>0.03</td>\n",
       "      <td>surf</td>\n",
       "      <td>20.00</td>\n",
       "    </tr>\n",
       "    <tr>\n",
       "      <th>3</th>\n",
       "      <td>1001</td>\n",
       "      <td>10</td>\n",
       "      <td>65.0</td>\n",
       "      <td>393.0</td>\n",
       "      <td>53.0</td>\n",
       "      <td>22330.49</td>\n",
       "      <td>22.0</td>\n",
       "      <td>surf</td>\n",
       "      <td>Seattle-Tacoma-Bellevue, WA MSA</td>\n",
       "      <td>50</td>\n",
       "      <td>15360</td>\n",
       "      <td>500</td>\n",
       "      <td>20</td>\n",
       "      <td>10</td>\n",
       "      <td>0.03</td>\n",
       "      <td>0.03</td>\n",
       "      <td>surf</td>\n",
       "      <td>89.79</td>\n",
       "    </tr>\n",
       "    <tr>\n",
       "      <th>4</th>\n",
       "      <td>1001</td>\n",
       "      <td>11</td>\n",
       "      <td>64.0</td>\n",
       "      <td>426.0</td>\n",
       "      <td>36.0</td>\n",
       "      <td>18504.30</td>\n",
       "      <td>19.0</td>\n",
       "      <td>surf</td>\n",
       "      <td>Seattle-Tacoma-Bellevue, WA MSA</td>\n",
       "      <td>50</td>\n",
       "      <td>15360</td>\n",
       "      <td>500</td>\n",
       "      <td>20</td>\n",
       "      <td>10</td>\n",
       "      <td>0.03</td>\n",
       "      <td>0.03</td>\n",
       "      <td>surf</td>\n",
       "      <td>51.44</td>\n",
       "    </tr>\n",
       "  </tbody>\n",
       "</table>\n",
       "</div>"
      ],
      "text/plain": [
       "   user_id  month  number_of_calls  total_duration  num_messages  \\\n",
       "0     1000     12             16.0           124.0          11.0   \n",
       "1     1001      8             27.0           182.0          30.0   \n",
       "2     1001      9             49.0           315.0          44.0   \n",
       "3     1001     10             65.0           393.0          53.0   \n",
       "4     1001     11             64.0           426.0          36.0   \n",
       "\n",
       "   mb_volume_month  gb_volume_month      plan  \\\n",
       "0          1901.47              2.0  ultimate   \n",
       "1          6919.15              7.0      surf   \n",
       "2         13314.82             14.0      surf   \n",
       "3         22330.49             22.0      surf   \n",
       "4         18504.30             19.0      surf   \n",
       "\n",
       "                                    city  messages_included  \\\n",
       "0  Atlanta-Sandy Springs-Roswell, GA MSA               1000   \n",
       "1        Seattle-Tacoma-Bellevue, WA MSA                 50   \n",
       "2        Seattle-Tacoma-Bellevue, WA MSA                 50   \n",
       "3        Seattle-Tacoma-Bellevue, WA MSA                 50   \n",
       "4        Seattle-Tacoma-Bellevue, WA MSA                 50   \n",
       "\n",
       "   mb_per_month_included  minutes_included  usd_monthly_pay  usd_per_gb  \\\n",
       "0                  30720              3000               70           7   \n",
       "1                  15360               500               20          10   \n",
       "2                  15360               500               20          10   \n",
       "3                  15360               500               20          10   \n",
       "4                  15360               500               20          10   \n",
       "\n",
       "   usd_per_message  usd_per_minute plan_name  monthly_revenue  \n",
       "0             0.01            0.01  ultimate            70.00  \n",
       "1             0.03            0.03      surf            20.00  \n",
       "2             0.03            0.03      surf            20.00  \n",
       "3             0.03            0.03      surf            89.79  \n",
       "4             0.03            0.03      surf            51.44  "
      ]
     },
     "execution_count": 48,
     "metadata": {},
     "output_type": "execute_result"
    }
   ],
   "source": [
    "df_monthly.head()"
   ]
  },
  {
   "cell_type": "markdown",
   "metadata": {},
   "source": [
    "## Study user behaviour"
   ]
  },
  {
   "cell_type": "markdown",
   "metadata": {},
   "source": [
    "### Revenue "
   ]
  },
  {
   "cell_type": "code",
   "execution_count": 49,
   "metadata": {},
   "outputs": [],
   "source": [
    "# Create separate dataframes for each plan\n",
    "df_surf = df_monthly[df_monthly['plan'] == 'surf']\n",
    "\n",
    "df_ultimate = df_monthly[df_monthly['plan'] == 'ultimate']"
   ]
  },
  {
   "cell_type": "code",
   "execution_count": 50,
   "metadata": {},
   "outputs": [],
   "source": [
    "# Setting visualization style\n",
    "style.use('seaborn-poster') #sets the size of the charts\n",
    "style.use('ggplot')"
   ]
  },
  {
   "cell_type": "code",
   "execution_count": 51,
   "metadata": {},
   "outputs": [],
   "source": [
    "total_profit_month_plan = df_monthly.groupby(['plan','month'])['monthly_revenue'].sum().reset_index()\n"
   ]
  },
  {
   "cell_type": "code",
   "execution_count": 52,
   "metadata": {},
   "outputs": [
    {
     "data": {
      "image/png": "[encoded data removed]",
      "text/plain": [
       "<Figure size 921.6x633.6 with 1 Axes>"
      ]
     },
     "metadata": {},
     "output_type": "display_data"
    }
   ],
   "source": [
    "total_profit_month_plan[total_profit_month_plan['plan'] == 'surf'].plot(y='monthly_revenue', x='month', kind='bar')\n",
    "plt.title('Total monthly revenue for the Surf plan');"
   ]
  },
  {
   "cell_type": "code",
   "execution_count": 53,
   "metadata": {},
   "outputs": [
    {
     "data": {
      "image/png": "[encoded data removed]",
      "text/plain": [
       "<Figure size 921.6x633.6 with 1 Axes>"
      ]
     },
     "metadata": {},
     "output_type": "display_data"
    }
   ],
   "source": [
    "total_profit_month_plan[total_profit_month_plan['plan'] == 'ultimate'].plot(y='monthly_revenue', x='month', kind='bar')\n",
    "plt.title('Total monthly Revenue for the Ultimate plan');"
   ]
  },
  {
   "cell_type": "markdown",
   "metadata": {},
   "source": [
    "We see that in general surf is more profitable than ultimate. This difference is greatest on the later months.\n",
    "For example on the month of december over 20000 for Surf vs. Over 10000 for Ultimate"
   ]
  },
  {
   "cell_type": "code",
   "execution_count": 54,
   "metadata": {},
   "outputs": [
    {
     "data": {
      "image/png": "[encoded data removed]",
      "text/plain": [
       "<Figure size 921.6x633.6 with 1 Axes>"
      ]
     },
     "metadata": {},
     "output_type": "display_data"
    }
   ],
   "source": [
    "\n",
    "df_ultimate.hist('monthly_revenue')\n",
    "plt.title('Monthly Revenue for Ultimate')\n",
    "plt.suptitle('Plan Ultimate')\n",
    "plt.xlabel('USD')\n",
    "plt.ylabel('frequency');"
   ]
  },
  {
   "cell_type": "code",
   "execution_count": 55,
   "metadata": {},
   "outputs": [
    {
     "name": "stdout",
     "output_type": "stream",
     "text": [
      "Average monthly revenue, plan Ultimate : 72\n",
      "Median monthly revenue, plan Ultimate :70\n",
      "Standard deviation for monthly revenue, plan Ultimate :11\n"
     ]
    }
   ],
   "source": [
    "print('Average monthly revenue, plan Ultimate : {:.0f}'.format(df_ultimate['monthly_revenue'].mean()))\n",
    "print('Median monthly revenue, plan Ultimate :{:.0f}'.format(df_ultimate['monthly_revenue'].median()))\n",
    "print('Standard deviation for monthly revenue, plan Ultimate :{:.0f}'.format(df_ultimate['monthly_revenue'].std()))"
   ]
  },
  {
   "cell_type": "code",
   "execution_count": 56,
   "metadata": {},
   "outputs": [
    {
     "data": {
      "image/png": "[encoded data removed]",
      "text/plain": [
       "<Figure size 921.6x633.6 with 1 Axes>"
      ]
     },
     "metadata": {},
     "output_type": "display_data"
    }
   ],
   "source": [
    "df_surf.hist('monthly_revenue')\n",
    "plt.title('Monthly Revenue in USD')\n",
    "plt.suptitle('Plan Surf')\n",
    "plt.xlabel('minutes')\n",
    "plt.ylabel('frequency');"
   ]
  },
  {
   "cell_type": "code",
   "execution_count": 57,
   "metadata": {},
   "outputs": [
    {
     "name": "stdout",
     "output_type": "stream",
     "text": [
      "Average monthly revenue, plan Surf : 59\n",
      "Median monthly revenue, plan Surf :38\n",
      "Standard deviation for monthly revenue, plan Surf :55\n"
     ]
    }
   ],
   "source": [
    "print('Average monthly revenue, plan Surf : {:.0f}'.format(df_surf['monthly_revenue'].mean()))\n",
    "print('Median monthly revenue, plan Surf :{:.0f}'.format(df_surf['monthly_revenue'].median()))\n",
    "print('Standard deviation for monthly revenue, plan Surf :{:.0f}'.format(df_surf['monthly_revenue'].std()))"
   ]
  },
  {
   "cell_type": "markdown",
   "metadata": {},
   "source": [
    "The bulk of the revenue for the Ultimate plan comes from the base fee. The bulk of the revenue for Surf is more variable as customers tend to go over the limit more often since the limits are much lower. This results in more variable revenue on the surf plan that tend to be higher overall"
   ]
  },
  {
   "cell_type": "markdown",
   "metadata": {},
   "source": [
    "### Calls"
   ]
  },
  {
   "cell_type": "code",
   "execution_count": 58,
   "metadata": {},
   "outputs": [],
   "source": [
    "# Compare average duration of calls per each plan per each distinct month. Plot a bar plat to visualize it.\n",
    "monthly_duration = df_monthly.pivot_table(\n",
    "    index = 'month',\n",
    "    values = 'total_duration',\n",
    "    aggfunc = 'mean',\n",
    "    columns = 'plan'\n",
    "    \n",
    "        )"
   ]
  },
  {
   "cell_type": "code",
   "execution_count": 59,
   "metadata": {},
   "outputs": [
    {
     "data": {
      "image/png": "[encoded data removed]",
      "text/plain": [
       "<Figure size 921.6x633.6 with 1 Axes>"
      ]
     },
     "metadata": {},
     "output_type": "display_data"
    }
   ],
   "source": [
    "monthly_duration.plot(kind = 'bar')\n",
    "plt.title(\"Average Call Duration Between Plans\")\n",
    "plt.ylabel(\"Average Duration\")\n",
    "plt.show()"
   ]
  },
  {
   "cell_type": "markdown",
   "metadata": {},
   "source": [
    "General observation: the duration of calls seem to go up as the month go on.   \n",
    "In some months surf has higher amount, and other months, ultimate has higher amount.  \n",
    "February is the only month where the difference is quite noticeable. Maybe June as well."
   ]
  },
  {
   "cell_type": "markdown",
   "metadata": {},
   "source": [
    "Calls"
   ]
  },
  {
   "cell_type": "code",
   "execution_count": 60,
   "metadata": {},
   "outputs": [
    {
     "data": {
      "image/png": "[encoded data removed]",
      "text/plain": [
       "<Figure size 921.6x633.6 with 1 Axes>"
      ]
     },
     "metadata": {},
     "output_type": "display_data"
    }
   ],
   "source": [
    "df_surf.hist('total_duration', bins = 25)\n",
    "plt.title('Monthly calls length, in minutes')\n",
    "plt.suptitle('Plan \"Surf\"')\n",
    "plt.xlabel('minutes')\n",
    "plt.ylabel('frequency');"
   ]
  },
  {
   "cell_type": "code",
   "execution_count": 61,
   "metadata": {},
   "outputs": [
    {
     "name": "stdout",
     "output_type": "stream",
     "text": [
      "Average monthly calls length in minutes, plan Surf : 429\n",
      "Median monthly calls length in minutes, plan Surf :425\n",
      "Standard deviation for monthly calls length in minutes, plan Surf :234\n"
     ]
    }
   ],
   "source": [
    "print('Average monthly calls length in minutes, plan Surf : {:.0f}'.format(df_surf['total_duration'].mean()))\n",
    "print('Median monthly calls length in minutes, plan Surf :{:.0f}'.format(df_surf['total_duration'].median()))\n",
    "print('Standard deviation for monthly calls length in minutes, plan Surf :{:.0f}'.format(df_surf['total_duration'].std()))"
   ]
  },
  {
   "cell_type": "code",
   "execution_count": 62,
   "metadata": {},
   "outputs": [
    {
     "data": {
      "image/png": "[encoded data removed]",
      "text/plain": [
       "<Figure size 921.6x633.6 with 1 Axes>"
      ]
     },
     "metadata": {},
     "output_type": "display_data"
    }
   ],
   "source": [
    "df_ultimate.hist('total_duration', bins = 25)\n",
    "plt.title('Monthly calls length, in minutes')\n",
    "plt.suptitle('Plan \"Ultimate\"')\n",
    "plt.xlabel('minutes')\n",
    "plt.ylabel('frequency');"
   ]
  },
  {
   "cell_type": "code",
   "execution_count": 63,
   "metadata": {},
   "outputs": [
    {
     "name": "stdout",
     "output_type": "stream",
     "text": [
      "Average monthly calls length in minutes, plan Ultimate : 430\n",
      "Median monthly calls length in minutes, plan Ultimate :424\n",
      "Standard deviation for monthly calls length in minutes, plan Ultimate :241\n"
     ]
    }
   ],
   "source": [
    "print('Average monthly calls length in minutes, plan Ultimate : {:.0f}'.format(df_ultimate['total_duration'].mean()))\n",
    "print('Median monthly calls length in minutes, plan Ultimate :{:.0f}'.format(df_ultimate['total_duration'].median()))\n",
    "print('Standard deviation for monthly calls length in minutes, plan Ultimate :{:.0f}'.format(df_ultimate['total_duration'].std()))"
   ]
  },
  {
   "cell_type": "markdown",
   "metadata": {},
   "source": [
    "Average and medium monthly calls length is similar at around 430-440 minutes per month for both plans. They are distributed similarly with similar standard deviations."
   ]
  },
  {
   "cell_type": "code",
   "execution_count": 64,
   "metadata": {},
   "outputs": [
    {
     "name": "stdout",
     "output_type": "stream",
     "text": [
      "People exceeded the Surf plan limit for calls: 566\n",
      "Ratio of people exceeded the Surf plan limit for calls: 36%\n"
     ]
    }
   ],
   "source": [
    "print('People exceeded the Surf plan limit for calls: {:.0f}'.format(len(df_surf.query('total_duration > 500'))))\n",
    "print('Ratio of people exceeded the Surf plan limit for calls: {:.0%}'.format(len(df_surf.query('total_duration > 500')) / len(df_surf)))"
   ]
  },
  {
   "cell_type": "code",
   "execution_count": 65,
   "metadata": {},
   "outputs": [
    {
     "name": "stdout",
     "output_type": "stream",
     "text": [
      "People exceeded the Surf plan limit for calls: 0\n",
      "Ratio of people exceeded the Surf plan limit for calls: 0%\n"
     ]
    }
   ],
   "source": [
    "print('People exceeded the Surf plan limit for calls: {:.0f}'.format(len(df_ultimate.query('total_duration > 3000'))))\n",
    "print('Ratio of people exceeded the Surf plan limit for calls: {:.0%}'.format(len(df_ultimate.query('total_duration > 3000')) / len(df_ultimate)))"
   ]
  },
  {
   "cell_type": "markdown",
   "metadata": {},
   "source": [
    "Surf plan limit is 500 minutes. Most users stay within the limit, but 36% of them exceed this limit. On the contrary, no one is exceeding the limits for the ultimate plan. Thus, more profit is made on the surf plan. "
   ]
  },
  {
   "cell_type": "markdown",
   "metadata": {},
   "source": [
    "So far it's apparent that the money is made with the surf plan. "
   ]
  },
  {
   "cell_type": "markdown",
   "metadata": {},
   "source": [
    " "
   ]
  },
  {
   "cell_type": "markdown",
   "metadata": {},
   "source": [
    "### Messages"
   ]
  },
  {
   "cell_type": "code",
   "execution_count": 66,
   "metadata": {},
   "outputs": [
    {
     "data": {
      "image/png": "[encoded data removed]",
      "text/plain": [
       "<Figure size 921.6x633.6 with 1 Axes>"
      ]
     },
     "metadata": {},
     "output_type": "display_data"
    }
   ],
   "source": [
    "# Compare the number of messages users of each plan tend to send each month\n",
    "df_surf.hist('num_messages')\n",
    "plt.title('Monthly number of messages')\n",
    "plt.suptitle('Plan \"Surf\"')\n",
    "plt.xlabel('number of messages')\n",
    "plt.ylabel('frequency');"
   ]
  },
  {
   "cell_type": "code",
   "execution_count": 67,
   "metadata": {},
   "outputs": [
    {
     "name": "stdout",
     "output_type": "stream",
     "text": [
      "Average monthly number of messages, plan Surf: 31\n",
      "Median monthly number of messages, plan Surf:24\n",
      "Standard deviation for monthly number of messages, plan Surf:34\n"
     ]
    }
   ],
   "source": [
    "print('Average monthly number of messages, plan Surf: {:.0f}'.format(df_surf['num_messages'].mean()))\n",
    "print('Median monthly number of messages, plan Surf:{:.0f}'.format(df_surf['num_messages'].median()))\n",
    "print('Standard deviation for monthly number of messages, plan Surf:{:.0f}'.format(df_surf['num_messages'].std()))"
   ]
  },
  {
   "cell_type": "code",
   "execution_count": 68,
   "metadata": {},
   "outputs": [
    {
     "data": {
      "image/png": "[encoded data removed]",
      "text/plain": [
       "<Figure size 921.6x633.6 with 1 Axes>"
      ]
     },
     "metadata": {},
     "output_type": "display_data"
    }
   ],
   "source": [
    "df_ultimate.hist('num_messages')\n",
    "plt.title('Monthly number of messages')\n",
    "plt.suptitle('Plan \"Ultimate\"')\n",
    "plt.xlabel('number of messages')\n",
    "plt.ylabel('frequency');"
   ]
  },
  {
   "cell_type": "code",
   "execution_count": 69,
   "metadata": {},
   "outputs": [
    {
     "name": "stdout",
     "output_type": "stream",
     "text": [
      "Average monthly number of messages, plan Ultimate: 38\n",
      "Median monthly number of messages, plan Ultimate:30\n",
      "Standard deviation for monthly number of messages, plan Ultimate:35\n"
     ]
    }
   ],
   "source": [
    "print('Average monthly number of messages, plan Ultimate: {:.0f}'.format(df_ultimate['num_messages'].mean()))\n",
    "print('Median monthly number of messages, plan Ultimate:{:.0f}'.format(df_ultimate['num_messages'].median()))\n",
    "print('Standard deviation for monthly number of messages, plan Ultimate:{:.0f}'.format(df_ultimate['num_messages'].std()))"
   ]
  },
  {
   "cell_type": "markdown",
   "metadata": {},
   "source": [
    "The plans have similar distributions in terms of messages. However, surf plan has higher mean and median messages. This is normal because ultimate members have a higher boundary so they are free to message more without worrying about going over the limit. "
   ]
  },
  {
   "cell_type": "code",
   "execution_count": 70,
   "metadata": {},
   "outputs": [
    {
     "name": "stdout",
     "output_type": "stream",
     "text": [
      "People exceeded the \"Surf\" plan limit for messages: 340\n",
      "Ratio of people exceeded the \"Surf\" plan limit for messages: 22%\n"
     ]
    }
   ],
   "source": [
    "print('People exceeded the \"Surf\" plan limit for messages: {:.0f}'.format(len(df_surf.query('num_messages > 50'))))\n",
    "print('Ratio of people exceeded the \"Surf\" plan limit for messages: {:.0%}'.format(len(df_surf.query('num_messages > 50')) / len(df_surf)))"
   ]
  },
  {
   "cell_type": "code",
   "execution_count": 71,
   "metadata": {},
   "outputs": [
    {
     "name": "stdout",
     "output_type": "stream",
     "text": [
      "People exceeded the \"Surf\" plan limit for messages: 0\n",
      "Ratio of people exceeded the \"Surf\" plan limit for messages: 0%\n"
     ]
    }
   ],
   "source": [
    "print('People exceeded the \"Surf\" plan limit for messages: {:.0f}'.format(len(df_ultimate.query('num_messages > 1000'))))\n",
    "print('Ratio of people exceeded the \"Surf\" plan limit for messages: {:.0%}'.format(len(df_ultimate.query('num_messages > 1000')) / len(df_ultimate)))"
   ]
  },
  {
   "cell_type": "markdown",
   "metadata": {},
   "source": [
    "Similar picture here. 22% of surf plan users exceed the message limit. 0% of ultimate members exceed the limit. The money is made with the surf plan again."
   ]
  },
  {
   "cell_type": "markdown",
   "metadata": {},
   "source": [
    " "
   ]
  },
  {
   "cell_type": "markdown",
   "metadata": {},
   "source": [
    "### Internet"
   ]
  },
  {
   "cell_type": "code",
   "execution_count": 72,
   "metadata": {},
   "outputs": [
    {
     "data": {
      "image/png": "[encoded data removed]",
      "text/plain": [
       "<Figure size 921.6x633.6 with 1 Axes>"
      ]
     },
     "metadata": {},
     "output_type": "display_data"
    }
   ],
   "source": [
    "df_surf.hist('gb_volume_month')\n",
    "plt.title('Monthly web traffic')\n",
    "plt.suptitle('Plan Surf')\n",
    "plt.xlabel('gigabytes of data')\n",
    "plt.ylabel('frequency');"
   ]
  },
  {
   "cell_type": "code",
   "execution_count": 73,
   "metadata": {},
   "outputs": [
    {
     "name": "stdout",
     "output_type": "stream",
     "text": [
      "Average monthly volume of data, plan \"Surf\": 17\n",
      "Median monthly volume of data, plan \"Surf\":17\n",
      "Standard deviation for monthly volume of data, plan \"Surf\":8\n"
     ]
    }
   ],
   "source": [
    "print('Average monthly volume of data, plan \"Surf\": {:.0f}'.format(df_surf['gb_volume_month'].mean()))\n",
    "print('Median monthly volume of data, plan \"Surf\":{:.0f}'.format(df_surf['gb_volume_month'].median()))\n",
    "print('Standard deviation for monthly volume of data, plan \"Surf\":{:.0f}'.format(df_surf['gb_volume_month'].std()))"
   ]
  },
  {
   "cell_type": "code",
   "execution_count": 74,
   "metadata": {},
   "outputs": [
    {
     "data": {
      "image/png": "[encoded data removed]",
      "text/plain": [
       "<Figure size 921.6x633.6 with 1 Axes>"
      ]
     },
     "metadata": {},
     "output_type": "display_data"
    }
   ],
   "source": [
    "df_ultimate.hist('gb_volume_month')\n",
    "plt.title('Monthly web traffic')\n",
    "plt.suptitle('Plan Ultimate')\n",
    "plt.xlabel('gigabytes of data')\n",
    "plt.ylabel('frequency');"
   ]
  },
  {
   "cell_type": "code",
   "execution_count": 75,
   "metadata": {},
   "outputs": [
    {
     "name": "stdout",
     "output_type": "stream",
     "text": [
      "Average monthly volume of data, plan Ultimate: 17\n",
      "Median monthly volume of data, plan Ultimate:17\n",
      "Standard deviation for monthly volume of data, plan Ultimate:8\n"
     ]
    }
   ],
   "source": [
    "print('Average monthly volume of data, plan Ultimate: {:.0f}'.format(df_ultimate['gb_volume_month'].mean()))\n",
    "print('Median monthly volume of data, plan Ultimate:{:.0f}'.format(df_ultimate['gb_volume_month'].median()))\n",
    "print('Standard deviation for monthly volume of data, plan Ultimate:{:.0f}'.format(df_ultimate['gb_volume_month'].std()))"
   ]
  },
  {
   "cell_type": "markdown",
   "metadata": {},
   "source": [
    "Both plans have similar distributions as well as similar means and median. Most of the rare values lie in the extreme cases over 25 gbs. "
   ]
  },
  {
   "cell_type": "code",
   "execution_count": 76,
   "metadata": {},
   "outputs": [
    {
     "name": "stdout",
     "output_type": "stream",
     "text": [
      "People exceeded the \"Surf\" plan limit for web traffic: 832\n",
      "Ratio of people exceeded the \"Surf\" plan limit for web traffic: 53%\n"
     ]
    }
   ],
   "source": [
    "print('People exceeded the \"Surf\" plan limit for web traffic: {:.0f}'.format(len(df_surf.query('gb_volume_month > 16'))))\n",
    "print('Ratio of people exceeded the \"Surf\" plan limit for web traffic: {:.0%}'.format(len(df_surf.query('gb_volume_month > 16')) / len(df_surf)))"
   ]
  },
  {
   "cell_type": "code",
   "execution_count": 77,
   "metadata": {},
   "outputs": [
    {
     "name": "stdout",
     "output_type": "stream",
     "text": [
      "People exceeded the \"Ultimate\" plan limit for web traffic: 36\n",
      "Ratio of people exceeded the \"Ultimate\" plan limit for web traffic: 2%\n"
     ]
    }
   ],
   "source": [
    "print('People exceeded the \"Ultimate\" plan limit for web traffic: {:.0f}'.format(len(df_ultimate.query('gb_volume_month > 31'))))\n",
    "print('Ratio of people exceeded the \"Ultimate\" plan limit for web traffic: {:.0%}'.format(len(df_ultimate.query('gb_volume_month > 31')) / len(df_surf)))"
   ]
  },
  {
   "cell_type": "markdown",
   "metadata": {},
   "source": [
    "Wow, we have 2% of cusomers exceeding the requirement at ultimate (it's usually 0). 55% of surf customers exceed the requirement. Surf plans limit is 16GB, only 1GB less than the average. This is why most people exceed this. Since we have the most % of people exceeding the limit here, as well as 2% at ultimate, we probably make the most profit here."
   ]
  },
  {
   "cell_type": "markdown",
   "metadata": {},
   "source": [
    " "
   ]
  },
  {
   "cell_type": "markdown",
   "metadata": {},
   "source": [
    " "
   ]
  },
  {
   "cell_type": "markdown",
   "metadata": {},
   "source": [
    "## Test statistical hypotheses"
   ]
  },
  {
   "cell_type": "markdown",
   "metadata": {},
   "source": [
    "Hypothesis on the Equality(Of Average Monthly Profit) of Two Different Plans\n",
    "\n",
    "H0: The means of two statistical populations are equal.  Average profit from users of \"Surf\" and \"Ultimate\" plans are equal.  \n",
    "\n",
    "H1: The means of two statistical populations are not equal. Average profit from users of \"Surf\" and \"Ultimate\" plans differ.\n",
    "\n",
    "Step 2: Set the criteria for a decision\n",
    "\n",
    "Alpha = 0.05. \n",
    "\n",
    "Step 3: Compute the test statistic\n",
    "\n",
    "In order to test our hypothesis that the means of two statistical populations are equal based on samples taken from them, we will apply the method scipy.stats.ttest_ind().\n",
    "\n"
   ]
  },
  {
   "cell_type": "code",
   "execution_count": 78,
   "metadata": {},
   "outputs": [],
   "source": [
    "# Test the hypotheses\n",
    "sample_1 = df_surf['monthly_revenue']\n",
    "sample_2 = df_ultimate['monthly_revenue']\n"
   ]
  },
  {
   "cell_type": "code",
   "execution_count": 79,
   "metadata": {},
   "outputs": [
    {
     "data": {
      "text/plain": [
       "LeveneResult(statistic=365.0227250934387, pvalue=1.267311889383148e-75)"
      ]
     },
     "execution_count": 79,
     "metadata": {},
     "output_type": "execute_result"
    }
   ],
   "source": [
    "# Check for variance diff signficiant\n",
    "st.levene(sample_1, sample_2)\n"
   ]
  },
  {
   "cell_type": "code",
   "execution_count": 80,
   "metadata": {},
   "outputs": [],
   "source": [
    "# Small P-value so we set equal_var parameter to FALSE"
   ]
  },
  {
   "cell_type": "code",
   "execution_count": 81,
   "metadata": {},
   "outputs": [
    {
     "name": "stdout",
     "output_type": "stream",
     "text": [
      "p-value:  1.437154952455543e-20\n",
      "We reject the null hypothesis\n"
     ]
    }
   ],
   "source": [
    "alpha = .05 # critical statistical significance level\n",
    "                        # if the p-value is less than alpha, we reject the hypothesis\n",
    "\n",
    "results = st.ttest_ind(\n",
    "                        sample_1, \n",
    "                        sample_2, \n",
    "                        equal_var=False)\n",
    "\n",
    "print('p-value: ', results.pvalue)\n",
    "\n",
    "if (results.pvalue < alpha):\n",
    "        print(\"We reject the null hypothesis\")\n",
    "else:\n",
    "        print(\"We retain the null hypothesis\")"
   ]
  },
  {
   "cell_type": "markdown",
   "metadata": {},
   "source": [
    "We have a very small p-value. This hypothesis would be rejected even if alpha was set to 0.01. The null states that these 2 plan profits are the same. We reject this, thus we say that the difference is significantly different."
   ]
  },
  {
   "cell_type": "markdown",
   "metadata": {},
   "source": [
    "Do a hypothesis test that states mean surf profit > mean ultimate profit.\n",
    "\n",
    "\n",
    "H0: Mean surf profit = mean ultimate profit\n",
    "\n",
    "H1: Mean surf profit > mean ultimate profit\n",
    "\n",
    "We will reject the null hypothesis if our p-value is < alpha (0.05)"
   ]
  },
  {
   "cell_type": "code",
   "execution_count": 82,
   "metadata": {},
   "outputs": [
    {
     "name": "stdout",
     "output_type": "stream",
     "text": [
      "p-value:  1.0\n",
      "We retain the null hypothesis\n"
     ]
    }
   ],
   "source": [
    "alpha = .05 # critical statistical significance level\n",
    "                        # if the p-value is less than alpha, we reject the hypothesis\n",
    "\n",
    "results = st.ttest_ind(\n",
    "                        sample_1, \n",
    "                        sample_2,\n",
    "                        equal_var=False,\n",
    "                        alternative='greater')\n",
    "\n",
    "print('p-value: ', results.pvalue)\n",
    "\n",
    "if (results.pvalue < alpha):\n",
    "        print(\"We reject the null hypothesis\")\n",
    "else:\n",
    "        print(\"We retain the null hypothesis\")"
   ]
  },
  {
   "cell_type": "markdown",
   "metadata": {},
   "source": [
    "We reject the null hypothesis once again. The surf plan's monthly mean profit is statistically significantly greater than that of the ultimate plan. "
   ]
  },
  {
   "cell_type": "code",
   "execution_count": 83,
   "metadata": {},
   "outputs": [],
   "source": [
    "# Test the hypotheses\n",
    "# Create 2 dataframe with the city conditions \n",
    "ny_nj_users = df_monthly[df_monthly['city'] == 'New York-Newark-Jersey City, NY-NJ-PA MSA']\n",
    "other_regions_users = df_monthly[df_monthly['city'] != 'New York-Newark-Jersey City, NY-NJ-PA MSA']"
   ]
  },
  {
   "cell_type": "markdown",
   "metadata": {},
   "source": [
    "Step 1: the null and alternative hypotheses\n",
    "\n",
    "H0: The means of two statistical populations are equal. Average profit from users in NY-NJ area and users in other regions is the same.\n",
    "\n",
    "H1: The means of two statistical populations are not equal.  Average profit from users in NY-NJ area and users in other regions differs.\n",
    "\n",
    "Step 2: Set the criteria for a decision\n",
    "\n",
    "Alpha = 0.05\n",
    "\n",
    "Step 3: Compute the test statistic\n",
    "\n",
    "In order to test our new hypothesis we will again apply the method scipy.stats.ttest_ind() but first let's test whether variances of these two populations are similar."
   ]
  },
  {
   "cell_type": "code",
   "execution_count": 84,
   "metadata": {},
   "outputs": [
    {
     "data": {
      "text/plain": [
       "LeveneResult(statistic=1.4457527015936522, pvalue=0.22933494946787555)"
      ]
     },
     "execution_count": 84,
     "metadata": {},
     "output_type": "execute_result"
    }
   ],
   "source": [
    "sample_ny = ny_nj_users['monthly_revenue']\n",
    "sample_other = other_regions_users['monthly_revenue']\n",
    "\n",
    "st.levene(sample_ny, sample_other)"
   ]
  },
  {
   "cell_type": "markdown",
   "metadata": {},
   "source": [
    "p-value < 0.05 so we set the equal-var parameter to false. "
   ]
  },
  {
   "cell_type": "code",
   "execution_count": 85,
   "metadata": {},
   "outputs": [
    {
     "name": "stdout",
     "output_type": "stream",
     "text": [
      "p-value:  0.024618308103497293\n",
      "We reject the null hypothesis\n"
     ]
    }
   ],
   "source": [
    "alpha = .05 # critical statistical significance level\n",
    "                        # if the p-value is less than alpha, we reject the hypothesis\n",
    "\n",
    "results = st.ttest_ind(\n",
    "                        sample_ny, \n",
    "                        sample_other, \n",
    "                        equal_var=False)\n",
    "\n",
    "print('p-value: ', results.pvalue)\n",
    "\n",
    "if (results.pvalue < alpha):\n",
    "        print(\"We reject the null hypothesis\")\n",
    "else:\n",
    "        print(\"We retain the null hypothesis\")"
   ]
  },
  {
   "cell_type": "markdown",
   "metadata": {},
   "source": [
    "We reject the null hypothesis because p-value < 0.05. This means the difference of average profit between these regions is significant.   \n",
    "\n",
    "Let's do a one tailed test to see if NY is greater or less than other regions."
   ]
  },
  {
   "cell_type": "markdown",
   "metadata": {},
   "source": [
    "H0: The mean profits between NY and other regions are same\n",
    "H1: THe mean profits of NY < mean profits other regions"
   ]
  },
  {
   "cell_type": "code",
   "execution_count": 86,
   "metadata": {},
   "outputs": [
    {
     "name": "stdout",
     "output_type": "stream",
     "text": [
      "p-value:  0.012309154051748646\n",
      "We reject the null hypothesis\n"
     ]
    }
   ],
   "source": [
    "alpha = .05 # critical statistical significance level\n",
    "                        # if the p-value is less than alpha, we reject the hypothesis\n",
    "\n",
    "results = st.ttest_ind(\n",
    "                        sample_ny, \n",
    "                        sample_other,\n",
    "                        equal_var=False,\n",
    "                        alternative='less')\n",
    "\n",
    "print('p-value: ', results.pvalue)\n",
    "\n",
    "if (results.pvalue < alpha):\n",
    "        print(\"We reject the null hypothesis\")\n",
    "else:\n",
    "        print(\"We retain the null hypothesis\")"
   ]
  },
  {
   "cell_type": "markdown",
   "metadata": {},
   "source": [
    "We fail to reject the null hypothesis since p-value > alpha. Meaning that the mean profit of NY is not less than the mean profits of other regions"
   ]
  },
  {
   "cell_type": "markdown",
   "metadata": {},
   "source": [
    "## General conclusion\n",
    "\n",
    "We've analyzed the difference of profitibility between SURF and ULTIMATE plans.\n",
    "\n",
    "We found that the SURF plan is mostly profitable throughout the year with a tendency of being more and more profit-making towards the end of the year. In contrast, the ULTIMATE plan is mostly not profitable during the year, with the opposite tendency of being even more costly by the end of the year.\n",
    "\n",
    "Despite distributions of calls, messages, internet, being similar. We saw that SURF customers were more likely to exceed the minimum requirements whereas ULTIMATE customers only exceeded in the internet department (only 2%).\n",
    "\n",
    "Next step was statistical hypotheses testing. We tested two hypotheses:\n",
    "\n",
    "The average profit from users of Ultimate and Surf plans differs;\n",
    "The average profit from users in NY-NJ area is different from that of the users from other regions.\n",
    "For the first case we saw that Surf plans average monthly profit is statistically different (greater) that of the ULTIMATE Plan's average monthly profit\n",
    "\n"
   ]
  },
  {
   "cell_type": "markdown",
   "metadata": {},
   "source": [
    " "
   ]
  }
 ],
 "metadata": {
  "ExecuteTimeLog": [
   {
    "duration": 828,
    "start_time": "2021-11-16T09:21:11.304Z"
   },
   {
    "duration": 893,
    "start_time": "2021-11-16T09:21:17.728Z"
   },
   {
    "duration": 1150,
    "start_time": "2021-11-16T09:21:29.568Z"
   },
   {
    "duration": 3,
    "start_time": "2021-11-16T09:24:14.495Z"
   },
   {
    "duration": 120,
    "start_time": "2021-11-16T09:24:46.630Z"
   },
   {
    "duration": 3,
    "start_time": "2021-11-16T09:28:27.882Z"
   },
   {
    "duration": 4,
    "start_time": "2021-11-16T09:29:54.281Z"
   },
   {
    "duration": 3,
    "start_time": "2021-11-16T09:30:45.936Z"
   },
   {
    "duration": 4,
    "start_time": "2021-11-16T09:31:06.300Z"
   },
   {
    "duration": 113,
    "start_time": "2021-11-16T09:31:37.208Z"
   },
   {
    "duration": 143,
    "start_time": "2021-11-16T09:31:48.656Z"
   },
   {
    "duration": 98,
    "start_time": "2021-11-16T09:31:55.678Z"
   },
   {
    "duration": 3,
    "start_time": "2021-11-16T09:32:08.535Z"
   },
   {
    "duration": 111,
    "start_time": "2021-11-16T09:32:10.120Z"
   },
   {
    "duration": 3,
    "start_time": "2021-11-16T09:32:15.732Z"
   },
   {
    "duration": 4,
    "start_time": "2021-11-16T09:32:29.423Z"
   },
   {
    "duration": 3,
    "start_time": "2021-11-16T10:03:03.074Z"
   },
   {
    "duration": 3,
    "start_time": "2021-11-16T10:10:01.288Z"
   },
   {
    "duration": 3,
    "start_time": "2021-11-16T10:10:46.923Z"
   },
   {
    "duration": 121,
    "start_time": "2021-11-16T10:37:46.494Z"
   },
   {
    "duration": 125,
    "start_time": "2021-11-16T10:38:20.632Z"
   },
   {
    "duration": 112,
    "start_time": "2021-11-16T10:46:53.001Z"
   },
   {
    "duration": 110,
    "start_time": "2021-11-16T10:48:25.775Z"
   },
   {
    "duration": 3,
    "start_time": "2021-11-16T10:50:18.720Z"
   },
   {
    "duration": 4,
    "start_time": "2021-11-16T10:50:37.649Z"
   },
   {
    "duration": 2,
    "start_time": "2021-11-16T10:50:51.884Z"
   },
   {
    "duration": 3,
    "start_time": "2021-11-16T10:51:56.237Z"
   },
   {
    "duration": 101,
    "start_time": "2021-11-16T10:53:13.791Z"
   },
   {
    "duration": 3,
    "start_time": "2021-11-16T10:55:59.186Z"
   },
   {
    "duration": 3,
    "start_time": "2021-11-16T10:56:10.751Z"
   },
   {
    "duration": 3,
    "start_time": "2021-11-16T10:56:49.038Z"
   },
   {
    "duration": 3,
    "start_time": "2021-11-16T10:56:49.174Z"
   },
   {
    "duration": 4,
    "start_time": "2021-11-16T10:56:49.414Z"
   },
   {
    "duration": 3,
    "start_time": "2021-11-16T10:56:49.680Z"
   },
   {
    "duration": 3,
    "start_time": "2021-11-16T10:56:50.370Z"
   },
   {
    "duration": 114,
    "start_time": "2021-11-16T10:59:34.518Z"
   },
   {
    "duration": 3,
    "start_time": "2021-11-16T11:01:41.201Z"
   },
   {
    "duration": 116,
    "start_time": "2021-11-16T11:01:48.754Z"
   },
   {
    "duration": 3,
    "start_time": "2021-11-16T11:02:16.685Z"
   },
   {
    "duration": 3,
    "start_time": "2021-11-16T11:02:19.479Z"
   },
   {
    "duration": 3,
    "start_time": "2021-11-16T11:02:47.067Z"
   },
   {
    "duration": 3,
    "start_time": "2021-11-16T11:02:49.353Z"
   },
   {
    "duration": 3,
    "start_time": "2021-11-16T11:03:07.835Z"
   },
   {
    "duration": 3,
    "start_time": "2021-11-16T11:03:07.953Z"
   },
   {
    "duration": 112,
    "start_time": "2021-11-16T11:07:52.072Z"
   },
   {
    "duration": 187,
    "start_time": "2021-11-16T11:09:23.468Z"
   },
   {
    "duration": 4,
    "start_time": "2021-11-16T11:10:01.455Z"
   },
   {
    "duration": 3,
    "start_time": "2021-11-16T11:10:05.069Z"
   },
   {
    "duration": 4,
    "start_time": "2021-11-16T11:10:13.376Z"
   },
   {
    "duration": 3,
    "start_time": "2021-11-16T11:10:14.434Z"
   },
   {
    "duration": 3,
    "start_time": "2021-11-16T11:10:22.853Z"
   },
   {
    "duration": 4,
    "start_time": "2021-11-16T11:27:29.279Z"
   },
   {
    "duration": 4,
    "start_time": "2021-11-16T11:29:08.919Z"
   },
   {
    "duration": 118,
    "start_time": "2021-11-16T11:29:46.703Z"
   },
   {
    "duration": 437,
    "start_time": "2021-11-16T11:36:02.181Z"
   },
   {
    "duration": 157,
    "start_time": "2021-11-16T11:36:14.388Z"
   },
   {
    "duration": 207,
    "start_time": "2021-11-16T11:47:15.898Z"
   },
   {
    "duration": 3,
    "start_time": "2021-11-16T11:53:52.092Z"
   },
   {
    "duration": 3,
    "start_time": "2021-11-16T11:53:52.236Z"
   },
   {
    "duration": 3,
    "start_time": "2021-11-16T11:59:12.005Z"
   },
   {
    "duration": 112,
    "start_time": "2021-11-16T12:00:33.446Z"
   },
   {
    "duration": 3,
    "start_time": "2021-11-16T12:02:14.453Z"
   },
   {
    "duration": 3,
    "start_time": "2021-11-16T12:02:39.512Z"
   },
   {
    "duration": 106,
    "start_time": "2021-11-16T12:03:03.460Z"
   },
   {
    "duration": 3,
    "start_time": "2021-11-17T20:37:21.139Z"
   },
   {
    "duration": 3,
    "start_time": "2021-11-17T20:37:22.229Z"
   },
   {
    "duration": 3,
    "start_time": "2021-11-17T20:38:38.806Z"
   },
   {
    "duration": 3,
    "start_time": "2021-11-17T20:38:41.958Z"
   },
   {
    "duration": 3,
    "start_time": "2021-11-17T20:43:46.551Z"
   },
   {
    "duration": 4,
    "start_time": "2021-11-17T20:58:21.835Z"
   },
   {
    "duration": 3,
    "start_time": "2021-11-17T20:59:21.872Z"
   },
   {
    "duration": 4,
    "start_time": "2021-11-17T20:59:45.352Z"
   },
   {
    "duration": 4,
    "start_time": "2021-11-17T20:59:49.646Z"
   },
   {
    "duration": 159,
    "start_time": "2021-11-17T21:02:26.949Z"
   },
   {
    "duration": 3,
    "start_time": "2021-11-17T21:03:53.461Z"
   },
   {
    "duration": 3,
    "start_time": "2021-11-17T21:03:53.694Z"
   },
   {
    "duration": 3,
    "start_time": "2021-11-17T21:05:28.145Z"
   },
   {
    "duration": 116,
    "start_time": "2021-11-17T21:05:57.787Z"
   },
   {
    "duration": 3,
    "start_time": "2021-11-17T21:06:37.993Z"
   },
   {
    "duration": 3,
    "start_time": "2021-11-17T21:06:38.261Z"
   },
   {
    "duration": 3,
    "start_time": "2021-11-17T21:11:54.358Z"
   },
   {
    "duration": 3,
    "start_time": "2021-11-17T21:12:43.846Z"
   },
   {
    "duration": 4,
    "start_time": "2021-11-17T21:13:08.773Z"
   },
   {
    "duration": 3,
    "start_time": "2021-11-17T21:14:44.441Z"
   },
   {
    "duration": 3,
    "start_time": "2021-11-17T21:15:42.059Z"
   },
   {
    "duration": 4,
    "start_time": "2021-11-17T21:15:51.995Z"
   },
   {
    "duration": 3,
    "start_time": "2021-11-17T21:15:53.923Z"
   },
   {
    "duration": 3,
    "start_time": "2021-11-17T21:15:55.282Z"
   },
   {
    "duration": 3,
    "start_time": "2021-11-17T21:16:28.492Z"
   },
   {
    "duration": 3,
    "start_time": "2021-11-17T21:16:32.603Z"
   },
   {
    "duration": 3,
    "start_time": "2021-11-17T21:17:06.941Z"
   },
   {
    "duration": 98,
    "start_time": "2021-11-17T21:18:05.733Z"
   },
   {
    "duration": 4,
    "start_time": "2021-11-17T21:21:35.255Z"
   },
   {
    "duration": 3,
    "start_time": "2021-11-17T21:21:37.804Z"
   },
   {
    "duration": 4,
    "start_time": "2021-11-17T21:23:06.071Z"
   },
   {
    "duration": 3,
    "start_time": "2021-11-17T21:23:24.799Z"
   },
   {
    "duration": 3,
    "start_time": "2021-11-17T21:23:32.591Z"
   },
   {
    "duration": 98,
    "start_time": "2021-11-17T21:28:31.559Z"
   },
   {
    "duration": 3,
    "start_time": "2021-11-17T21:28:45.448Z"
   },
   {
    "duration": 3,
    "start_time": "2021-11-17T21:29:17.303Z"
   },
   {
    "duration": 3,
    "start_time": "2021-11-17T21:29:29.617Z"
   },
   {
    "duration": 3,
    "start_time": "2021-11-17T21:29:32.681Z"
   },
   {
    "duration": 3,
    "start_time": "2021-11-17T21:36:11.474Z"
   },
   {
    "duration": 3,
    "start_time": "2021-11-17T21:36:14.791Z"
   },
   {
    "duration": 3,
    "start_time": "2021-11-17T21:36:53.943Z"
   },
   {
    "duration": 3,
    "start_time": "2021-11-17T21:36:56.165Z"
   },
   {
    "duration": 4,
    "start_time": "2021-11-17T21:37:16.590Z"
   },
   {
    "duration": 3,
    "start_time": "2021-11-17T21:37:22.702Z"
   },
   {
    "duration": 4,
    "start_time": "2021-11-17T21:38:03.479Z"
   },
   {
    "duration": 3,
    "start_time": "2021-11-17T21:38:08.601Z"
   },
   {
    "duration": 3,
    "start_time": "2021-11-17T21:38:12.928Z"
   },
   {
    "duration": 3,
    "start_time": "2021-11-17T21:38:48.896Z"
   },
   {
    "duration": 2,
    "start_time": "2021-11-17T21:38:49.171Z"
   },
   {
    "duration": 4,
    "start_time": "2021-11-17T21:39:57.889Z"
   },
   {
    "duration": 3,
    "start_time": "2021-11-17T21:39:58.057Z"
   },
   {
    "duration": 3,
    "start_time": "2021-11-17T21:41:20.108Z"
   },
   {
    "duration": 3,
    "start_time": "2021-11-17T21:41:20.629Z"
   },
   {
    "duration": 3,
    "start_time": "2021-11-17T21:42:49.136Z"
   },
   {
    "duration": 3,
    "start_time": "2021-11-17T21:43:15.137Z"
   },
   {
    "duration": 4,
    "start_time": "2021-11-17T21:43:16.766Z"
   },
   {
    "duration": 4,
    "start_time": "2021-11-17T21:43:31.711Z"
   },
   {
    "duration": 3,
    "start_time": "2021-11-17T21:43:36.312Z"
   },
   {
    "duration": 4,
    "start_time": "2021-11-17T21:45:08.825Z"
   },
   {
    "duration": 4,
    "start_time": "2021-11-17T21:45:10.119Z"
   },
   {
    "duration": 4,
    "start_time": "2021-11-17T21:45:13.748Z"
   },
   {
    "duration": 3,
    "start_time": "2021-11-17T21:45:22.219Z"
   },
   {
    "duration": 3,
    "start_time": "2021-11-17T21:45:33.412Z"
   },
   {
    "duration": 2,
    "start_time": "2021-11-17T21:46:01.885Z"
   },
   {
    "duration": 3,
    "start_time": "2021-11-17T21:46:03.628Z"
   },
   {
    "duration": 107,
    "start_time": "2021-11-17T21:47:32.512Z"
   },
   {
    "duration": 103,
    "start_time": "2021-11-17T21:50:36.243Z"
   },
   {
    "duration": 3,
    "start_time": "2021-11-18T06:28:31.440Z"
   },
   {
    "duration": 3,
    "start_time": "2021-11-18T06:29:00.168Z"
   },
   {
    "duration": 3,
    "start_time": "2021-11-18T06:31:27.008Z"
   },
   {
    "duration": 2,
    "start_time": "2021-11-18T06:35:34.288Z"
   },
   {
    "duration": 2,
    "start_time": "2021-11-18T06:38:04.527Z"
   },
   {
    "duration": 1298,
    "start_time": "2022-04-10T02:43:30.231Z"
   },
   {
    "duration": 962,
    "start_time": "2022-04-10T02:43:52.457Z"
   },
   {
    "duration": 3,
    "start_time": "2022-04-10T02:44:42.458Z"
   },
   {
    "duration": 4,
    "start_time": "2022-04-10T02:44:53.728Z"
   },
   {
    "duration": 63,
    "start_time": "2022-04-10T02:45:09.550Z"
   },
   {
    "duration": 43,
    "start_time": "2022-04-10T02:45:23.197Z"
   },
   {
    "duration": 55,
    "start_time": "2022-04-10T02:47:30.906Z"
   },
   {
    "duration": 9,
    "start_time": "2022-04-10T02:49:30.890Z"
   },
   {
    "duration": 439,
    "start_time": "2022-04-10T02:49:34.601Z"
   },
   {
    "duration": 9,
    "start_time": "2022-04-10T02:49:40.745Z"
   },
   {
    "duration": 10,
    "start_time": "2022-04-10T02:49:49.835Z"
   },
   {
    "duration": 11,
    "start_time": "2022-04-10T02:50:34.206Z"
   },
   {
    "duration": 12,
    "start_time": "2022-04-10T02:50:42.605Z"
   },
   {
    "duration": 16,
    "start_time": "2022-04-10T02:51:54.672Z"
   },
   {
    "duration": 10,
    "start_time": "2022-04-10T02:52:04.187Z"
   },
   {
    "duration": 14,
    "start_time": "2022-04-10T02:52:15.320Z"
   },
   {
    "duration": 11,
    "start_time": "2022-04-10T02:52:21.955Z"
   },
   {
    "duration": 14,
    "start_time": "2022-04-10T02:52:30.940Z"
   },
   {
    "duration": 12,
    "start_time": "2022-04-10T02:52:38.029Z"
   },
   {
    "duration": 1265,
    "start_time": "2022-04-10T23:27:59.227Z"
   },
   {
    "duration": 949,
    "start_time": "2022-04-10T23:28:00.494Z"
   },
   {
    "duration": 3,
    "start_time": "2022-04-10T23:28:01.445Z"
   },
   {
    "duration": 16,
    "start_time": "2022-04-10T23:28:01.450Z"
   },
   {
    "duration": 61,
    "start_time": "2022-04-10T23:28:01.468Z"
   },
   {
    "duration": 64,
    "start_time": "2022-04-10T23:28:01.531Z"
   },
   {
    "duration": 10,
    "start_time": "2022-04-10T23:28:01.596Z"
   },
   {
    "duration": 18,
    "start_time": "2022-04-10T23:28:01.608Z"
   },
   {
    "duration": 75,
    "start_time": "2022-04-10T23:28:01.628Z"
   },
   {
    "duration": 10,
    "start_time": "2022-04-10T23:28:01.706Z"
   },
   {
    "duration": 19,
    "start_time": "2022-04-10T23:28:01.718Z"
   },
   {
    "duration": 19,
    "start_time": "2022-04-10T23:28:01.738Z"
   },
   {
    "duration": 27,
    "start_time": "2022-04-10T23:28:01.759Z"
   },
   {
    "duration": 13,
    "start_time": "2022-04-10T23:28:01.788Z"
   },
   {
    "duration": 9,
    "start_time": "2022-04-10T23:28:01.802Z"
   },
   {
    "duration": 16,
    "start_time": "2022-04-10T23:28:01.813Z"
   },
   {
    "duration": 11,
    "start_time": "2022-04-10T23:28:01.831Z"
   },
   {
    "duration": 37,
    "start_time": "2022-04-10T23:28:01.844Z"
   },
   {
    "duration": 5,
    "start_time": "2022-04-10T23:28:01.882Z"
   },
   {
    "duration": 4,
    "start_time": "2022-04-10T23:28:01.888Z"
   },
   {
    "duration": 4,
    "start_time": "2022-04-10T23:28:01.893Z"
   },
   {
    "duration": 4,
    "start_time": "2022-04-10T23:28:01.898Z"
   },
   {
    "duration": 4,
    "start_time": "2022-04-10T23:28:01.904Z"
   },
   {
    "duration": 6,
    "start_time": "2022-04-10T23:28:01.909Z"
   },
   {
    "duration": 10,
    "start_time": "2022-04-10T23:28:01.917Z"
   },
   {
    "duration": 10,
    "start_time": "2022-04-10T23:28:01.929Z"
   },
   {
    "duration": 6,
    "start_time": "2022-04-10T23:28:01.940Z"
   },
   {
    "duration": 6,
    "start_time": "2022-04-10T23:28:01.949Z"
   },
   {
    "duration": 5,
    "start_time": "2022-04-10T23:28:01.956Z"
   },
   {
    "duration": 19,
    "start_time": "2022-04-10T23:28:01.962Z"
   },
   {
    "duration": 5,
    "start_time": "2022-04-10T23:28:01.982Z"
   },
   {
    "duration": 8,
    "start_time": "2022-04-10T23:28:01.988Z"
   },
   {
    "duration": 6,
    "start_time": "2022-04-10T23:28:01.997Z"
   },
   {
    "duration": 6,
    "start_time": "2022-04-10T23:34:29.151Z"
   },
   {
    "duration": 5,
    "start_time": "2022-04-10T23:34:48.271Z"
   },
   {
    "duration": 7,
    "start_time": "2022-04-10T23:39:29.230Z"
   },
   {
    "duration": 10,
    "start_time": "2022-04-10T23:39:36.607Z"
   },
   {
    "duration": 10,
    "start_time": "2022-04-10T23:39:56.053Z"
   },
   {
    "duration": 16,
    "start_time": "2022-04-10T23:43:34.708Z"
   },
   {
    "duration": 11,
    "start_time": "2022-04-10T23:45:59.847Z"
   },
   {
    "duration": 12,
    "start_time": "2022-04-10T23:46:04.901Z"
   },
   {
    "duration": 41,
    "start_time": "2022-04-10T23:46:13.590Z"
   },
   {
    "duration": 16,
    "start_time": "2022-04-10T23:46:26.487Z"
   },
   {
    "duration": 7,
    "start_time": "2022-04-10T23:46:33.470Z"
   },
   {
    "duration": 9,
    "start_time": "2022-04-10T23:48:02.298Z"
   },
   {
    "duration": 8,
    "start_time": "2022-04-10T23:48:05.217Z"
   },
   {
    "duration": 21,
    "start_time": "2022-04-10T23:48:12.347Z"
   },
   {
    "duration": 10,
    "start_time": "2022-04-10T23:49:16.592Z"
   },
   {
    "duration": 57,
    "start_time": "2022-04-10T23:49:23.014Z"
   },
   {
    "duration": 9,
    "start_time": "2022-04-10T23:52:48.233Z"
   },
   {
    "duration": 8,
    "start_time": "2022-04-10T23:52:54.929Z"
   },
   {
    "duration": 8,
    "start_time": "2022-04-10T23:53:34.757Z"
   },
   {
    "duration": 42,
    "start_time": "2022-04-11T00:10:31.131Z"
   },
   {
    "duration": 10,
    "start_time": "2022-04-11T00:10:53.551Z"
   },
   {
    "duration": 10,
    "start_time": "2022-04-11T00:11:03.679Z"
   },
   {
    "duration": 10,
    "start_time": "2022-04-11T00:11:40.284Z"
   },
   {
    "duration": 9,
    "start_time": "2022-04-11T00:12:11.631Z"
   },
   {
    "duration": 10,
    "start_time": "2022-04-11T00:12:41.688Z"
   },
   {
    "duration": 10,
    "start_time": "2022-04-11T00:13:14.996Z"
   },
   {
    "duration": 15,
    "start_time": "2022-04-11T00:13:23.504Z"
   },
   {
    "duration": 13,
    "start_time": "2022-04-11T00:13:31.446Z"
   },
   {
    "duration": 9,
    "start_time": "2022-04-11T00:15:31.211Z"
   },
   {
    "duration": 9,
    "start_time": "2022-04-11T00:25:27.758Z"
   },
   {
    "duration": 12,
    "start_time": "2022-04-11T00:25:35.268Z"
   },
   {
    "duration": 9,
    "start_time": "2022-04-11T00:25:39.793Z"
   },
   {
    "duration": 12,
    "start_time": "2022-04-11T00:25:40.464Z"
   },
   {
    "duration": 1166,
    "start_time": "2022-04-11T00:29:12.009Z"
   },
   {
    "duration": 2414,
    "start_time": "2022-04-11T00:29:13.179Z"
   },
   {
    "duration": 3,
    "start_time": "2022-04-11T00:29:15.595Z"
   },
   {
    "duration": 6,
    "start_time": "2022-04-11T00:29:15.599Z"
   },
   {
    "duration": 62,
    "start_time": "2022-04-11T00:29:15.607Z"
   },
   {
    "duration": 43,
    "start_time": "2022-04-11T00:29:15.671Z"
   },
   {
    "duration": 10,
    "start_time": "2022-04-11T00:29:15.715Z"
   },
   {
    "duration": 15,
    "start_time": "2022-04-11T00:29:15.727Z"
   },
   {
    "duration": 82,
    "start_time": "2022-04-11T00:29:15.743Z"
   },
   {
    "duration": 3,
    "start_time": "2022-04-11T00:29:15.826Z"
   },
   {
    "duration": 14,
    "start_time": "2022-04-11T00:29:15.830Z"
   },
   {
    "duration": 13,
    "start_time": "2022-04-11T00:29:15.846Z"
   },
   {
    "duration": 28,
    "start_time": "2022-04-11T00:29:15.860Z"
   },
   {
    "duration": 5,
    "start_time": "2022-04-11T00:29:15.891Z"
   },
   {
    "duration": 9,
    "start_time": "2022-04-11T00:29:15.897Z"
   },
   {
    "duration": 18,
    "start_time": "2022-04-11T00:29:15.907Z"
   },
   {
    "duration": 12,
    "start_time": "2022-04-11T00:29:15.926Z"
   },
   {
    "duration": 44,
    "start_time": "2022-04-11T00:29:15.939Z"
   },
   {
    "duration": 39,
    "start_time": "2022-04-11T00:29:15.985Z"
   },
   {
    "duration": 10,
    "start_time": "2022-04-11T00:29:16.026Z"
   },
   {
    "duration": 9,
    "start_time": "2022-04-11T00:29:16.037Z"
   },
   {
    "duration": 36,
    "start_time": "2022-04-11T00:29:16.048Z"
   },
   {
    "duration": 8,
    "start_time": "2022-04-11T00:29:16.086Z"
   },
   {
    "duration": 12,
    "start_time": "2022-04-11T00:29:16.096Z"
   },
   {
    "duration": 17,
    "start_time": "2022-04-11T00:29:16.109Z"
   },
   {
    "duration": 8,
    "start_time": "2022-04-11T00:29:16.128Z"
   },
   {
    "duration": 42,
    "start_time": "2022-04-11T00:29:16.138Z"
   },
   {
    "duration": 18,
    "start_time": "2022-04-11T00:29:16.181Z"
   },
   {
    "duration": 14,
    "start_time": "2022-04-11T00:29:16.201Z"
   },
   {
    "duration": 10,
    "start_time": "2022-04-11T00:29:16.217Z"
   },
   {
    "duration": 11,
    "start_time": "2022-04-11T00:29:16.228Z"
   },
   {
    "duration": 75,
    "start_time": "2022-04-11T00:29:16.241Z"
   },
   {
    "duration": 8,
    "start_time": "2022-04-11T00:29:16.318Z"
   },
   {
    "duration": 4,
    "start_time": "2022-04-11T00:29:16.327Z"
   },
   {
    "duration": 6,
    "start_time": "2022-04-11T00:29:16.332Z"
   },
   {
    "duration": 4,
    "start_time": "2022-04-11T00:29:16.340Z"
   },
   {
    "duration": 5,
    "start_time": "2022-04-11T00:29:16.345Z"
   },
   {
    "duration": 5,
    "start_time": "2022-04-11T00:29:16.351Z"
   },
   {
    "duration": 3,
    "start_time": "2022-04-11T00:29:16.379Z"
   },
   {
    "duration": 4,
    "start_time": "2022-04-11T00:29:16.384Z"
   },
   {
    "duration": 3,
    "start_time": "2022-04-11T00:29:16.392Z"
   },
   {
    "duration": 6,
    "start_time": "2022-04-11T00:29:16.396Z"
   },
   {
    "duration": 4,
    "start_time": "2022-04-11T00:29:16.404Z"
   },
   {
    "duration": 5,
    "start_time": "2022-04-11T00:29:16.409Z"
   },
   {
    "duration": 4,
    "start_time": "2022-04-11T00:29:16.415Z"
   },
   {
    "duration": 5,
    "start_time": "2022-04-11T00:29:16.421Z"
   },
   {
    "duration": 5,
    "start_time": "2022-04-11T00:29:16.427Z"
   },
   {
    "duration": 3,
    "start_time": "2022-04-11T00:29:16.434Z"
   },
   {
    "duration": 8,
    "start_time": "2022-04-11T00:31:15.188Z"
   },
   {
    "duration": 9,
    "start_time": "2022-04-11T00:32:52.148Z"
   },
   {
    "duration": 219,
    "start_time": "2022-04-11T00:34:40.952Z"
   },
   {
    "duration": 19,
    "start_time": "2022-04-11T00:35:47.483Z"
   },
   {
    "duration": 6,
    "start_time": "2022-04-11T00:36:12.559Z"
   },
   {
    "duration": 5,
    "start_time": "2022-04-11T00:36:26.994Z"
   },
   {
    "duration": 15,
    "start_time": "2022-04-11T00:38:10.301Z"
   },
   {
    "duration": 15,
    "start_time": "2022-04-11T00:38:15.253Z"
   },
   {
    "duration": 93,
    "start_time": "2022-04-11T00:38:57.973Z"
   },
   {
    "duration": 17,
    "start_time": "2022-04-11T00:39:27.307Z"
   },
   {
    "duration": 17,
    "start_time": "2022-04-11T00:40:06.166Z"
   },
   {
    "duration": 8,
    "start_time": "2022-04-11T00:40:12.615Z"
   },
   {
    "duration": 30,
    "start_time": "2022-04-11T00:41:58.091Z"
   },
   {
    "duration": 8,
    "start_time": "2022-04-11T00:41:59.140Z"
   },
   {
    "duration": 17,
    "start_time": "2022-04-11T00:44:27.718Z"
   },
   {
    "duration": 8,
    "start_time": "2022-04-11T00:44:28.304Z"
   },
   {
    "duration": 453,
    "start_time": "2022-04-11T00:45:31.296Z"
   },
   {
    "duration": 18,
    "start_time": "2022-04-11T00:46:49.794Z"
   },
   {
    "duration": 21,
    "start_time": "2022-04-11T00:47:02.604Z"
   },
   {
    "duration": 20,
    "start_time": "2022-04-11T00:48:10.212Z"
   },
   {
    "duration": 19,
    "start_time": "2022-04-11T00:48:28.485Z"
   },
   {
    "duration": 21,
    "start_time": "2022-04-11T00:48:29.439Z"
   },
   {
    "duration": 34,
    "start_time": "2022-04-11T00:50:25.273Z"
   },
   {
    "duration": 33,
    "start_time": "2022-04-11T00:51:42.087Z"
   },
   {
    "duration": 232,
    "start_time": "2022-04-11T00:53:16.376Z"
   },
   {
    "duration": 34,
    "start_time": "2022-04-11T00:53:22.531Z"
   },
   {
    "duration": 34,
    "start_time": "2022-04-11T00:53:36.169Z"
   },
   {
    "duration": 30,
    "start_time": "2022-04-11T00:54:08.785Z"
   },
   {
    "duration": 32,
    "start_time": "2022-04-11T00:54:21.355Z"
   },
   {
    "duration": 442,
    "start_time": "2022-04-11T00:55:39.744Z"
   },
   {
    "duration": 29,
    "start_time": "2022-04-11T00:56:24.958Z"
   },
   {
    "duration": 13,
    "start_time": "2022-04-11T01:06:39.766Z"
   },
   {
    "duration": 31,
    "start_time": "2022-04-11T01:08:46.630Z"
   },
   {
    "duration": 31,
    "start_time": "2022-04-11T01:09:11.566Z"
   },
   {
    "duration": 15,
    "start_time": "2022-04-11T01:14:17.910Z"
   },
   {
    "duration": 15,
    "start_time": "2022-04-11T01:14:29.074Z"
   },
   {
    "duration": 21,
    "start_time": "2022-04-11T01:14:33.421Z"
   },
   {
    "duration": 14,
    "start_time": "2022-04-11T01:15:05.393Z"
   },
   {
    "duration": 15,
    "start_time": "2022-04-11T01:16:01.176Z"
   },
   {
    "duration": 14,
    "start_time": "2022-04-11T01:17:42.893Z"
   },
   {
    "duration": 11,
    "start_time": "2022-04-11T01:17:49.917Z"
   },
   {
    "duration": 10,
    "start_time": "2022-04-11T01:19:00.063Z"
   },
   {
    "duration": 6,
    "start_time": "2022-04-11T01:19:11.878Z"
   },
   {
    "duration": 8,
    "start_time": "2022-04-11T01:20:20.511Z"
   },
   {
    "duration": 14,
    "start_time": "2022-04-11T01:20:26.001Z"
   },
   {
    "duration": 13,
    "start_time": "2022-04-11T01:22:11.675Z"
   },
   {
    "duration": 10,
    "start_time": "2022-04-11T01:23:15.058Z"
   },
   {
    "duration": 16,
    "start_time": "2022-04-11T01:23:23.235Z"
   },
   {
    "duration": 24,
    "start_time": "2022-04-11T01:24:44.922Z"
   },
   {
    "duration": 6,
    "start_time": "2022-04-11T01:26:37.933Z"
   },
   {
    "duration": 7,
    "start_time": "2022-04-11T01:26:44.042Z"
   },
   {
    "duration": 28,
    "start_time": "2022-04-11T01:27:23.721Z"
   },
   {
    "duration": 2,
    "start_time": "2022-04-11T01:27:56.412Z"
   },
   {
    "duration": 4,
    "start_time": "2022-04-11T01:29:19.652Z"
   },
   {
    "duration": 8,
    "start_time": "2022-04-11T01:29:34.773Z"
   },
   {
    "duration": 7,
    "start_time": "2022-04-11T01:29:38.664Z"
   },
   {
    "duration": 6,
    "start_time": "2022-04-11T02:36:25.968Z"
   },
   {
    "duration": 6,
    "start_time": "2022-04-11T02:36:40.448Z"
   },
   {
    "duration": 6,
    "start_time": "2022-04-11T02:36:54.710Z"
   },
   {
    "duration": 5,
    "start_time": "2022-04-11T02:36:55.574Z"
   },
   {
    "duration": 4,
    "start_time": "2022-04-11T02:39:30.994Z"
   },
   {
    "duration": 7,
    "start_time": "2022-04-11T02:39:36.621Z"
   },
   {
    "duration": 6,
    "start_time": "2022-04-11T02:39:39.616Z"
   },
   {
    "duration": 7,
    "start_time": "2022-04-11T02:39:57.624Z"
   },
   {
    "duration": 6,
    "start_time": "2022-04-11T02:39:58.041Z"
   },
   {
    "duration": 104,
    "start_time": "2022-04-11T02:48:35.979Z"
   },
   {
    "duration": 11,
    "start_time": "2022-04-11T02:48:41.615Z"
   },
   {
    "duration": 12,
    "start_time": "2022-04-11T02:48:53.173Z"
   },
   {
    "duration": 17,
    "start_time": "2022-04-11T02:51:00.603Z"
   },
   {
    "duration": 14,
    "start_time": "2022-04-11T02:51:09.755Z"
   },
   {
    "duration": 17,
    "start_time": "2022-04-11T02:51:16.286Z"
   },
   {
    "duration": 3,
    "start_time": "2022-04-11T02:57:11.888Z"
   },
   {
    "duration": 9,
    "start_time": "2022-04-11T02:59:05.425Z"
   },
   {
    "duration": 4,
    "start_time": "2022-04-11T02:59:38.571Z"
   },
   {
    "duration": 99,
    "start_time": "2022-04-11T03:03:45.707Z"
   },
   {
    "duration": 23,
    "start_time": "2022-04-11T03:03:51.528Z"
   },
   {
    "duration": 21,
    "start_time": "2022-04-11T03:04:03.188Z"
   },
   {
    "duration": 165,
    "start_time": "2022-04-11T03:04:13.142Z"
   },
   {
    "duration": 13,
    "start_time": "2022-04-11T03:04:33.152Z"
   },
   {
    "duration": 11,
    "start_time": "2022-04-11T03:05:57.695Z"
   },
   {
    "duration": 9,
    "start_time": "2022-04-11T03:06:07.221Z"
   },
   {
    "duration": 13,
    "start_time": "2022-04-11T03:07:02.782Z"
   },
   {
    "duration": 13,
    "start_time": "2022-04-11T03:07:14.763Z"
   },
   {
    "duration": 27,
    "start_time": "2022-04-11T03:07:40.707Z"
   },
   {
    "duration": 8,
    "start_time": "2022-04-11T03:07:41.525Z"
   },
   {
    "duration": 26,
    "start_time": "2022-04-11T03:08:03.111Z"
   },
   {
    "duration": 9,
    "start_time": "2022-04-11T03:08:04.874Z"
   },
   {
    "duration": 11,
    "start_time": "2022-04-11T03:08:56.560Z"
   },
   {
    "duration": 8,
    "start_time": "2022-04-11T03:08:57.287Z"
   },
   {
    "duration": 12,
    "start_time": "2022-04-11T03:09:00.148Z"
   },
   {
    "duration": 105,
    "start_time": "2022-04-11T03:09:05.483Z"
   },
   {
    "duration": 13,
    "start_time": "2022-04-11T03:09:23.811Z"
   },
   {
    "duration": 13,
    "start_time": "2022-04-11T03:09:47.181Z"
   },
   {
    "duration": 6,
    "start_time": "2022-04-11T03:11:53.627Z"
   },
   {
    "duration": 12,
    "start_time": "2022-04-11T03:12:12.006Z"
   },
   {
    "duration": 215,
    "start_time": "2022-04-11T03:12:47.204Z"
   },
   {
    "duration": 213,
    "start_time": "2022-04-11T03:13:23.479Z"
   },
   {
    "duration": 213,
    "start_time": "2022-04-11T03:16:40.093Z"
   },
   {
    "duration": 3,
    "start_time": "2022-04-11T03:18:48.151Z"
   },
   {
    "duration": 12,
    "start_time": "2022-04-11T03:18:48.969Z"
   },
   {
    "duration": 187,
    "start_time": "2022-04-11T03:18:49.586Z"
   },
   {
    "duration": 3,
    "start_time": "2022-04-11T03:20:17.143Z"
   },
   {
    "duration": 12,
    "start_time": "2022-04-11T03:20:17.629Z"
   },
   {
    "duration": 207,
    "start_time": "2022-04-11T03:20:18.517Z"
   },
   {
    "duration": 3,
    "start_time": "2022-04-11T03:20:26.671Z"
   },
   {
    "duration": 12,
    "start_time": "2022-04-11T03:20:26.859Z"
   },
   {
    "duration": 214,
    "start_time": "2022-04-11T03:20:27.333Z"
   },
   {
    "duration": 222,
    "start_time": "2022-04-11T03:22:22.127Z"
   },
   {
    "duration": 312,
    "start_time": "2022-04-11T03:22:40.024Z"
   },
   {
    "duration": 1424,
    "start_time": "2022-04-12T02:10:31.829Z"
   },
   {
    "duration": 1227,
    "start_time": "2022-04-12T02:10:33.255Z"
   },
   {
    "duration": 3,
    "start_time": "2022-04-12T02:10:34.484Z"
   },
   {
    "duration": 11,
    "start_time": "2022-04-12T02:10:34.489Z"
   },
   {
    "duration": 65,
    "start_time": "2022-04-12T02:10:34.503Z"
   },
   {
    "duration": 70,
    "start_time": "2022-04-12T02:10:34.570Z"
   },
   {
    "duration": 11,
    "start_time": "2022-04-12T02:10:34.642Z"
   },
   {
    "duration": 17,
    "start_time": "2022-04-12T02:10:34.655Z"
   },
   {
    "duration": 83,
    "start_time": "2022-04-12T02:10:34.674Z"
   },
   {
    "duration": 3,
    "start_time": "2022-04-12T02:10:34.759Z"
   },
   {
    "duration": 18,
    "start_time": "2022-04-12T02:10:34.763Z"
   },
   {
    "duration": 16,
    "start_time": "2022-04-12T02:10:34.782Z"
   },
   {
    "duration": 17,
    "start_time": "2022-04-12T02:10:34.800Z"
   },
   {
    "duration": 5,
    "start_time": "2022-04-12T02:10:34.831Z"
   },
   {
    "duration": 11,
    "start_time": "2022-04-12T02:10:34.837Z"
   },
   {
    "duration": 18,
    "start_time": "2022-04-12T02:10:34.849Z"
   },
   {
    "duration": 12,
    "start_time": "2022-04-12T02:10:34.868Z"
   },
   {
    "duration": 15,
    "start_time": "2022-04-12T02:10:34.882Z"
   },
   {
    "duration": 63,
    "start_time": "2022-04-12T02:10:34.899Z"
   },
   {
    "duration": 10,
    "start_time": "2022-04-12T02:10:34.963Z"
   },
   {
    "duration": 10,
    "start_time": "2022-04-12T02:10:34.975Z"
   },
   {
    "duration": 9,
    "start_time": "2022-04-12T02:10:34.986Z"
   },
   {
    "duration": 39,
    "start_time": "2022-04-12T02:10:34.996Z"
   },
   {
    "duration": 13,
    "start_time": "2022-04-12T02:10:35.037Z"
   },
   {
    "duration": 26,
    "start_time": "2022-04-12T02:10:35.052Z"
   },
   {
    "duration": 16,
    "start_time": "2022-04-12T02:10:35.079Z"
   },
   {
    "duration": 16,
    "start_time": "2022-04-12T02:10:35.097Z"
   },
   {
    "duration": 33,
    "start_time": "2022-04-12T02:10:35.114Z"
   },
   {
    "duration": 16,
    "start_time": "2022-04-12T02:10:35.148Z"
   },
   {
    "duration": 16,
    "start_time": "2022-04-12T02:10:35.166Z"
   },
   {
    "duration": 16,
    "start_time": "2022-04-12T02:10:35.183Z"
   },
   {
    "duration": 73,
    "start_time": "2022-04-12T02:10:35.201Z"
   },
   {
    "duration": 10,
    "start_time": "2022-04-12T02:10:35.275Z"
   },
   {
    "duration": 18,
    "start_time": "2022-04-12T02:10:35.286Z"
   },
   {
    "duration": 242,
    "start_time": "2022-04-12T02:10:35.306Z"
   },
   {
    "duration": 20,
    "start_time": "2022-04-12T02:10:35.550Z"
   },
   {
    "duration": 7,
    "start_time": "2022-04-12T02:10:35.572Z"
   },
   {
    "duration": 7,
    "start_time": "2022-04-12T02:10:35.580Z"
   },
   {
    "duration": 43,
    "start_time": "2022-04-12T02:10:35.589Z"
   },
   {
    "duration": 38,
    "start_time": "2022-04-12T02:10:35.633Z"
   },
   {
    "duration": 31,
    "start_time": "2022-04-12T02:10:35.676Z"
   },
   {
    "duration": 50,
    "start_time": "2022-04-12T02:10:35.708Z"
   },
   {
    "duration": 13,
    "start_time": "2022-04-12T02:10:35.760Z"
   },
   {
    "duration": 12,
    "start_time": "2022-04-12T02:10:35.775Z"
   },
   {
    "duration": 44,
    "start_time": "2022-04-12T02:10:35.788Z"
   },
   {
    "duration": 26,
    "start_time": "2022-04-12T02:10:35.833Z"
   },
   {
    "duration": 7,
    "start_time": "2022-04-12T02:10:35.861Z"
   },
   {
    "duration": 7,
    "start_time": "2022-04-12T02:10:35.870Z"
   },
   {
    "duration": 9,
    "start_time": "2022-04-12T02:10:35.879Z"
   },
   {
    "duration": 7,
    "start_time": "2022-04-12T02:10:35.890Z"
   },
   {
    "duration": 36,
    "start_time": "2022-04-12T02:10:35.899Z"
   },
   {
    "duration": 9,
    "start_time": "2022-04-12T02:10:35.936Z"
   },
   {
    "duration": 16,
    "start_time": "2022-04-12T02:10:35.947Z"
   },
   {
    "duration": 265,
    "start_time": "2022-04-12T02:10:35.965Z"
   },
   {
    "duration": 2,
    "start_time": "2022-04-12T02:10:36.232Z"
   },
   {
    "duration": 10,
    "start_time": "2022-04-12T02:10:36.236Z"
   },
   {
    "duration": 16,
    "start_time": "2022-04-12T02:10:36.248Z"
   },
   {
    "duration": 25,
    "start_time": "2022-04-12T02:10:36.266Z"
   },
   {
    "duration": 7,
    "start_time": "2022-04-12T02:10:36.293Z"
   },
   {
    "duration": 6,
    "start_time": "2022-04-12T02:10:36.302Z"
   },
   {
    "duration": 8,
    "start_time": "2022-04-12T02:10:36.310Z"
   },
   {
    "duration": 5,
    "start_time": "2022-04-12T02:15:04.697Z"
   },
   {
    "duration": 7,
    "start_time": "2022-04-12T02:15:29.257Z"
   },
   {
    "duration": 217,
    "start_time": "2022-04-12T02:15:40.238Z"
   },
   {
    "duration": 217,
    "start_time": "2022-04-12T02:16:20.679Z"
   },
   {
    "duration": 232,
    "start_time": "2022-04-12T02:18:22.919Z"
   },
   {
    "duration": 6,
    "start_time": "2022-04-12T02:21:33.388Z"
   },
   {
    "duration": 195,
    "start_time": "2022-04-12T02:22:43.500Z"
   },
   {
    "duration": 283,
    "start_time": "2022-04-12T02:22:59.855Z"
   },
   {
    "duration": 214,
    "start_time": "2022-04-12T02:23:08.855Z"
   },
   {
    "duration": 7,
    "start_time": "2022-04-12T02:23:55.536Z"
   },
   {
    "duration": 6,
    "start_time": "2022-04-12T02:24:19.754Z"
   },
   {
    "duration": 289,
    "start_time": "2022-04-12T02:25:11.750Z"
   },
   {
    "duration": 220,
    "start_time": "2022-04-12T02:25:26.352Z"
   },
   {
    "duration": 7,
    "start_time": "2022-04-12T02:26:08.469Z"
   },
   {
    "duration": 18,
    "start_time": "2022-04-12T02:26:20.049Z"
   },
   {
    "duration": 6,
    "start_time": "2022-04-12T02:26:34.390Z"
   },
   {
    "duration": 56,
    "start_time": "2022-04-12T02:28:28.200Z"
   },
   {
    "duration": 12,
    "start_time": "2022-04-12T02:28:41.680Z"
   },
   {
    "duration": 9,
    "start_time": "2022-04-12T02:29:34.391Z"
   },
   {
    "duration": 10,
    "start_time": "2022-04-12T02:29:59.240Z"
   },
   {
    "duration": 8,
    "start_time": "2022-04-12T02:30:10.327Z"
   },
   {
    "duration": 217,
    "start_time": "2022-04-12T02:32:36.066Z"
   },
   {
    "duration": 6,
    "start_time": "2022-04-12T02:33:27.452Z"
   },
   {
    "duration": 16,
    "start_time": "2022-04-12T02:33:34.675Z"
   },
   {
    "duration": 181,
    "start_time": "2022-04-12T02:33:38.603Z"
   },
   {
    "duration": 6,
    "start_time": "2022-04-12T02:34:12.520Z"
   },
   {
    "duration": 5,
    "start_time": "2022-04-12T02:34:20.587Z"
   },
   {
    "duration": 9,
    "start_time": "2022-04-12T02:36:36.568Z"
   },
   {
    "duration": 8,
    "start_time": "2022-04-12T02:37:15.200Z"
   },
   {
    "duration": 8,
    "start_time": "2022-04-12T02:37:18.063Z"
   },
   {
    "duration": 196,
    "start_time": "2022-04-12T02:38:31.134Z"
   },
   {
    "duration": 6,
    "start_time": "2022-04-12T02:38:50.600Z"
   },
   {
    "duration": 179,
    "start_time": "2022-04-12T02:39:05.769Z"
   },
   {
    "duration": 5,
    "start_time": "2022-04-12T02:39:22.934Z"
   },
   {
    "duration": 174,
    "start_time": "2022-04-12T02:41:26.688Z"
   },
   {
    "duration": 167,
    "start_time": "2022-04-12T02:41:41.677Z"
   },
   {
    "duration": 167,
    "start_time": "2022-04-12T02:42:05.957Z"
   },
   {
    "duration": 9,
    "start_time": "2022-04-12T02:42:22.057Z"
   },
   {
    "duration": 160,
    "start_time": "2022-04-12T02:42:29.754Z"
   },
   {
    "duration": 171,
    "start_time": "2022-04-12T02:42:43.726Z"
   },
   {
    "duration": 8,
    "start_time": "2022-04-12T02:42:52.438Z"
   },
   {
    "duration": 8,
    "start_time": "2022-04-12T02:42:58.585Z"
   },
   {
    "duration": 16,
    "start_time": "2022-04-12T02:45:06.505Z"
   },
   {
    "duration": 19,
    "start_time": "2022-04-12T02:45:14.347Z"
   },
   {
    "duration": 14,
    "start_time": "2022-04-12T02:45:58.742Z"
   },
   {
    "duration": 13,
    "start_time": "2022-04-12T02:51:03.462Z"
   },
   {
    "duration": 15,
    "start_time": "2022-04-12T02:51:13.323Z"
   },
   {
    "duration": 2719,
    "start_time": "2022-04-12T02:53:18.338Z"
   },
   {
    "duration": 12,
    "start_time": "2022-04-12T02:53:36.537Z"
   },
   {
    "duration": 11,
    "start_time": "2022-04-12T02:53:43.748Z"
   },
   {
    "duration": 148,
    "start_time": "2022-04-12T02:54:17.900Z"
   },
   {
    "duration": 145,
    "start_time": "2022-04-12T02:54:23.709Z"
   },
   {
    "duration": 20577,
    "start_time": "2022-04-12T02:54:54.987Z"
   },
   {
    "duration": 6,
    "start_time": "2022-04-12T02:55:42.008Z"
   },
   {
    "duration": 4,
    "start_time": "2022-04-12T02:59:35.082Z"
   },
   {
    "duration": 5,
    "start_time": "2022-04-12T03:02:56.153Z"
   },
   {
    "duration": 6,
    "start_time": "2022-04-12T03:08:39.166Z"
   },
   {
    "duration": 3,
    "start_time": "2022-04-12T03:08:58.403Z"
   },
   {
    "duration": 6,
    "start_time": "2022-04-12T03:09:16.427Z"
   },
   {
    "duration": 6,
    "start_time": "2022-04-12T03:13:10.799Z"
   },
   {
    "duration": 6,
    "start_time": "2022-04-12T03:15:20.245Z"
   },
   {
    "duration": 6,
    "start_time": "2022-04-12T03:16:59.476Z"
   },
   {
    "duration": 6,
    "start_time": "2022-04-12T03:17:53.331Z"
   },
   {
    "duration": 5,
    "start_time": "2022-04-12T03:19:42.924Z"
   },
   {
    "duration": 1381,
    "start_time": "2022-04-12T12:00:10.887Z"
   },
   {
    "duration": 2121,
    "start_time": "2022-04-12T12:00:12.271Z"
   },
   {
    "duration": 3,
    "start_time": "2022-04-12T12:00:14.394Z"
   },
   {
    "duration": 12,
    "start_time": "2022-04-12T12:00:14.399Z"
   },
   {
    "duration": 84,
    "start_time": "2022-04-12T12:00:14.414Z"
   },
   {
    "duration": 67,
    "start_time": "2022-04-12T12:00:14.500Z"
   },
   {
    "duration": 12,
    "start_time": "2022-04-12T12:00:14.569Z"
   },
   {
    "duration": 16,
    "start_time": "2022-04-12T12:00:14.583Z"
   },
   {
    "duration": 86,
    "start_time": "2022-04-12T12:00:14.601Z"
   },
   {
    "duration": 2,
    "start_time": "2022-04-12T12:00:14.690Z"
   },
   {
    "duration": 16,
    "start_time": "2022-04-12T12:00:14.694Z"
   },
   {
    "duration": 31,
    "start_time": "2022-04-12T12:00:14.711Z"
   },
   {
    "duration": 15,
    "start_time": "2022-04-12T12:00:14.743Z"
   },
   {
    "duration": 5,
    "start_time": "2022-04-12T12:00:14.760Z"
   },
   {
    "duration": 11,
    "start_time": "2022-04-12T12:00:14.767Z"
   },
   {
    "duration": 29,
    "start_time": "2022-04-12T12:00:14.779Z"
   },
   {
    "duration": 13,
    "start_time": "2022-04-12T12:00:14.833Z"
   },
   {
    "duration": 13,
    "start_time": "2022-04-12T12:00:14.847Z"
   },
   {
    "duration": 73,
    "start_time": "2022-04-12T12:00:14.862Z"
   },
   {
    "duration": 11,
    "start_time": "2022-04-12T12:00:14.936Z"
   },
   {
    "duration": 11,
    "start_time": "2022-04-12T12:00:14.948Z"
   },
   {
    "duration": 12,
    "start_time": "2022-04-12T12:00:14.961Z"
   },
   {
    "duration": 15,
    "start_time": "2022-04-12T12:00:14.975Z"
   },
   {
    "duration": 50,
    "start_time": "2022-04-12T12:00:14.992Z"
   },
   {
    "duration": 30,
    "start_time": "2022-04-12T12:00:15.044Z"
   },
   {
    "duration": 12,
    "start_time": "2022-04-12T12:00:15.076Z"
   },
   {
    "duration": 13,
    "start_time": "2022-04-12T12:00:15.091Z"
   },
   {
    "duration": 43,
    "start_time": "2022-04-12T12:00:15.110Z"
   },
   {
    "duration": 17,
    "start_time": "2022-04-12T12:00:15.154Z"
   },
   {
    "duration": 13,
    "start_time": "2022-04-12T12:00:15.173Z"
   },
   {
    "duration": 49,
    "start_time": "2022-04-12T12:00:15.188Z"
   },
   {
    "duration": 68,
    "start_time": "2022-04-12T12:00:15.239Z"
   },
   {
    "duration": 25,
    "start_time": "2022-04-12T12:00:15.310Z"
   },
   {
    "duration": 16,
    "start_time": "2022-04-12T12:00:15.337Z"
   },
   {
    "duration": 264,
    "start_time": "2022-04-12T12:00:15.355Z"
   },
   {
    "duration": 27,
    "start_time": "2022-04-12T12:00:15.620Z"
   },
   {
    "duration": 6,
    "start_time": "2022-04-12T12:00:15.648Z"
   },
   {
    "duration": 9,
    "start_time": "2022-04-12T12:00:15.655Z"
   },
   {
    "duration": 21,
    "start_time": "2022-04-12T12:00:15.666Z"
   },
   {
    "duration": 79,
    "start_time": "2022-04-12T12:00:15.689Z"
   },
   {
    "duration": 33,
    "start_time": "2022-04-12T12:00:15.771Z"
   },
   {
    "duration": 52,
    "start_time": "2022-04-12T12:00:15.807Z"
   },
   {
    "duration": 14,
    "start_time": "2022-04-12T12:00:15.861Z"
   },
   {
    "duration": 13,
    "start_time": "2022-04-12T12:00:15.877Z"
   },
   {
    "duration": 41,
    "start_time": "2022-04-12T12:00:15.892Z"
   },
   {
    "duration": 28,
    "start_time": "2022-04-12T12:00:15.936Z"
   },
   {
    "duration": 9,
    "start_time": "2022-04-12T12:00:15.966Z"
   },
   {
    "duration": 11,
    "start_time": "2022-04-12T12:00:15.977Z"
   },
   {
    "duration": 10,
    "start_time": "2022-04-12T12:00:15.990Z"
   },
   {
    "duration": 42,
    "start_time": "2022-04-12T12:00:16.002Z"
   },
   {
    "duration": 18,
    "start_time": "2022-04-12T12:00:16.047Z"
   },
   {
    "duration": 21,
    "start_time": "2022-04-12T12:00:16.066Z"
   },
   {
    "duration": 213,
    "start_time": "2022-04-12T12:00:16.089Z"
   },
   {
    "duration": 207,
    "start_time": "2022-04-12T12:00:16.304Z"
   },
   {
    "duration": 3,
    "start_time": "2022-04-12T12:00:16.513Z"
   },
   {
    "duration": 43,
    "start_time": "2022-04-12T12:00:16.518Z"
   },
   {
    "duration": 254,
    "start_time": "2022-04-12T12:00:16.563Z"
   },
   {
    "duration": 6,
    "start_time": "2022-04-12T12:00:16.819Z"
   },
   {
    "duration": 251,
    "start_time": "2022-04-12T12:00:16.834Z"
   },
   {
    "duration": 7,
    "start_time": "2022-04-12T12:00:17.086Z"
   },
   {
    "duration": 249,
    "start_time": "2022-04-12T12:00:17.095Z"
   },
   {
    "duration": 7,
    "start_time": "2022-04-12T12:00:17.346Z"
   },
   {
    "duration": 24,
    "start_time": "2022-04-12T12:00:17.354Z"
   },
   {
    "duration": 33,
    "start_time": "2022-04-12T12:00:17.380Z"
   },
   {
    "duration": 26,
    "start_time": "2022-04-12T12:00:17.415Z"
   },
   {
    "duration": 27,
    "start_time": "2022-04-12T12:00:17.442Z"
   },
   {
    "duration": 14,
    "start_time": "2022-04-12T12:00:17.471Z"
   },
   {
    "duration": 220,
    "start_time": "2022-04-12T12:00:17.487Z"
   },
   {
    "duration": 6,
    "start_time": "2022-04-12T12:00:17.708Z"
   },
   {
    "duration": 215,
    "start_time": "2022-04-12T12:00:17.716Z"
   },
   {
    "duration": 6,
    "start_time": "2022-04-12T12:00:17.933Z"
   },
   {
    "duration": 11,
    "start_time": "2022-04-12T12:00:17.941Z"
   },
   {
    "duration": 9,
    "start_time": "2022-04-12T12:00:17.954Z"
   },
   {
    "duration": 308,
    "start_time": "2022-04-12T12:00:17.964Z"
   },
   {
    "duration": 6,
    "start_time": "2022-04-12T12:00:18.274Z"
   },
   {
    "duration": 214,
    "start_time": "2022-04-12T12:00:18.281Z"
   },
   {
    "duration": 6,
    "start_time": "2022-04-12T12:00:18.497Z"
   },
   {
    "duration": 20,
    "start_time": "2022-04-12T12:00:18.505Z"
   },
   {
    "duration": 15,
    "start_time": "2022-04-12T12:00:18.526Z"
   },
   {
    "duration": 8,
    "start_time": "2022-04-12T12:00:18.543Z"
   },
   {
    "duration": 16,
    "start_time": "2022-04-12T12:00:18.553Z"
   },
   {
    "duration": 2,
    "start_time": "2022-04-12T12:00:18.575Z"
   },
   {
    "duration": 12,
    "start_time": "2022-04-12T12:00:18.579Z"
   },
   {
    "duration": 8,
    "start_time": "2022-04-12T12:00:18.592Z"
   },
   {
    "duration": 9,
    "start_time": "2022-04-12T12:00:18.601Z"
   },
   {
    "duration": 26,
    "start_time": "2022-04-12T12:00:18.612Z"
   },
   {
    "duration": 12,
    "start_time": "2022-04-12T12:00:18.640Z"
   },
   {
    "duration": 9,
    "start_time": "2022-04-12T12:00:18.653Z"
   },
   {
    "duration": 9,
    "start_time": "2022-04-12T12:00:18.664Z"
   },
   {
    "duration": 1534,
    "start_time": "2022-04-12T18:36:46.838Z"
   },
   {
    "duration": 1099,
    "start_time": "2022-04-12T18:36:48.376Z"
   },
   {
    "duration": 3,
    "start_time": "2022-04-12T18:36:49.477Z"
   },
   {
    "duration": 9,
    "start_time": "2022-04-12T18:36:49.483Z"
   },
   {
    "duration": 93,
    "start_time": "2022-04-12T18:36:49.494Z"
   },
   {
    "duration": 85,
    "start_time": "2022-04-12T18:36:49.589Z"
   },
   {
    "duration": 16,
    "start_time": "2022-04-12T18:36:49.676Z"
   },
   {
    "duration": 17,
    "start_time": "2022-04-12T18:36:49.694Z"
   },
   {
    "duration": 111,
    "start_time": "2022-04-12T18:36:49.714Z"
   },
   {
    "duration": 3,
    "start_time": "2022-04-12T18:36:49.829Z"
   },
   {
    "duration": 27,
    "start_time": "2022-04-12T18:36:49.834Z"
   },
   {
    "duration": 15,
    "start_time": "2022-04-12T18:36:49.863Z"
   },
   {
    "duration": 21,
    "start_time": "2022-04-12T18:36:49.880Z"
   },
   {
    "duration": 6,
    "start_time": "2022-04-12T18:36:49.903Z"
   },
   {
    "duration": 45,
    "start_time": "2022-04-12T18:36:49.911Z"
   },
   {
    "duration": 22,
    "start_time": "2022-04-12T18:36:49.959Z"
   },
   {
    "duration": 16,
    "start_time": "2022-04-12T18:36:49.983Z"
   },
   {
    "duration": 51,
    "start_time": "2022-04-12T18:36:50.001Z"
   },
   {
    "duration": 55,
    "start_time": "2022-04-12T18:36:50.054Z"
   },
   {
    "duration": 12,
    "start_time": "2022-04-12T18:36:50.111Z"
   },
   {
    "duration": 37,
    "start_time": "2022-04-12T18:36:50.126Z"
   },
   {
    "duration": 11,
    "start_time": "2022-04-12T18:36:50.165Z"
   },
   {
    "duration": 12,
    "start_time": "2022-04-12T18:36:50.178Z"
   },
   {
    "duration": 17,
    "start_time": "2022-04-12T18:36:50.193Z"
   },
   {
    "duration": 18,
    "start_time": "2022-04-12T18:36:50.251Z"
   },
   {
    "duration": 13,
    "start_time": "2022-04-12T18:36:50.271Z"
   },
   {
    "duration": 13,
    "start_time": "2022-04-12T18:36:50.286Z"
   },
   {
    "duration": 64,
    "start_time": "2022-04-12T18:36:50.306Z"
   },
   {
    "duration": 20,
    "start_time": "2022-04-12T18:36:50.372Z"
   },
   {
    "duration": 15,
    "start_time": "2022-04-12T18:36:50.395Z"
   },
   {
    "duration": 43,
    "start_time": "2022-04-12T18:36:50.412Z"
   },
   {
    "duration": 57,
    "start_time": "2022-04-12T18:36:50.457Z"
   },
   {
    "duration": 12,
    "start_time": "2022-04-12T18:36:50.516Z"
   },
   {
    "duration": 12,
    "start_time": "2022-04-12T18:36:50.552Z"
   },
   {
    "duration": 309,
    "start_time": "2022-04-12T18:36:50.567Z"
   },
   {
    "duration": 24,
    "start_time": "2022-04-12T18:36:50.879Z"
   },
   {
    "duration": 7,
    "start_time": "2022-04-12T18:36:50.906Z"
   },
   {
    "duration": 38,
    "start_time": "2022-04-12T18:36:50.915Z"
   },
   {
    "duration": 22,
    "start_time": "2022-04-12T18:36:50.956Z"
   },
   {
    "duration": 50,
    "start_time": "2022-04-12T18:36:50.981Z"
   },
   {
    "duration": 59,
    "start_time": "2022-04-12T18:36:51.034Z"
   },
   {
    "duration": 71,
    "start_time": "2022-04-12T18:36:51.095Z"
   },
   {
    "duration": 18,
    "start_time": "2022-04-12T18:36:51.168Z"
   },
   {
    "duration": 15,
    "start_time": "2022-04-12T18:36:51.188Z"
   },
   {
    "duration": 24,
    "start_time": "2022-04-12T18:36:51.205Z"
   },
   {
    "duration": 36,
    "start_time": "2022-04-12T18:36:51.252Z"
   },
   {
    "duration": 10,
    "start_time": "2022-04-12T18:36:51.290Z"
   },
   {
    "duration": 8,
    "start_time": "2022-04-12T18:36:51.302Z"
   },
   {
    "duration": 41,
    "start_time": "2022-04-12T18:36:51.312Z"
   },
   {
    "duration": 10,
    "start_time": "2022-04-12T18:36:51.355Z"
   },
   {
    "duration": 13,
    "start_time": "2022-04-12T18:36:51.367Z"
   },
   {
    "duration": 12,
    "start_time": "2022-04-12T18:36:51.382Z"
   },
   {
    "duration": 311,
    "start_time": "2022-04-12T18:36:51.396Z"
   },
   {
    "duration": 266,
    "start_time": "2022-04-12T18:36:51.709Z"
   },
   {
    "duration": 4,
    "start_time": "2022-04-12T18:36:51.977Z"
   },
   {
    "duration": 21,
    "start_time": "2022-04-12T18:36:51.983Z"
   },
   {
    "duration": 416,
    "start_time": "2022-04-12T18:36:52.006Z"
   },
   {
    "duration": 7,
    "start_time": "2022-04-12T18:36:52.424Z"
   },
   {
    "duration": 370,
    "start_time": "2022-04-12T18:36:52.433Z"
   },
   {
    "duration": 7,
    "start_time": "2022-04-12T18:36:52.805Z"
   },
   {
    "duration": 386,
    "start_time": "2022-04-12T18:36:52.814Z"
   },
   {
    "duration": 8,
    "start_time": "2022-04-12T18:36:53.202Z"
   },
   {
    "duration": 14,
    "start_time": "2022-04-12T18:36:53.212Z"
   },
   {
    "duration": 12,
    "start_time": "2022-04-12T18:36:53.252Z"
   },
   {
    "duration": 5,
    "start_time": "2022-04-12T18:36:53.267Z"
   },
   {
    "duration": 12,
    "start_time": "2022-04-12T18:36:53.274Z"
   },
   {
    "duration": 6,
    "start_time": "2022-04-12T18:36:53.288Z"
   },
   {
    "duration": 347,
    "start_time": "2022-04-12T18:36:53.296Z"
   },
   {
    "duration": 11,
    "start_time": "2022-04-12T18:36:53.646Z"
   },
   {
    "duration": 344,
    "start_time": "2022-04-12T18:36:53.659Z"
   },
   {
    "duration": 7,
    "start_time": "2022-04-12T18:36:54.006Z"
   },
   {
    "duration": 21,
    "start_time": "2022-04-12T18:36:54.015Z"
   },
   {
    "duration": 32,
    "start_time": "2022-04-12T18:36:54.038Z"
   },
   {
    "duration": 409,
    "start_time": "2022-04-12T18:36:54.073Z"
   },
   {
    "duration": 8,
    "start_time": "2022-04-12T18:36:54.484Z"
   },
   {
    "duration": 411,
    "start_time": "2022-04-12T18:36:54.494Z"
   },
   {
    "duration": 8,
    "start_time": "2022-04-12T18:36:54.907Z"
   },
   {
    "duration": 25,
    "start_time": "2022-04-12T18:36:54.916Z"
   },
   {
    "duration": 17,
    "start_time": "2022-04-12T18:36:54.943Z"
   },
   {
    "duration": 5,
    "start_time": "2022-04-12T18:36:54.962Z"
   },
   {
    "duration": 10,
    "start_time": "2022-04-12T18:36:54.969Z"
   },
   {
    "duration": 3,
    "start_time": "2022-04-12T18:36:54.987Z"
   },
   {
    "duration": 7,
    "start_time": "2022-04-12T18:36:54.992Z"
   },
   {
    "duration": 7,
    "start_time": "2022-04-12T18:36:55.001Z"
   },
   {
    "duration": 12,
    "start_time": "2022-04-12T18:36:55.010Z"
   },
   {
    "duration": 9,
    "start_time": "2022-04-12T18:36:55.024Z"
   },
   {
    "duration": 6,
    "start_time": "2022-04-12T18:36:55.035Z"
   },
   {
    "duration": 10,
    "start_time": "2022-04-12T18:36:55.043Z"
   },
   {
    "duration": 11,
    "start_time": "2022-04-12T18:36:55.055Z"
   },
   {
    "duration": 37,
    "start_time": "2022-04-12T18:41:14.162Z"
   },
   {
    "duration": 6,
    "start_time": "2022-04-12T18:48:48.648Z"
   },
   {
    "duration": 41,
    "start_time": "2022-04-12T18:53:14.672Z"
   },
   {
    "duration": 28,
    "start_time": "2022-04-12T19:10:04.578Z"
   },
   {
    "duration": 8,
    "start_time": "2022-04-12T19:15:22.571Z"
   },
   {
    "duration": 45,
    "start_time": "2022-04-13T22:30:57.574Z"
   },
   {
    "duration": 1294,
    "start_time": "2022-04-13T22:31:06.881Z"
   },
   {
    "duration": 2663,
    "start_time": "2022-04-13T22:31:08.177Z"
   },
   {
    "duration": 3,
    "start_time": "2022-04-13T22:31:10.842Z"
   },
   {
    "duration": 4,
    "start_time": "2022-04-13T22:31:11.556Z"
   },
   {
    "duration": 57,
    "start_time": "2022-04-13T22:31:12.366Z"
   },
   {
    "duration": 40,
    "start_time": "2022-04-13T22:31:13.156Z"
   },
   {
    "duration": 11,
    "start_time": "2022-04-13T22:31:15.570Z"
   },
   {
    "duration": 9,
    "start_time": "2022-04-13T22:31:16.175Z"
   },
   {
    "duration": 53,
    "start_time": "2022-04-13T22:31:18.683Z"
   },
   {
    "duration": 2,
    "start_time": "2022-04-13T22:31:20.294Z"
   },
   {
    "duration": 12,
    "start_time": "2022-04-13T22:31:20.746Z"
   },
   {
    "duration": 11,
    "start_time": "2022-04-13T22:31:20.913Z"
   },
   {
    "duration": 12,
    "start_time": "2022-04-13T22:31:21.480Z"
   },
   {
    "duration": 5,
    "start_time": "2022-04-13T22:31:23.650Z"
   },
   {
    "duration": 7,
    "start_time": "2022-04-13T22:31:24.022Z"
   },
   {
    "duration": 16,
    "start_time": "2022-04-13T22:31:27.262Z"
   },
   {
    "duration": 12,
    "start_time": "2022-04-13T22:31:27.759Z"
   },
   {
    "duration": 12,
    "start_time": "2022-04-13T22:31:29.777Z"
   },
   {
    "duration": 43,
    "start_time": "2022-04-13T22:31:30.367Z"
   },
   {
    "duration": 11,
    "start_time": "2022-04-13T22:31:30.891Z"
   },
   {
    "duration": 9,
    "start_time": "2022-04-13T22:31:31.446Z"
   },
   {
    "duration": 8,
    "start_time": "2022-04-13T22:31:32.033Z"
   },
   {
    "duration": 9,
    "start_time": "2022-04-13T22:31:33.954Z"
   },
   {
    "duration": 13,
    "start_time": "2022-04-13T22:31:34.328Z"
   },
   {
    "duration": 13,
    "start_time": "2022-04-13T22:31:35.273Z"
   },
   {
    "duration": 9,
    "start_time": "2022-04-13T22:31:35.835Z"
   },
   {
    "duration": 9,
    "start_time": "2022-04-13T22:31:38.106Z"
   },
   {
    "duration": 18,
    "start_time": "2022-04-13T22:31:38.602Z"
   },
   {
    "duration": 14,
    "start_time": "2022-04-13T22:31:40.927Z"
   },
   {
    "duration": 10,
    "start_time": "2022-04-13T22:31:41.536Z"
   },
   {
    "duration": 11,
    "start_time": "2022-04-13T22:31:43.868Z"
   },
   {
    "duration": 45,
    "start_time": "2022-04-13T22:31:44.415Z"
   },
   {
    "duration": 9,
    "start_time": "2022-04-13T22:31:46.730Z"
   },
   {
    "duration": 8,
    "start_time": "2022-04-13T22:31:49.223Z"
   },
   {
    "duration": 200,
    "start_time": "2022-04-13T22:31:51.513Z"
   },
   {
    "duration": 14,
    "start_time": "2022-04-13T22:31:57.367Z"
   },
   {
    "duration": 15,
    "start_time": "2022-04-13T22:33:02.318Z"
   },
   {
    "duration": 36,
    "start_time": "2022-04-13T22:33:04.756Z"
   },
   {
    "duration": 30,
    "start_time": "2022-04-13T22:33:18.051Z"
   },
   {
    "duration": 32,
    "start_time": "2022-04-13T22:33:20.288Z"
   },
   {
    "duration": 30,
    "start_time": "2022-04-13T22:33:48.669Z"
   },
   {
    "duration": 13,
    "start_time": "2022-04-13T22:34:14.827Z"
   },
   {
    "duration": 11,
    "start_time": "2022-04-13T22:34:17.024Z"
   },
   {
    "duration": 11,
    "start_time": "2022-04-13T22:35:04.214Z"
   },
   {
    "duration": 24,
    "start_time": "2022-04-13T22:35:06.946Z"
   },
   {
    "duration": 8,
    "start_time": "2022-04-13T22:35:41.725Z"
   },
   {
    "duration": 5,
    "start_time": "2022-04-13T22:35:44.515Z"
   },
   {
    "duration": 8,
    "start_time": "2022-04-13T22:35:53.378Z"
   },
   {
    "duration": 8,
    "start_time": "2022-04-13T22:35:54.202Z"
   },
   {
    "duration": 6,
    "start_time": "2022-04-13T22:35:56.435Z"
   },
   {
    "duration": 7,
    "start_time": "2022-04-13T22:36:33.084Z"
   },
   {
    "duration": 169,
    "start_time": "2022-04-13T22:36:33.399Z"
   },
   {
    "duration": 165,
    "start_time": "2022-04-13T22:36:34.047Z"
   },
   {
    "duration": 6,
    "start_time": "2022-04-13T22:38:43.146Z"
   },
   {
    "duration": 21,
    "start_time": "2022-04-13T22:38:51.106Z"
   },
   {
    "duration": 112,
    "start_time": "2022-04-13T22:40:47.858Z"
   },
   {
    "duration": 6,
    "start_time": "2022-04-13T22:41:31.782Z"
   },
   {
    "duration": 6,
    "start_time": "2022-04-13T22:41:33.587Z"
   },
   {
    "duration": 7,
    "start_time": "2022-04-13T22:41:37.225Z"
   },
   {
    "duration": 159,
    "start_time": "2022-04-13T22:41:37.716Z"
   },
   {
    "duration": 159,
    "start_time": "2022-04-13T22:41:39.728Z"
   },
   {
    "duration": 16,
    "start_time": "2022-04-13T22:47:33.020Z"
   },
   {
    "duration": 9,
    "start_time": "2022-04-13T22:47:37.619Z"
   },
   {
    "duration": 9,
    "start_time": "2022-04-13T22:47:48.811Z"
   },
   {
    "duration": 108,
    "start_time": "2022-04-13T22:52:47.653Z"
   },
   {
    "duration": 5,
    "start_time": "2022-04-13T23:07:01.048Z"
   },
   {
    "duration": 2727,
    "start_time": "2022-04-13T23:07:38.053Z"
   },
   {
    "duration": 5,
    "start_time": "2022-04-13T23:08:14.186Z"
   },
   {
    "duration": 2774,
    "start_time": "2022-04-13T23:08:15.454Z"
   },
   {
    "duration": 13,
    "start_time": "2022-04-13T23:08:52.581Z"
   },
   {
    "duration": 9,
    "start_time": "2022-04-13T23:09:53.754Z"
   },
   {
    "duration": 45,
    "start_time": "2022-04-13T23:09:59.058Z"
   },
   {
    "duration": 18,
    "start_time": "2022-04-13T23:10:06.392Z"
   },
   {
    "duration": 1225,
    "start_time": "2022-04-13T23:11:23.958Z"
   },
   {
    "duration": 723,
    "start_time": "2022-04-13T23:11:25.185Z"
   },
   {
    "duration": 3,
    "start_time": "2022-04-13T23:11:25.910Z"
   },
   {
    "duration": 7,
    "start_time": "2022-04-13T23:11:25.914Z"
   },
   {
    "duration": 63,
    "start_time": "2022-04-13T23:11:25.923Z"
   },
   {
    "duration": 49,
    "start_time": "2022-04-13T23:11:25.988Z"
   },
   {
    "duration": 10,
    "start_time": "2022-04-13T23:11:26.774Z"
   },
   {
    "duration": 9,
    "start_time": "2022-04-13T23:11:26.998Z"
   },
   {
    "duration": 54,
    "start_time": "2022-04-13T23:11:28.490Z"
   },
   {
    "duration": 2,
    "start_time": "2022-04-13T23:11:29.302Z"
   },
   {
    "duration": 10,
    "start_time": "2022-04-13T23:11:30.272Z"
   },
   {
    "duration": 11,
    "start_time": "2022-04-13T23:11:30.796Z"
   },
   {
    "duration": 12,
    "start_time": "2022-04-13T23:11:31.421Z"
   },
   {
    "duration": 5,
    "start_time": "2022-04-13T23:11:32.931Z"
   },
   {
    "duration": 7,
    "start_time": "2022-04-13T23:11:33.189Z"
   },
   {
    "duration": 15,
    "start_time": "2022-04-13T23:11:34.801Z"
   },
   {
    "duration": 11,
    "start_time": "2022-04-13T23:11:35.044Z"
   },
   {
    "duration": 11,
    "start_time": "2022-04-13T23:11:36.557Z"
   },
   {
    "duration": 44,
    "start_time": "2022-04-13T23:11:36.748Z"
   },
   {
    "duration": 10,
    "start_time": "2022-04-13T23:11:36.987Z"
   },
   {
    "duration": 10,
    "start_time": "2022-04-13T23:11:37.223Z"
   },
   {
    "duration": 8,
    "start_time": "2022-04-13T23:11:37.541Z"
   },
   {
    "duration": 9,
    "start_time": "2022-04-13T23:11:38.815Z"
   },
   {
    "duration": 12,
    "start_time": "2022-04-13T23:11:39.177Z"
   },
   {
    "duration": 12,
    "start_time": "2022-04-13T23:11:41.037Z"
   },
   {
    "duration": 9,
    "start_time": "2022-04-13T23:11:41.481Z"
   },
   {
    "duration": 9,
    "start_time": "2022-04-13T23:11:44.384Z"
   },
   {
    "duration": 18,
    "start_time": "2022-04-13T23:11:44.831Z"
   },
   {
    "duration": 14,
    "start_time": "2022-04-13T23:11:47.394Z"
   },
   {
    "duration": 11,
    "start_time": "2022-04-13T23:11:47.845Z"
   },
   {
    "duration": 10,
    "start_time": "2022-04-13T23:11:49.675Z"
   },
   {
    "duration": 53,
    "start_time": "2022-04-13T23:11:49.989Z"
   },
   {
    "duration": 8,
    "start_time": "2022-04-13T23:11:52.395Z"
   },
   {
    "duration": 8,
    "start_time": "2022-04-13T23:11:53.383Z"
   },
   {
    "duration": 16,
    "start_time": "2022-04-13T23:11:55.089Z"
   },
   {
    "duration": 47,
    "start_time": "2022-04-13T23:11:55.265Z"
   },
   {
    "duration": 32,
    "start_time": "2022-04-13T23:11:56.304Z"
   },
   {
    "duration": 34,
    "start_time": "2022-04-13T23:11:56.816Z"
   },
   {
    "duration": 13,
    "start_time": "2022-04-13T23:12:00.335Z"
   },
   {
    "duration": 11,
    "start_time": "2022-04-13T23:12:01.210Z"
   },
   {
    "duration": 25,
    "start_time": "2022-04-13T23:12:01.666Z"
   },
   {
    "duration": 8,
    "start_time": "2022-04-13T23:12:03.466Z"
   },
   {
    "duration": 5,
    "start_time": "2022-04-13T23:12:04.157Z"
   },
   {
    "duration": 8,
    "start_time": "2022-04-13T23:12:05.860Z"
   },
   {
    "duration": 15,
    "start_time": "2022-04-13T23:12:06.543Z"
   },
   {
    "duration": 9,
    "start_time": "2022-04-13T23:12:11.698Z"
   },
   {
    "duration": 7,
    "start_time": "2022-04-13T23:12:14.810Z"
   },
   {
    "duration": 44,
    "start_time": "2022-04-13T23:12:34.925Z"
   },
   {
    "duration": 15,
    "start_time": "2022-04-13T23:12:35.732Z"
   },
   {
    "duration": 8,
    "start_time": "2022-04-13T23:13:07.592Z"
   },
   {
    "duration": 166,
    "start_time": "2022-04-13T23:13:14.527Z"
   },
   {
    "duration": 171,
    "start_time": "2022-04-13T23:13:25.388Z"
   },
   {
    "duration": 4,
    "start_time": "2022-04-13T23:16:35.071Z"
   },
   {
    "duration": 4,
    "start_time": "2022-04-13T23:16:51.399Z"
   },
   {
    "duration": 8,
    "start_time": "2022-04-13T23:16:51.924Z"
   },
   {
    "duration": 188,
    "start_time": "2022-04-13T23:16:52.271Z"
   },
   {
    "duration": 192,
    "start_time": "2022-04-13T23:16:52.985Z"
   },
   {
    "duration": 14,
    "start_time": "2022-04-13T23:16:59.496Z"
   },
   {
    "duration": 234,
    "start_time": "2022-04-13T23:16:59.807Z"
   },
   {
    "duration": 5,
    "start_time": "2022-04-13T23:17:02.793Z"
   },
   {
    "duration": 216,
    "start_time": "2022-04-13T23:17:05.762Z"
   },
   {
    "duration": 7,
    "start_time": "2022-04-13T23:17:07.366Z"
   },
   {
    "duration": 237,
    "start_time": "2022-04-13T23:17:08.461Z"
   },
   {
    "duration": 6,
    "start_time": "2022-04-13T23:17:09.393Z"
   },
   {
    "duration": 10,
    "start_time": "2022-04-13T23:17:10.436Z"
   },
   {
    "duration": 8,
    "start_time": "2022-04-13T23:17:11.107Z"
   },
   {
    "duration": 178,
    "start_time": "2022-04-13T23:17:31.942Z"
   },
   {
    "duration": 6,
    "start_time": "2022-04-13T23:17:32.579Z"
   },
   {
    "duration": 261,
    "start_time": "2022-04-13T23:17:33.862Z"
   },
   {
    "duration": 5,
    "start_time": "2022-04-13T23:17:34.849Z"
   },
   {
    "duration": 8,
    "start_time": "2022-04-13T23:17:36.105Z"
   },
   {
    "duration": 7,
    "start_time": "2022-04-13T23:17:36.923Z"
   },
   {
    "duration": 161,
    "start_time": "2022-04-13T23:17:44.235Z"
   },
   {
    "duration": 6,
    "start_time": "2022-04-13T23:17:44.744Z"
   },
   {
    "duration": 151,
    "start_time": "2022-04-13T23:17:45.332Z"
   },
   {
    "duration": 6,
    "start_time": "2022-04-13T23:17:45.805Z"
   },
   {
    "duration": 8,
    "start_time": "2022-04-13T23:17:46.797Z"
   },
   {
    "duration": 8,
    "start_time": "2022-04-13T23:17:47.467Z"
   },
   {
    "duration": 185,
    "start_time": "2022-04-13T23:18:51.617Z"
   },
   {
    "duration": 165,
    "start_time": "2022-04-13T23:19:50.355Z"
   },
   {
    "duration": 206,
    "start_time": "2022-04-13T23:20:02.935Z"
   },
   {
    "duration": 198,
    "start_time": "2022-04-13T23:20:21.696Z"
   },
   {
    "duration": 194,
    "start_time": "2022-04-13T23:20:25.045Z"
   },
   {
    "duration": 184,
    "start_time": "2022-04-13T23:20:42.029Z"
   },
   {
    "duration": 188,
    "start_time": "2022-04-13T23:21:03.429Z"
   },
   {
    "duration": 189,
    "start_time": "2022-04-13T23:24:02.125Z"
   },
   {
    "duration": 270,
    "start_time": "2022-04-13T23:24:13.621Z"
   },
   {
    "duration": 180,
    "start_time": "2022-04-13T23:24:22.094Z"
   },
   {
    "duration": 169,
    "start_time": "2022-04-13T23:25:42.888Z"
   },
   {
    "duration": 5,
    "start_time": "2022-04-13T23:27:07.623Z"
   },
   {
    "duration": 5,
    "start_time": "2022-04-13T23:27:19.167Z"
   },
   {
    "duration": 170,
    "start_time": "2022-04-13T23:27:28.162Z"
   },
   {
    "duration": 6,
    "start_time": "2022-04-13T23:28:11.221Z"
   },
   {
    "duration": 159,
    "start_time": "2022-04-13T23:28:40.052Z"
   },
   {
    "duration": 169,
    "start_time": "2022-04-13T23:28:46.974Z"
   },
   {
    "duration": 166,
    "start_time": "2022-04-13T23:28:54.836Z"
   },
   {
    "duration": 6,
    "start_time": "2022-04-13T23:28:55.278Z"
   },
   {
    "duration": 6,
    "start_time": "2022-04-13T23:29:26.732Z"
   },
   {
    "duration": 1387,
    "start_time": "2022-04-14T21:49:25.188Z"
   },
   {
    "duration": 997,
    "start_time": "2022-04-14T21:49:26.577Z"
   },
   {
    "duration": 3,
    "start_time": "2022-04-14T21:49:27.575Z"
   },
   {
    "duration": 14,
    "start_time": "2022-04-14T21:49:27.579Z"
   },
   {
    "duration": 65,
    "start_time": "2022-04-14T21:49:27.595Z"
   },
   {
    "duration": 42,
    "start_time": "2022-04-14T21:49:27.662Z"
   },
   {
    "duration": 9,
    "start_time": "2022-04-14T21:49:27.705Z"
   },
   {
    "duration": 45,
    "start_time": "2022-04-14T21:49:27.716Z"
   },
   {
    "duration": 55,
    "start_time": "2022-04-14T21:49:27.765Z"
   },
   {
    "duration": 3,
    "start_time": "2022-04-14T21:49:27.821Z"
   },
   {
    "duration": 20,
    "start_time": "2022-04-14T21:49:27.825Z"
   },
   {
    "duration": 13,
    "start_time": "2022-04-14T21:49:27.847Z"
   },
   {
    "duration": 26,
    "start_time": "2022-04-14T21:49:27.862Z"
   },
   {
    "duration": 4,
    "start_time": "2022-04-14T21:49:27.891Z"
   },
   {
    "duration": 11,
    "start_time": "2022-04-14T21:49:27.896Z"
   },
   {
    "duration": 18,
    "start_time": "2022-04-14T21:49:27.909Z"
   },
   {
    "duration": 10,
    "start_time": "2022-04-14T21:49:27.928Z"
   },
   {
    "duration": 17,
    "start_time": "2022-04-14T21:49:27.954Z"
   },
   {
    "duration": 41,
    "start_time": "2022-04-14T21:49:27.973Z"
   },
   {
    "duration": 10,
    "start_time": "2022-04-14T21:49:28.015Z"
   },
   {
    "duration": 37,
    "start_time": "2022-04-14T21:49:28.027Z"
   },
   {
    "duration": 8,
    "start_time": "2022-04-14T21:49:28.066Z"
   },
   {
    "duration": 8,
    "start_time": "2022-04-14T21:49:28.076Z"
   },
   {
    "duration": 12,
    "start_time": "2022-04-14T21:49:28.085Z"
   },
   {
    "duration": 18,
    "start_time": "2022-04-14T21:49:28.098Z"
   },
   {
    "duration": 9,
    "start_time": "2022-04-14T21:49:28.118Z"
   },
   {
    "duration": 15,
    "start_time": "2022-04-14T21:49:28.159Z"
   },
   {
    "duration": 17,
    "start_time": "2022-04-14T21:49:28.177Z"
   },
   {
    "duration": 14,
    "start_time": "2022-04-14T21:49:28.196Z"
   },
   {
    "duration": 10,
    "start_time": "2022-04-14T21:49:28.211Z"
   },
   {
    "duration": 40,
    "start_time": "2022-04-14T21:49:28.223Z"
   },
   {
    "duration": 50,
    "start_time": "2022-04-14T21:49:28.265Z"
   },
   {
    "duration": 9,
    "start_time": "2022-04-14T21:49:28.316Z"
   },
   {
    "duration": 24,
    "start_time": "2022-04-14T21:49:28.326Z"
   },
   {
    "duration": 29,
    "start_time": "2022-04-14T21:49:28.355Z"
   },
   {
    "duration": 48,
    "start_time": "2022-04-14T21:49:28.386Z"
   },
   {
    "duration": 42,
    "start_time": "2022-04-14T21:49:28.436Z"
   },
   {
    "duration": 33,
    "start_time": "2022-04-14T21:49:28.480Z"
   },
   {
    "duration": 11,
    "start_time": "2022-04-14T21:49:28.515Z"
   },
   {
    "duration": 28,
    "start_time": "2022-04-14T21:49:28.528Z"
   },
   {
    "duration": 40,
    "start_time": "2022-04-14T21:49:28.562Z"
   },
   {
    "duration": 7,
    "start_time": "2022-04-14T21:49:28.603Z"
   },
   {
    "duration": 18,
    "start_time": "2022-04-14T21:49:28.612Z"
   },
   {
    "duration": 38,
    "start_time": "2022-04-14T21:49:28.631Z"
   },
   {
    "duration": 19,
    "start_time": "2022-04-14T21:49:28.671Z"
   },
   {
    "duration": 20,
    "start_time": "2022-04-14T21:49:28.692Z"
   },
   {
    "duration": 11,
    "start_time": "2022-04-14T21:49:28.713Z"
   },
   {
    "duration": 64,
    "start_time": "2022-04-14T21:49:28.725Z"
   },
   {
    "duration": 16,
    "start_time": "2022-04-14T21:49:28.791Z"
   },
   {
    "duration": 9,
    "start_time": "2022-04-14T21:49:28.809Z"
   },
   {
    "duration": 20,
    "start_time": "2022-04-14T21:49:28.819Z"
   },
   {
    "duration": 204,
    "start_time": "2022-04-14T21:49:28.841Z"
   },
   {
    "duration": 198,
    "start_time": "2022-04-14T21:49:29.046Z"
   },
   {
    "duration": 114,
    "start_time": "2022-04-14T21:49:29.246Z"
   },
   {
    "duration": 0,
    "start_time": "2022-04-14T21:49:29.367Z"
   },
   {
    "duration": 0,
    "start_time": "2022-04-14T21:49:29.368Z"
   },
   {
    "duration": 0,
    "start_time": "2022-04-14T21:49:29.369Z"
   },
   {
    "duration": 0,
    "start_time": "2022-04-14T21:49:29.371Z"
   },
   {
    "duration": 0,
    "start_time": "2022-04-14T21:49:29.372Z"
   },
   {
    "duration": 0,
    "start_time": "2022-04-14T21:49:29.373Z"
   },
   {
    "duration": 0,
    "start_time": "2022-04-14T21:49:29.374Z"
   },
   {
    "duration": 0,
    "start_time": "2022-04-14T21:49:29.375Z"
   },
   {
    "duration": 0,
    "start_time": "2022-04-14T21:49:29.376Z"
   },
   {
    "duration": 0,
    "start_time": "2022-04-14T21:49:29.377Z"
   },
   {
    "duration": 0,
    "start_time": "2022-04-14T21:49:29.378Z"
   },
   {
    "duration": 0,
    "start_time": "2022-04-14T21:49:29.379Z"
   },
   {
    "duration": 0,
    "start_time": "2022-04-14T21:49:29.379Z"
   },
   {
    "duration": 0,
    "start_time": "2022-04-14T21:49:29.381Z"
   },
   {
    "duration": 0,
    "start_time": "2022-04-14T21:49:29.382Z"
   },
   {
    "duration": 0,
    "start_time": "2022-04-14T21:49:29.382Z"
   },
   {
    "duration": 0,
    "start_time": "2022-04-14T21:49:29.383Z"
   },
   {
    "duration": 0,
    "start_time": "2022-04-14T21:49:29.384Z"
   },
   {
    "duration": 0,
    "start_time": "2022-04-14T21:49:29.385Z"
   },
   {
    "duration": 0,
    "start_time": "2022-04-14T21:49:29.386Z"
   },
   {
    "duration": 0,
    "start_time": "2022-04-14T21:49:29.387Z"
   },
   {
    "duration": 0,
    "start_time": "2022-04-14T21:49:29.389Z"
   },
   {
    "duration": 0,
    "start_time": "2022-04-14T21:49:29.389Z"
   },
   {
    "duration": 0,
    "start_time": "2022-04-14T21:49:29.390Z"
   },
   {
    "duration": 0,
    "start_time": "2022-04-14T21:49:29.391Z"
   },
   {
    "duration": 0,
    "start_time": "2022-04-14T21:49:29.392Z"
   },
   {
    "duration": 0,
    "start_time": "2022-04-14T21:49:29.393Z"
   },
   {
    "duration": 0,
    "start_time": "2022-04-14T21:49:29.394Z"
   },
   {
    "duration": 0,
    "start_time": "2022-04-14T21:49:29.395Z"
   },
   {
    "duration": 0,
    "start_time": "2022-04-14T21:49:29.396Z"
   },
   {
    "duration": 0,
    "start_time": "2022-04-14T21:49:29.397Z"
   },
   {
    "duration": 0,
    "start_time": "2022-04-14T21:49:29.398Z"
   },
   {
    "duration": 0,
    "start_time": "2022-04-14T21:49:29.399Z"
   },
   {
    "duration": 15,
    "start_time": "2022-04-14T21:50:25.542Z"
   },
   {
    "duration": 9,
    "start_time": "2022-04-14T21:50:37.807Z"
   },
   {
    "duration": 5,
    "start_time": "2022-04-14T21:50:43.451Z"
   },
   {
    "duration": 1177,
    "start_time": "2022-04-14T21:56:42.046Z"
   },
   {
    "duration": 922,
    "start_time": "2022-04-14T21:56:43.225Z"
   },
   {
    "duration": 2,
    "start_time": "2022-04-14T21:56:44.149Z"
   },
   {
    "duration": 17,
    "start_time": "2022-04-14T21:56:44.153Z"
   },
   {
    "duration": 56,
    "start_time": "2022-04-14T21:56:44.172Z"
   },
   {
    "duration": 47,
    "start_time": "2022-04-14T21:56:44.230Z"
   },
   {
    "duration": 9,
    "start_time": "2022-04-14T21:56:44.278Z"
   },
   {
    "duration": 10,
    "start_time": "2022-04-14T21:56:44.289Z"
   },
   {
    "duration": 85,
    "start_time": "2022-04-14T21:56:44.300Z"
   },
   {
    "duration": 3,
    "start_time": "2022-04-14T21:56:44.386Z"
   },
   {
    "duration": 11,
    "start_time": "2022-04-14T21:56:44.391Z"
   },
   {
    "duration": 12,
    "start_time": "2022-04-14T21:56:44.404Z"
   },
   {
    "duration": 20,
    "start_time": "2022-04-14T21:56:44.417Z"
   },
   {
    "duration": 6,
    "start_time": "2022-04-14T21:56:44.455Z"
   },
   {
    "duration": 21,
    "start_time": "2022-04-14T21:56:44.464Z"
   },
   {
    "duration": 16,
    "start_time": "2022-04-14T21:56:44.486Z"
   },
   {
    "duration": 10,
    "start_time": "2022-04-14T21:56:44.504Z"
   },
   {
    "duration": 19,
    "start_time": "2022-04-14T21:56:44.515Z"
   },
   {
    "duration": 47,
    "start_time": "2022-04-14T21:56:44.535Z"
   },
   {
    "duration": 9,
    "start_time": "2022-04-14T21:56:44.584Z"
   },
   {
    "duration": 10,
    "start_time": "2022-04-14T21:56:44.595Z"
   },
   {
    "duration": 15,
    "start_time": "2022-04-14T21:56:44.606Z"
   },
   {
    "duration": 8,
    "start_time": "2022-04-14T21:56:44.623Z"
   },
   {
    "duration": 31,
    "start_time": "2022-04-14T21:56:44.632Z"
   },
   {
    "duration": 21,
    "start_time": "2022-04-14T21:56:44.664Z"
   },
   {
    "duration": 9,
    "start_time": "2022-04-14T21:56:44.687Z"
   },
   {
    "duration": 9,
    "start_time": "2022-04-14T21:56:44.697Z"
   },
   {
    "duration": 17,
    "start_time": "2022-04-14T21:56:44.708Z"
   },
   {
    "duration": 35,
    "start_time": "2022-04-14T21:56:44.726Z"
   },
   {
    "duration": 10,
    "start_time": "2022-04-14T21:56:44.763Z"
   },
   {
    "duration": 9,
    "start_time": "2022-04-14T21:56:44.775Z"
   },
   {
    "duration": 39,
    "start_time": "2022-04-14T21:56:44.786Z"
   },
   {
    "duration": 32,
    "start_time": "2022-04-14T21:56:44.827Z"
   },
   {
    "duration": 16,
    "start_time": "2022-04-14T21:56:44.860Z"
   },
   {
    "duration": 17,
    "start_time": "2022-04-14T21:56:44.878Z"
   },
   {
    "duration": 45,
    "start_time": "2022-04-14T21:56:44.896Z"
   },
   {
    "duration": 43,
    "start_time": "2022-04-14T21:56:44.943Z"
   },
   {
    "duration": 40,
    "start_time": "2022-04-14T21:56:44.987Z"
   },
   {
    "duration": 36,
    "start_time": "2022-04-14T21:56:45.029Z"
   },
   {
    "duration": 10,
    "start_time": "2022-04-14T21:56:45.068Z"
   },
   {
    "duration": 21,
    "start_time": "2022-04-14T21:56:45.082Z"
   },
   {
    "duration": 7,
    "start_time": "2022-04-14T21:56:45.104Z"
   },
   {
    "duration": 4,
    "start_time": "2022-04-14T21:56:45.112Z"
   },
   {
    "duration": 9,
    "start_time": "2022-04-14T21:56:45.118Z"
   },
   {
    "duration": 36,
    "start_time": "2022-04-14T21:56:45.128Z"
   },
   {
    "duration": 13,
    "start_time": "2022-04-14T21:56:45.165Z"
   },
   {
    "duration": 5,
    "start_time": "2022-04-14T21:56:45.179Z"
   },
   {
    "duration": 46,
    "start_time": "2022-04-14T21:56:45.185Z"
   },
   {
    "duration": 33,
    "start_time": "2022-04-14T21:56:45.232Z"
   },
   {
    "duration": 8,
    "start_time": "2022-04-14T21:56:45.266Z"
   },
   {
    "duration": 8,
    "start_time": "2022-04-14T21:56:45.275Z"
   },
   {
    "duration": 207,
    "start_time": "2022-04-14T21:56:45.285Z"
   },
   {
    "duration": 196,
    "start_time": "2022-04-14T21:56:45.494Z"
   },
   {
    "duration": 105,
    "start_time": "2022-04-14T21:56:45.692Z"
   },
   {
    "duration": 0,
    "start_time": "2022-04-14T21:56:45.799Z"
   },
   {
    "duration": 0,
    "start_time": "2022-04-14T21:56:45.800Z"
   },
   {
    "duration": 0,
    "start_time": "2022-04-14T21:56:45.801Z"
   },
   {
    "duration": 0,
    "start_time": "2022-04-14T21:56:45.802Z"
   },
   {
    "duration": 0,
    "start_time": "2022-04-14T21:56:45.803Z"
   },
   {
    "duration": 0,
    "start_time": "2022-04-14T21:56:45.804Z"
   },
   {
    "duration": 0,
    "start_time": "2022-04-14T21:56:45.805Z"
   },
   {
    "duration": 0,
    "start_time": "2022-04-14T21:56:45.806Z"
   },
   {
    "duration": 0,
    "start_time": "2022-04-14T21:56:45.806Z"
   },
   {
    "duration": 0,
    "start_time": "2022-04-14T21:56:45.807Z"
   },
   {
    "duration": 0,
    "start_time": "2022-04-14T21:56:45.808Z"
   },
   {
    "duration": 0,
    "start_time": "2022-04-14T21:56:45.809Z"
   },
   {
    "duration": 0,
    "start_time": "2022-04-14T21:56:45.810Z"
   },
   {
    "duration": 0,
    "start_time": "2022-04-14T21:56:45.811Z"
   },
   {
    "duration": 0,
    "start_time": "2022-04-14T21:56:45.812Z"
   },
   {
    "duration": 1,
    "start_time": "2022-04-14T21:56:45.812Z"
   },
   {
    "duration": 0,
    "start_time": "2022-04-14T21:56:45.813Z"
   },
   {
    "duration": 0,
    "start_time": "2022-04-14T21:56:45.814Z"
   },
   {
    "duration": 0,
    "start_time": "2022-04-14T21:56:45.815Z"
   },
   {
    "duration": 0,
    "start_time": "2022-04-14T21:56:45.816Z"
   },
   {
    "duration": 0,
    "start_time": "2022-04-14T21:56:45.817Z"
   },
   {
    "duration": 0,
    "start_time": "2022-04-14T21:56:45.818Z"
   },
   {
    "duration": 0,
    "start_time": "2022-04-14T21:56:45.819Z"
   },
   {
    "duration": 0,
    "start_time": "2022-04-14T21:56:45.819Z"
   },
   {
    "duration": 0,
    "start_time": "2022-04-14T21:56:45.855Z"
   },
   {
    "duration": 0,
    "start_time": "2022-04-14T21:56:45.860Z"
   },
   {
    "duration": 0,
    "start_time": "2022-04-14T21:56:45.861Z"
   },
   {
    "duration": 0,
    "start_time": "2022-04-14T21:56:45.861Z"
   },
   {
    "duration": 0,
    "start_time": "2022-04-14T21:56:45.862Z"
   },
   {
    "duration": 0,
    "start_time": "2022-04-14T21:56:45.863Z"
   },
   {
    "duration": 0,
    "start_time": "2022-04-14T21:56:45.864Z"
   },
   {
    "duration": 0,
    "start_time": "2022-04-14T21:56:45.865Z"
   },
   {
    "duration": 0,
    "start_time": "2022-04-14T21:56:45.867Z"
   },
   {
    "duration": 47,
    "start_time": "2022-04-15T21:07:11.156Z"
   },
   {
    "duration": 1283,
    "start_time": "2022-04-16T18:41:38.285Z"
   },
   {
    "duration": 1913,
    "start_time": "2022-04-16T18:41:39.569Z"
   },
   {
    "duration": 3,
    "start_time": "2022-04-16T18:41:41.483Z"
   },
   {
    "duration": 5,
    "start_time": "2022-04-16T18:41:41.488Z"
   },
   {
    "duration": 53,
    "start_time": "2022-04-16T18:41:41.495Z"
   },
   {
    "duration": 51,
    "start_time": "2022-04-16T18:41:41.549Z"
   },
   {
    "duration": 8,
    "start_time": "2022-04-16T18:41:41.602Z"
   },
   {
    "duration": 24,
    "start_time": "2022-04-16T18:41:41.611Z"
   },
   {
    "duration": 58,
    "start_time": "2022-04-16T18:41:41.636Z"
   },
   {
    "duration": 2,
    "start_time": "2022-04-16T18:41:41.697Z"
   },
   {
    "duration": 15,
    "start_time": "2022-04-16T18:41:41.700Z"
   },
   {
    "duration": 22,
    "start_time": "2022-04-16T18:41:41.717Z"
   },
   {
    "duration": 26,
    "start_time": "2022-04-16T18:41:41.740Z"
   },
   {
    "duration": 30,
    "start_time": "2022-04-16T18:41:41.767Z"
   },
   {
    "duration": 34,
    "start_time": "2022-04-16T18:41:41.799Z"
   },
   {
    "duration": 29,
    "start_time": "2022-04-16T18:41:41.835Z"
   },
   {
    "duration": 10,
    "start_time": "2022-04-16T18:41:41.866Z"
   },
   {
    "duration": 11,
    "start_time": "2022-04-16T18:41:41.877Z"
   },
   {
    "duration": 34,
    "start_time": "2022-04-16T18:41:41.889Z"
   },
   {
    "duration": 8,
    "start_time": "2022-04-16T18:41:41.925Z"
   },
   {
    "duration": 7,
    "start_time": "2022-04-16T18:41:41.934Z"
   },
   {
    "duration": 6,
    "start_time": "2022-04-16T18:41:41.943Z"
   },
   {
    "duration": 9,
    "start_time": "2022-04-16T18:41:41.950Z"
   },
   {
    "duration": 11,
    "start_time": "2022-04-16T18:41:41.960Z"
   },
   {
    "duration": 11,
    "start_time": "2022-04-16T18:41:42.000Z"
   },
   {
    "duration": 9,
    "start_time": "2022-04-16T18:41:42.012Z"
   },
   {
    "duration": 10,
    "start_time": "2022-04-16T18:41:42.022Z"
   },
   {
    "duration": 17,
    "start_time": "2022-04-16T18:41:42.036Z"
   },
   {
    "duration": 14,
    "start_time": "2022-04-16T18:41:42.054Z"
   },
   {
    "duration": 36,
    "start_time": "2022-04-16T18:41:42.069Z"
   },
   {
    "duration": 9,
    "start_time": "2022-04-16T18:41:42.107Z"
   },
   {
    "duration": 37,
    "start_time": "2022-04-16T18:41:42.118Z"
   },
   {
    "duration": 8,
    "start_time": "2022-04-16T18:41:42.157Z"
   },
   {
    "duration": 9,
    "start_time": "2022-04-16T18:41:42.166Z"
   },
   {
    "duration": 15,
    "start_time": "2022-04-16T18:41:42.201Z"
   },
   {
    "duration": 40,
    "start_time": "2022-04-16T18:41:42.218Z"
   },
   {
    "duration": 46,
    "start_time": "2022-04-16T18:41:42.259Z"
   },
   {
    "duration": 30,
    "start_time": "2022-04-16T18:41:42.306Z"
   },
   {
    "duration": 11,
    "start_time": "2022-04-16T18:41:42.338Z"
   },
   {
    "duration": 8,
    "start_time": "2022-04-16T18:41:42.350Z"
   },
   {
    "duration": 43,
    "start_time": "2022-04-16T18:41:42.360Z"
   },
   {
    "duration": 7,
    "start_time": "2022-04-16T18:41:42.404Z"
   },
   {
    "duration": 6,
    "start_time": "2022-04-16T18:41:42.412Z"
   },
   {
    "duration": 9,
    "start_time": "2022-04-16T18:41:42.419Z"
   },
   {
    "duration": 14,
    "start_time": "2022-04-16T18:41:42.429Z"
   },
   {
    "duration": 9,
    "start_time": "2022-04-16T18:41:42.444Z"
   },
   {
    "duration": 4,
    "start_time": "2022-04-16T18:41:42.455Z"
   },
   {
    "duration": 79,
    "start_time": "2022-04-16T18:41:42.460Z"
   },
   {
    "duration": 14,
    "start_time": "2022-04-16T18:41:42.540Z"
   },
   {
    "duration": 6,
    "start_time": "2022-04-16T18:41:42.555Z"
   },
   {
    "duration": 4,
    "start_time": "2022-04-16T18:41:42.562Z"
   },
   {
    "duration": 8,
    "start_time": "2022-04-16T18:41:42.567Z"
   },
   {
    "duration": 195,
    "start_time": "2022-04-16T18:41:42.576Z"
   },
   {
    "duration": 179,
    "start_time": "2022-04-16T18:41:42.773Z"
   },
   {
    "duration": 162,
    "start_time": "2022-04-16T18:41:42.954Z"
   },
   {
    "duration": 6,
    "start_time": "2022-04-16T18:41:43.117Z"
   },
   {
    "duration": 162,
    "start_time": "2022-04-16T18:41:43.124Z"
   },
   {
    "duration": 5,
    "start_time": "2022-04-16T18:41:43.288Z"
   },
   {
    "duration": 10,
    "start_time": "2022-04-16T18:41:43.300Z"
   },
   {
    "duration": 195,
    "start_time": "2022-04-16T18:41:43.312Z"
   },
   {
    "duration": 173,
    "start_time": "2022-04-16T18:41:43.508Z"
   },
   {
    "duration": 6,
    "start_time": "2022-04-16T18:41:43.682Z"
   },
   {
    "duration": 182,
    "start_time": "2022-04-16T18:41:43.700Z"
   },
   {
    "duration": 6,
    "start_time": "2022-04-16T18:41:43.883Z"
   },
   {
    "duration": 7,
    "start_time": "2022-04-16T18:41:43.900Z"
   },
   {
    "duration": 76,
    "start_time": "2022-04-16T18:41:43.909Z"
   },
   {
    "duration": 166,
    "start_time": "2022-04-16T18:41:43.986Z"
   },
   {
    "duration": 5,
    "start_time": "2022-04-16T18:41:44.153Z"
   },
   {
    "duration": 159,
    "start_time": "2022-04-16T18:41:44.160Z"
   },
   {
    "duration": 4,
    "start_time": "2022-04-16T18:41:44.321Z"
   },
   {
    "duration": 7,
    "start_time": "2022-04-16T18:41:44.327Z"
   },
   {
    "duration": 7,
    "start_time": "2022-04-16T18:41:44.336Z"
   },
   {
    "duration": 164,
    "start_time": "2022-04-16T18:41:44.344Z"
   },
   {
    "duration": 5,
    "start_time": "2022-04-16T18:41:44.510Z"
   },
   {
    "duration": 149,
    "start_time": "2022-04-16T18:41:44.516Z"
   },
   {
    "duration": 5,
    "start_time": "2022-04-16T18:41:44.666Z"
   },
   {
    "duration": 7,
    "start_time": "2022-04-16T18:41:44.673Z"
   },
   {
    "duration": 22,
    "start_time": "2022-04-16T18:41:44.682Z"
   },
   {
    "duration": 3173,
    "start_time": "2022-04-16T18:41:44.705Z"
   },
   {
    "duration": 0,
    "start_time": "2022-04-16T18:41:47.879Z"
   },
   {
    "duration": 0,
    "start_time": "2022-04-16T18:41:47.880Z"
   },
   {
    "duration": 0,
    "start_time": "2022-04-16T18:41:47.882Z"
   },
   {
    "duration": 0,
    "start_time": "2022-04-16T18:41:47.883Z"
   },
   {
    "duration": 0,
    "start_time": "2022-04-16T18:41:47.883Z"
   },
   {
    "duration": 0,
    "start_time": "2022-04-16T18:41:47.884Z"
   },
   {
    "duration": 0,
    "start_time": "2022-04-16T18:41:47.885Z"
   },
   {
    "duration": 0,
    "start_time": "2022-04-16T18:41:47.886Z"
   },
   {
    "duration": 1115,
    "start_time": "2022-04-16T18:42:10.832Z"
   },
   {
    "duration": 817,
    "start_time": "2022-04-16T18:42:11.949Z"
   },
   {
    "duration": 2,
    "start_time": "2022-04-16T18:42:12.768Z"
   },
   {
    "duration": 8,
    "start_time": "2022-04-16T18:42:12.772Z"
   },
   {
    "duration": 58,
    "start_time": "2022-04-16T18:42:12.781Z"
   },
   {
    "duration": 40,
    "start_time": "2022-04-16T18:42:12.841Z"
   },
   {
    "duration": 26,
    "start_time": "2022-04-16T18:42:12.882Z"
   },
   {
    "duration": 11,
    "start_time": "2022-04-16T18:42:12.909Z"
   },
   {
    "duration": 51,
    "start_time": "2022-04-16T18:42:12.921Z"
   },
   {
    "duration": 2,
    "start_time": "2022-04-16T18:42:12.975Z"
   },
   {
    "duration": 11,
    "start_time": "2022-04-16T18:42:12.999Z"
   },
   {
    "duration": 14,
    "start_time": "2022-04-16T18:42:13.012Z"
   },
   {
    "duration": 13,
    "start_time": "2022-04-16T18:42:13.028Z"
   },
   {
    "duration": 5,
    "start_time": "2022-04-16T18:42:13.042Z"
   },
   {
    "duration": 7,
    "start_time": "2022-04-16T18:42:13.048Z"
   },
   {
    "duration": 45,
    "start_time": "2022-04-16T18:42:13.057Z"
   },
   {
    "duration": 12,
    "start_time": "2022-04-16T18:42:13.103Z"
   },
   {
    "duration": 12,
    "start_time": "2022-04-16T18:42:13.117Z"
   },
   {
    "duration": 34,
    "start_time": "2022-04-16T18:42:13.131Z"
   },
   {
    "duration": 38,
    "start_time": "2022-04-16T18:42:13.167Z"
   },
   {
    "duration": 10,
    "start_time": "2022-04-16T18:42:13.207Z"
   },
   {
    "duration": 9,
    "start_time": "2022-04-16T18:42:13.218Z"
   },
   {
    "duration": 9,
    "start_time": "2022-04-16T18:42:13.228Z"
   },
   {
    "duration": 13,
    "start_time": "2022-04-16T18:42:13.239Z"
   },
   {
    "duration": 52,
    "start_time": "2022-04-16T18:42:13.254Z"
   },
   {
    "duration": 9,
    "start_time": "2022-04-16T18:42:13.308Z"
   },
   {
    "duration": 9,
    "start_time": "2022-04-16T18:42:13.319Z"
   },
   {
    "duration": 16,
    "start_time": "2022-04-16T18:42:13.333Z"
   },
   {
    "duration": 14,
    "start_time": "2022-04-16T18:42:13.351Z"
   },
   {
    "duration": 40,
    "start_time": "2022-04-16T18:42:13.367Z"
   },
   {
    "duration": 12,
    "start_time": "2022-04-16T18:42:13.408Z"
   },
   {
    "duration": 42,
    "start_time": "2022-04-16T18:42:13.421Z"
   },
   {
    "duration": 7,
    "start_time": "2022-04-16T18:42:13.465Z"
   },
   {
    "duration": 32,
    "start_time": "2022-04-16T18:42:13.473Z"
   },
   {
    "duration": 19,
    "start_time": "2022-04-16T18:42:13.507Z"
   },
   {
    "duration": 40,
    "start_time": "2022-04-16T18:42:13.527Z"
   },
   {
    "duration": 45,
    "start_time": "2022-04-16T18:42:13.569Z"
   },
   {
    "duration": 30,
    "start_time": "2022-04-16T18:42:13.615Z"
   },
   {
    "duration": 11,
    "start_time": "2022-04-16T18:42:13.646Z"
   },
   {
    "duration": 9,
    "start_time": "2022-04-16T18:42:13.659Z"
   },
   {
    "duration": 45,
    "start_time": "2022-04-16T18:42:13.669Z"
   },
   {
    "duration": 7,
    "start_time": "2022-04-16T18:42:13.716Z"
   },
   {
    "duration": 4,
    "start_time": "2022-04-16T18:42:13.725Z"
   },
   {
    "duration": 7,
    "start_time": "2022-04-16T18:42:13.730Z"
   },
   {
    "duration": 13,
    "start_time": "2022-04-16T18:42:13.738Z"
   },
   {
    "duration": 9,
    "start_time": "2022-04-16T18:42:13.753Z"
   },
   {
    "duration": 5,
    "start_time": "2022-04-16T18:42:13.763Z"
   },
   {
    "duration": 45,
    "start_time": "2022-04-16T18:42:13.800Z"
   },
   {
    "duration": 14,
    "start_time": "2022-04-16T18:42:13.846Z"
   },
   {
    "duration": 7,
    "start_time": "2022-04-16T18:42:13.861Z"
   },
   {
    "duration": 4,
    "start_time": "2022-04-16T18:42:13.869Z"
   },
   {
    "duration": 26,
    "start_time": "2022-04-16T18:42:13.874Z"
   },
   {
    "duration": 186,
    "start_time": "2022-04-16T18:42:13.901Z"
   },
   {
    "duration": 179,
    "start_time": "2022-04-16T18:42:14.089Z"
   },
   {
    "duration": 159,
    "start_time": "2022-04-16T18:42:14.270Z"
   },
   {
    "duration": 6,
    "start_time": "2022-04-16T18:42:14.430Z"
   },
   {
    "duration": 166,
    "start_time": "2022-04-16T18:42:14.438Z"
   },
   {
    "duration": 6,
    "start_time": "2022-04-16T18:42:14.606Z"
   },
   {
    "duration": 11,
    "start_time": "2022-04-16T18:42:14.614Z"
   },
   {
    "duration": 212,
    "start_time": "2022-04-16T18:42:14.627Z"
   },
   {
    "duration": 185,
    "start_time": "2022-04-16T18:42:14.840Z"
   },
   {
    "duration": 6,
    "start_time": "2022-04-16T18:42:15.027Z"
   },
   {
    "duration": 190,
    "start_time": "2022-04-16T18:42:15.035Z"
   },
   {
    "duration": 6,
    "start_time": "2022-04-16T18:42:15.226Z"
   },
   {
    "duration": 9,
    "start_time": "2022-04-16T18:42:15.234Z"
   },
   {
    "duration": 93,
    "start_time": "2022-04-16T18:42:15.245Z"
   },
   {
    "duration": 164,
    "start_time": "2022-04-16T18:42:15.340Z"
   },
   {
    "duration": 5,
    "start_time": "2022-04-16T18:42:15.506Z"
   },
   {
    "duration": 164,
    "start_time": "2022-04-16T18:42:15.513Z"
   },
   {
    "duration": 5,
    "start_time": "2022-04-16T18:42:15.679Z"
   },
   {
    "duration": 18,
    "start_time": "2022-04-16T18:42:15.686Z"
   },
   {
    "duration": 7,
    "start_time": "2022-04-16T18:42:15.706Z"
   },
   {
    "duration": 172,
    "start_time": "2022-04-16T18:42:15.715Z"
   },
   {
    "duration": 13,
    "start_time": "2022-04-16T18:42:15.889Z"
   },
   {
    "duration": 149,
    "start_time": "2022-04-16T18:42:15.903Z"
   },
   {
    "duration": 6,
    "start_time": "2022-04-16T18:42:16.053Z"
   },
   {
    "duration": 14,
    "start_time": "2022-04-16T18:42:16.061Z"
   },
   {
    "duration": 8,
    "start_time": "2022-04-16T18:42:16.077Z"
   },
   {
    "duration": 3083,
    "start_time": "2022-04-16T18:42:16.101Z"
   },
   {
    "duration": 0,
    "start_time": "2022-04-16T18:42:19.186Z"
   },
   {
    "duration": 0,
    "start_time": "2022-04-16T18:42:19.188Z"
   },
   {
    "duration": 0,
    "start_time": "2022-04-16T18:42:19.189Z"
   },
   {
    "duration": 0,
    "start_time": "2022-04-16T18:42:19.190Z"
   },
   {
    "duration": 0,
    "start_time": "2022-04-16T18:42:19.191Z"
   },
   {
    "duration": 0,
    "start_time": "2022-04-16T18:42:19.192Z"
   },
   {
    "duration": 0,
    "start_time": "2022-04-16T18:42:19.193Z"
   },
   {
    "duration": 0,
    "start_time": "2022-04-16T18:42:19.194Z"
   },
   {
    "duration": 21,
    "start_time": "2022-04-16T18:45:07.127Z"
   },
   {
    "duration": 1806,
    "start_time": "2022-04-16T21:21:55.811Z"
   },
   {
    "duration": 1037,
    "start_time": "2022-04-16T21:21:57.620Z"
   },
   {
    "duration": 4,
    "start_time": "2022-04-16T21:21:58.659Z"
   },
   {
    "duration": 10,
    "start_time": "2022-04-16T21:21:58.665Z"
   },
   {
    "duration": 83,
    "start_time": "2022-04-16T21:21:58.678Z"
   },
   {
    "duration": 72,
    "start_time": "2022-04-16T21:21:58.764Z"
   },
   {
    "duration": 15,
    "start_time": "2022-04-16T21:21:58.838Z"
   },
   {
    "duration": 14,
    "start_time": "2022-04-16T21:21:58.894Z"
   },
   {
    "duration": 93,
    "start_time": "2022-04-16T21:21:58.910Z"
   },
   {
    "duration": 4,
    "start_time": "2022-04-16T21:21:59.005Z"
   },
   {
    "duration": 17,
    "start_time": "2022-04-16T21:21:59.011Z"
   },
   {
    "duration": 16,
    "start_time": "2022-04-16T21:21:59.031Z"
   },
   {
    "duration": 51,
    "start_time": "2022-04-16T21:21:59.049Z"
   },
   {
    "duration": 7,
    "start_time": "2022-04-16T21:21:59.104Z"
   },
   {
    "duration": 12,
    "start_time": "2022-04-16T21:21:59.114Z"
   },
   {
    "duration": 24,
    "start_time": "2022-04-16T21:21:59.129Z"
   },
   {
    "duration": 55,
    "start_time": "2022-04-16T21:21:59.155Z"
   },
   {
    "duration": 16,
    "start_time": "2022-04-16T21:21:59.212Z"
   },
   {
    "duration": 81,
    "start_time": "2022-04-16T21:21:59.231Z"
   },
   {
    "duration": 12,
    "start_time": "2022-04-16T21:21:59.314Z"
   },
   {
    "duration": 11,
    "start_time": "2022-04-16T21:21:59.329Z"
   },
   {
    "duration": 11,
    "start_time": "2022-04-16T21:21:59.342Z"
   },
   {
    "duration": 47,
    "start_time": "2022-04-16T21:21:59.354Z"
   },
   {
    "duration": 17,
    "start_time": "2022-04-16T21:21:59.403Z"
   },
   {
    "duration": 19,
    "start_time": "2022-04-16T21:21:59.422Z"
   },
   {
    "duration": 13,
    "start_time": "2022-04-16T21:21:59.443Z"
   },
   {
    "duration": 15,
    "start_time": "2022-04-16T21:21:59.494Z"
   },
   {
    "duration": 27,
    "start_time": "2022-04-16T21:21:59.511Z"
   },
   {
    "duration": 62,
    "start_time": "2022-04-16T21:21:59.541Z"
   },
   {
    "duration": 16,
    "start_time": "2022-04-16T21:21:59.606Z"
   },
   {
    "duration": 15,
    "start_time": "2022-04-16T21:21:59.624Z"
   },
   {
    "duration": 101,
    "start_time": "2022-04-16T21:21:59.641Z"
   },
   {
    "duration": 12,
    "start_time": "2022-04-16T21:21:59.744Z"
   },
   {
    "duration": 12,
    "start_time": "2022-04-16T21:21:59.758Z"
   },
   {
    "duration": 36,
    "start_time": "2022-04-16T21:21:59.772Z"
   },
   {
    "duration": 62,
    "start_time": "2022-04-16T21:21:59.810Z"
   },
   {
    "duration": 43,
    "start_time": "2022-04-16T21:21:59.894Z"
   },
   {
    "duration": 67,
    "start_time": "2022-04-16T21:21:59.940Z"
   },
   {
    "duration": 19,
    "start_time": "2022-04-16T21:22:00.009Z"
   },
   {
    "duration": 15,
    "start_time": "2022-04-16T21:22:00.031Z"
   },
   {
    "duration": 65,
    "start_time": "2022-04-16T21:22:00.054Z"
   },
   {
    "duration": 11,
    "start_time": "2022-04-16T21:22:00.121Z"
   },
   {
    "duration": 6,
    "start_time": "2022-04-16T21:22:00.134Z"
   },
   {
    "duration": 17,
    "start_time": "2022-04-16T21:22:00.142Z"
   },
   {
    "duration": 51,
    "start_time": "2022-04-16T21:22:00.161Z"
   },
   {
    "duration": 18,
    "start_time": "2022-04-16T21:22:00.214Z"
   },
   {
    "duration": 13,
    "start_time": "2022-04-16T21:22:00.234Z"
   },
   {
    "duration": 98,
    "start_time": "2022-04-16T21:22:00.249Z"
   },
   {
    "duration": 44,
    "start_time": "2022-04-16T21:22:00.349Z"
   },
   {
    "duration": 8,
    "start_time": "2022-04-16T21:22:00.395Z"
   },
   {
    "duration": 14,
    "start_time": "2022-04-16T21:22:00.405Z"
   },
   {
    "duration": 21,
    "start_time": "2022-04-16T21:22:00.421Z"
   },
   {
    "duration": 391,
    "start_time": "2022-04-16T21:22:00.444Z"
   },
   {
    "duration": 362,
    "start_time": "2022-04-16T21:22:00.838Z"
   },
   {
    "duration": 325,
    "start_time": "2022-04-16T21:22:01.202Z"
   },
   {
    "duration": 9,
    "start_time": "2022-04-16T21:22:01.529Z"
   },
   {
    "duration": 336,
    "start_time": "2022-04-16T21:22:01.540Z"
   },
   {
    "duration": 16,
    "start_time": "2022-04-16T21:22:01.878Z"
   },
   {
    "duration": 18,
    "start_time": "2022-04-16T21:22:01.897Z"
   },
   {
    "duration": 412,
    "start_time": "2022-04-16T21:22:01.918Z"
   },
   {
    "duration": 467,
    "start_time": "2022-04-16T21:22:02.333Z"
   },
   {
    "duration": 9,
    "start_time": "2022-04-16T21:22:02.803Z"
   },
   {
    "duration": 478,
    "start_time": "2022-04-16T21:22:02.815Z"
   },
   {
    "duration": 9,
    "start_time": "2022-04-16T21:22:03.296Z"
   },
   {
    "duration": 21,
    "start_time": "2022-04-16T21:22:03.307Z"
   },
   {
    "duration": 137,
    "start_time": "2022-04-16T21:22:03.330Z"
   },
   {
    "duration": 413,
    "start_time": "2022-04-16T21:22:03.470Z"
   },
   {
    "duration": 13,
    "start_time": "2022-04-16T21:22:03.885Z"
   },
   {
    "duration": 396,
    "start_time": "2022-04-16T21:22:03.900Z"
   },
   {
    "duration": 9,
    "start_time": "2022-04-16T21:22:04.299Z"
   },
   {
    "duration": 21,
    "start_time": "2022-04-16T21:22:04.310Z"
   },
   {
    "duration": 17,
    "start_time": "2022-04-16T21:22:04.333Z"
   },
   {
    "duration": 440,
    "start_time": "2022-04-16T21:22:04.353Z"
   },
   {
    "duration": 8,
    "start_time": "2022-04-16T21:22:04.795Z"
   },
   {
    "duration": 378,
    "start_time": "2022-04-16T21:22:04.806Z"
   },
   {
    "duration": 8,
    "start_time": "2022-04-16T21:22:05.192Z"
   },
   {
    "duration": 17,
    "start_time": "2022-04-16T21:22:05.202Z"
   },
   {
    "duration": 13,
    "start_time": "2022-04-16T21:22:05.222Z"
   },
   {
    "duration": 3536,
    "start_time": "2022-04-16T21:22:05.237Z"
   },
   {
    "duration": 0,
    "start_time": "2022-04-16T21:22:08.775Z"
   },
   {
    "duration": 0,
    "start_time": "2022-04-16T21:22:08.777Z"
   },
   {
    "duration": 0,
    "start_time": "2022-04-16T21:22:08.779Z"
   },
   {
    "duration": 0,
    "start_time": "2022-04-16T21:22:08.780Z"
   },
   {
    "duration": 1,
    "start_time": "2022-04-16T21:22:08.781Z"
   },
   {
    "duration": 0,
    "start_time": "2022-04-16T21:22:08.783Z"
   },
   {
    "duration": 0,
    "start_time": "2022-04-16T21:22:08.784Z"
   },
   {
    "duration": 0,
    "start_time": "2022-04-16T21:22:08.785Z"
   },
   {
    "duration": 4,
    "start_time": "2022-04-16T21:22:47.277Z"
   },
   {
    "duration": 7,
    "start_time": "2022-04-16T21:22:49.211Z"
   },
   {
    "duration": 3,
    "start_time": "2022-04-16T21:22:50.022Z"
   },
   {
    "duration": 7,
    "start_time": "2022-04-16T21:22:54.303Z"
   },
   {
    "duration": 7,
    "start_time": "2022-04-16T21:22:55.763Z"
   },
   {
    "duration": 8,
    "start_time": "2022-04-16T21:22:57.109Z"
   },
   {
    "duration": 3231,
    "start_time": "2022-04-16T21:22:58.018Z"
   },
   {
    "duration": 0,
    "start_time": "2022-04-16T21:23:01.251Z"
   },
   {
    "duration": 1145,
    "start_time": "2022-04-16T21:49:43.111Z"
   },
   {
    "duration": 1151,
    "start_time": "2022-04-16T21:49:44.258Z"
   },
   {
    "duration": 3,
    "start_time": "2022-04-16T21:49:45.410Z"
   },
   {
    "duration": 5,
    "start_time": "2022-04-16T21:49:45.415Z"
   },
   {
    "duration": 58,
    "start_time": "2022-04-16T21:49:45.422Z"
   },
   {
    "duration": 51,
    "start_time": "2022-04-16T21:49:45.482Z"
   },
   {
    "duration": 9,
    "start_time": "2022-04-16T21:49:45.534Z"
   },
   {
    "duration": 11,
    "start_time": "2022-04-16T21:49:45.545Z"
   },
   {
    "duration": 81,
    "start_time": "2022-04-16T21:49:45.558Z"
   },
   {
    "duration": 3,
    "start_time": "2022-04-16T21:49:45.642Z"
   },
   {
    "duration": 11,
    "start_time": "2022-04-16T21:49:45.647Z"
   },
   {
    "duration": 14,
    "start_time": "2022-04-16T21:49:45.659Z"
   },
   {
    "duration": 27,
    "start_time": "2022-04-16T21:49:45.674Z"
   },
   {
    "duration": 5,
    "start_time": "2022-04-16T21:49:45.702Z"
   },
   {
    "duration": 8,
    "start_time": "2022-04-16T21:49:45.708Z"
   },
   {
    "duration": 14,
    "start_time": "2022-04-16T21:49:45.718Z"
   },
   {
    "duration": 9,
    "start_time": "2022-04-16T21:49:45.734Z"
   },
   {
    "duration": 10,
    "start_time": "2022-04-16T21:49:45.744Z"
   },
   {
    "duration": 57,
    "start_time": "2022-04-16T21:49:45.755Z"
   },
   {
    "duration": 9,
    "start_time": "2022-04-16T21:49:45.814Z"
   },
   {
    "duration": 8,
    "start_time": "2022-04-16T21:49:45.824Z"
   },
   {
    "duration": 6,
    "start_time": "2022-04-16T21:49:45.834Z"
   },
   {
    "duration": 8,
    "start_time": "2022-04-16T21:49:45.842Z"
   },
   {
    "duration": 11,
    "start_time": "2022-04-16T21:49:45.851Z"
   },
   {
    "duration": 45,
    "start_time": "2022-04-16T21:49:45.863Z"
   },
   {
    "duration": 9,
    "start_time": "2022-04-16T21:49:45.909Z"
   },
   {
    "duration": 8,
    "start_time": "2022-04-16T21:49:45.920Z"
   },
   {
    "duration": 16,
    "start_time": "2022-04-16T21:49:45.934Z"
   },
   {
    "duration": 14,
    "start_time": "2022-04-16T21:49:45.952Z"
   },
   {
    "duration": 11,
    "start_time": "2022-04-16T21:49:46.000Z"
   },
   {
    "duration": 11,
    "start_time": "2022-04-16T21:49:46.013Z"
   },
   {
    "duration": 41,
    "start_time": "2022-04-16T21:49:46.026Z"
   },
   {
    "duration": 8,
    "start_time": "2022-04-16T21:49:46.069Z"
   },
   {
    "duration": 7,
    "start_time": "2022-04-16T21:49:46.100Z"
   },
   {
    "duration": 20,
    "start_time": "2022-04-16T21:49:46.109Z"
   },
   {
    "duration": 45,
    "start_time": "2022-04-16T21:49:46.131Z"
   },
   {
    "duration": 47,
    "start_time": "2022-04-16T21:49:46.177Z"
   },
   {
    "duration": 33,
    "start_time": "2022-04-16T21:49:46.225Z"
   },
   {
    "duration": 11,
    "start_time": "2022-04-16T21:49:46.259Z"
   },
   {
    "duration": 31,
    "start_time": "2022-04-16T21:49:46.272Z"
   },
   {
    "duration": 22,
    "start_time": "2022-04-16T21:49:46.304Z"
   },
   {
    "duration": 7,
    "start_time": "2022-04-16T21:49:46.327Z"
   },
   {
    "duration": 11,
    "start_time": "2022-04-16T21:49:46.335Z"
   },
   {
    "duration": 19,
    "start_time": "2022-04-16T21:49:46.347Z"
   },
   {
    "duration": 22,
    "start_time": "2022-04-16T21:49:46.367Z"
   },
   {
    "duration": 14,
    "start_time": "2022-04-16T21:49:46.391Z"
   },
   {
    "duration": 15,
    "start_time": "2022-04-16T21:49:46.406Z"
   },
   {
    "duration": 54,
    "start_time": "2022-04-16T21:49:46.423Z"
   },
   {
    "duration": 14,
    "start_time": "2022-04-16T21:49:46.479Z"
   },
   {
    "duration": 10,
    "start_time": "2022-04-16T21:49:46.494Z"
   },
   {
    "duration": 5,
    "start_time": "2022-04-16T21:49:46.506Z"
   },
   {
    "duration": 8,
    "start_time": "2022-04-16T21:49:46.512Z"
   },
   {
    "duration": 180,
    "start_time": "2022-04-16T21:49:46.521Z"
   },
   {
    "duration": 183,
    "start_time": "2022-04-16T21:49:46.703Z"
   },
   {
    "duration": 167,
    "start_time": "2022-04-16T21:49:46.887Z"
   },
   {
    "duration": 6,
    "start_time": "2022-04-16T21:49:47.056Z"
   },
   {
    "duration": 164,
    "start_time": "2022-04-16T21:49:47.063Z"
   },
   {
    "duration": 5,
    "start_time": "2022-04-16T21:49:47.229Z"
   },
   {
    "duration": 13,
    "start_time": "2022-04-16T21:49:47.236Z"
   },
   {
    "duration": 207,
    "start_time": "2022-04-16T21:49:47.251Z"
   },
   {
    "duration": 187,
    "start_time": "2022-04-16T21:49:47.459Z"
   },
   {
    "duration": 6,
    "start_time": "2022-04-16T21:49:47.647Z"
   },
   {
    "duration": 203,
    "start_time": "2022-04-16T21:49:47.655Z"
   },
   {
    "duration": 5,
    "start_time": "2022-04-16T21:49:47.860Z"
   },
   {
    "duration": 12,
    "start_time": "2022-04-16T21:49:47.867Z"
   },
   {
    "duration": 95,
    "start_time": "2022-04-16T21:49:47.880Z"
   },
   {
    "duration": 163,
    "start_time": "2022-04-16T21:49:47.977Z"
   },
   {
    "duration": 5,
    "start_time": "2022-04-16T21:49:48.142Z"
   },
   {
    "duration": 161,
    "start_time": "2022-04-16T21:49:48.148Z"
   },
   {
    "duration": 5,
    "start_time": "2022-04-16T21:49:48.310Z"
   },
   {
    "duration": 8,
    "start_time": "2022-04-16T21:49:48.317Z"
   },
   {
    "duration": 8,
    "start_time": "2022-04-16T21:49:48.326Z"
   },
   {
    "duration": 166,
    "start_time": "2022-04-16T21:49:48.336Z"
   },
   {
    "duration": 5,
    "start_time": "2022-04-16T21:49:48.504Z"
   },
   {
    "duration": 151,
    "start_time": "2022-04-16T21:49:48.510Z"
   },
   {
    "duration": 5,
    "start_time": "2022-04-16T21:49:48.663Z"
   },
   {
    "duration": 8,
    "start_time": "2022-04-16T21:49:48.669Z"
   },
   {
    "duration": 25,
    "start_time": "2022-04-16T21:49:48.678Z"
   },
   {
    "duration": 8,
    "start_time": "2022-04-16T21:49:48.704Z"
   },
   {
    "duration": 6,
    "start_time": "2022-04-16T21:49:48.713Z"
   },
   {
    "duration": 6,
    "start_time": "2022-04-16T21:49:48.720Z"
   },
   {
    "duration": 4,
    "start_time": "2022-04-16T21:49:48.731Z"
   },
   {
    "duration": 4,
    "start_time": "2022-04-16T21:49:48.736Z"
   },
   {
    "duration": 6,
    "start_time": "2022-04-16T21:49:48.741Z"
   },
   {
    "duration": 3099,
    "start_time": "2022-04-16T21:49:48.748Z"
   },
   {
    "duration": 0,
    "start_time": "2022-04-16T21:49:51.848Z"
   },
   {
    "duration": 0,
    "start_time": "2022-04-16T21:49:51.849Z"
   },
   {
    "duration": 1129,
    "start_time": "2022-04-16T22:13:43.847Z"
   },
   {
    "duration": 954,
    "start_time": "2022-04-16T22:13:44.978Z"
   },
   {
    "duration": 3,
    "start_time": "2022-04-16T22:13:45.933Z"
   },
   {
    "duration": 7,
    "start_time": "2022-04-16T22:13:45.937Z"
   },
   {
    "duration": 55,
    "start_time": "2022-04-16T22:13:45.945Z"
   },
   {
    "duration": 37,
    "start_time": "2022-04-16T22:13:46.002Z"
   },
   {
    "duration": 9,
    "start_time": "2022-04-16T22:13:46.040Z"
   },
   {
    "duration": 11,
    "start_time": "2022-04-16T22:13:46.050Z"
   },
   {
    "duration": 74,
    "start_time": "2022-04-16T22:13:46.063Z"
   },
   {
    "duration": 3,
    "start_time": "2022-04-16T22:13:46.139Z"
   },
   {
    "duration": 17,
    "start_time": "2022-04-16T22:13:46.143Z"
   },
   {
    "duration": 12,
    "start_time": "2022-04-16T22:13:46.162Z"
   },
   {
    "duration": 29,
    "start_time": "2022-04-16T22:13:46.176Z"
   },
   {
    "duration": 6,
    "start_time": "2022-04-16T22:13:46.206Z"
   },
   {
    "duration": 8,
    "start_time": "2022-04-16T22:13:46.214Z"
   },
   {
    "duration": 17,
    "start_time": "2022-04-16T22:13:46.223Z"
   },
   {
    "duration": 11,
    "start_time": "2022-04-16T22:13:46.241Z"
   },
   {
    "duration": 13,
    "start_time": "2022-04-16T22:13:46.254Z"
   },
   {
    "duration": 66,
    "start_time": "2022-04-16T22:13:46.268Z"
   },
   {
    "duration": 9,
    "start_time": "2022-04-16T22:13:46.336Z"
   },
   {
    "duration": 8,
    "start_time": "2022-04-16T22:13:46.347Z"
   },
   {
    "duration": 8,
    "start_time": "2022-04-16T22:13:46.357Z"
   },
   {
    "duration": 42,
    "start_time": "2022-04-16T22:13:46.366Z"
   },
   {
    "duration": 12,
    "start_time": "2022-04-16T22:13:46.409Z"
   },
   {
    "duration": 15,
    "start_time": "2022-04-16T22:13:46.423Z"
   },
   {
    "duration": 8,
    "start_time": "2022-04-16T22:13:46.439Z"
   },
   {
    "duration": 9,
    "start_time": "2022-04-16T22:13:46.449Z"
   },
   {
    "duration": 50,
    "start_time": "2022-04-16T22:13:46.462Z"
   },
   {
    "duration": 15,
    "start_time": "2022-04-16T22:13:46.514Z"
   },
   {
    "duration": 13,
    "start_time": "2022-04-16T22:13:46.531Z"
   },
   {
    "duration": 12,
    "start_time": "2022-04-16T22:13:46.546Z"
   },
   {
    "duration": 66,
    "start_time": "2022-04-16T22:13:46.559Z"
   },
   {
    "duration": 8,
    "start_time": "2022-04-16T22:13:46.626Z"
   },
   {
    "duration": 8,
    "start_time": "2022-04-16T22:13:46.635Z"
   },
   {
    "duration": 16,
    "start_time": "2022-04-16T22:13:46.644Z"
   },
   {
    "duration": 60,
    "start_time": "2022-04-16T22:13:46.661Z"
   },
   {
    "duration": 28,
    "start_time": "2022-04-16T22:13:46.722Z"
   },
   {
    "duration": 31,
    "start_time": "2022-04-16T22:13:46.751Z"
   },
   {
    "duration": 26,
    "start_time": "2022-04-16T22:13:46.783Z"
   },
   {
    "duration": 9,
    "start_time": "2022-04-16T22:13:46.811Z"
   },
   {
    "duration": 22,
    "start_time": "2022-04-16T22:13:46.822Z"
   },
   {
    "duration": 6,
    "start_time": "2022-04-16T22:13:46.845Z"
   },
   {
    "duration": 4,
    "start_time": "2022-04-16T22:13:46.853Z"
   },
   {
    "duration": 9,
    "start_time": "2022-04-16T22:13:46.858Z"
   },
   {
    "duration": 44,
    "start_time": "2022-04-16T22:13:46.868Z"
   },
   {
    "duration": 9,
    "start_time": "2022-04-16T22:13:46.913Z"
   },
   {
    "duration": 6,
    "start_time": "2022-04-16T22:13:46.924Z"
   },
   {
    "duration": 47,
    "start_time": "2022-04-16T22:13:46.932Z"
   },
   {
    "duration": 31,
    "start_time": "2022-04-16T22:13:46.981Z"
   },
   {
    "duration": 6,
    "start_time": "2022-04-16T22:13:47.014Z"
   },
   {
    "duration": 3,
    "start_time": "2022-04-16T22:13:47.022Z"
   },
   {
    "duration": 8,
    "start_time": "2022-04-16T22:13:47.026Z"
   },
   {
    "duration": 208,
    "start_time": "2022-04-16T22:13:47.036Z"
   },
   {
    "duration": 186,
    "start_time": "2022-04-16T22:13:47.245Z"
   },
   {
    "duration": 170,
    "start_time": "2022-04-16T22:13:47.433Z"
   },
   {
    "duration": 6,
    "start_time": "2022-04-16T22:13:47.605Z"
   },
   {
    "duration": 173,
    "start_time": "2022-04-16T22:13:47.612Z"
   },
   {
    "duration": 5,
    "start_time": "2022-04-16T22:13:47.787Z"
   },
   {
    "duration": 13,
    "start_time": "2022-04-16T22:13:47.801Z"
   },
   {
    "duration": 221,
    "start_time": "2022-04-16T22:13:47.816Z"
   },
   {
    "duration": 184,
    "start_time": "2022-04-16T22:13:48.039Z"
   },
   {
    "duration": 7,
    "start_time": "2022-04-16T22:13:48.224Z"
   },
   {
    "duration": 191,
    "start_time": "2022-04-16T22:13:48.232Z"
   },
   {
    "duration": 5,
    "start_time": "2022-04-16T22:13:48.425Z"
   },
   {
    "duration": 10,
    "start_time": "2022-04-16T22:13:48.432Z"
   },
   {
    "duration": 104,
    "start_time": "2022-04-16T22:13:48.444Z"
   },
   {
    "duration": 167,
    "start_time": "2022-04-16T22:13:48.550Z"
   },
   {
    "duration": 5,
    "start_time": "2022-04-16T22:13:48.719Z"
   },
   {
    "duration": 163,
    "start_time": "2022-04-16T22:13:48.725Z"
   },
   {
    "duration": 11,
    "start_time": "2022-04-16T22:13:48.889Z"
   },
   {
    "duration": 9,
    "start_time": "2022-04-16T22:13:48.902Z"
   },
   {
    "duration": 8,
    "start_time": "2022-04-16T22:13:48.913Z"
   },
   {
    "duration": 162,
    "start_time": "2022-04-16T22:13:48.922Z"
   },
   {
    "duration": 5,
    "start_time": "2022-04-16T22:13:49.086Z"
   },
   {
    "duration": 142,
    "start_time": "2022-04-16T22:13:49.099Z"
   },
   {
    "duration": 5,
    "start_time": "2022-04-16T22:13:49.243Z"
   },
   {
    "duration": 9,
    "start_time": "2022-04-16T22:13:49.249Z"
   },
   {
    "duration": 6,
    "start_time": "2022-04-16T22:13:49.259Z"
   },
   {
    "duration": 5,
    "start_time": "2022-04-16T22:13:49.267Z"
   },
   {
    "duration": 28,
    "start_time": "2022-04-16T22:13:49.273Z"
   },
   {
    "duration": 2,
    "start_time": "2022-04-16T22:13:49.302Z"
   },
   {
    "duration": 5,
    "start_time": "2022-04-16T22:13:49.309Z"
   },
   {
    "duration": 5,
    "start_time": "2022-04-16T22:13:49.315Z"
   },
   {
    "duration": 6,
    "start_time": "2022-04-16T22:13:49.321Z"
   },
   {
    "duration": 6,
    "start_time": "2022-04-16T22:13:49.329Z"
   },
   {
    "duration": 5,
    "start_time": "2022-04-16T22:13:49.336Z"
   },
   {
    "duration": 15,
    "start_time": "2022-04-16T22:13:49.342Z"
   }
  ],
  "kernelspec": {
   "display_name": "Python 3",
   "language": "python",
   "name": "python3"
  },
  "language_info": {
   "codemirror_mode": {
    "name": "ipython",
    "version": 3
   },
   "file_extension": ".py",
   "mimetype": "text/x-python",
   "name": "python",
   "nbconvert_exporter": "python",
   "pygments_lexer": "ipython3",
   "version": "3.8.5"
  },
  "toc": {
   "base_numbering": 1,
   "nav_menu": {},
   "number_sections": true,
   "sideBar": false,
   "skip_h1_title": false,
   "title_cell": "Table of Contents",
   "title_sidebar": "Contents",
   "toc_cell": false,
   "toc_position": {
    "height": "calc(100% - 180px)",
    "left": "10px",
    "top": "150px",
    "width": "167px"
   },
   "toc_section_display": true,
   "toc_window_display": true
  }
 },
 "nbformat": 4,
 "nbformat_minor": 2
}
